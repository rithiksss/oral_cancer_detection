{
  "nbformat": 4,
  "nbformat_minor": 0,
  "metadata": {
    "colab": {
      "provenance": [],
      "gpuType": "T4",
      "mount_file_id": "11bpIFT1Cq2HyTcdQAUnEIhBpLEj5uqdC",
      "authorship_tag": "ABX9TyOZVKo3AluvD/ksfWpB6OrO",
      "include_colab_link": true
    },
    "kernelspec": {
      "name": "python3",
      "display_name": "Python 3"
    },
    "language_info": {
      "name": "python"
    },
    "accelerator": "GPU"
  },
  "cells": [
    {
      "cell_type": "markdown",
      "metadata": {
        "id": "view-in-github",
        "colab_type": "text"
      },
      "source": [
        "<a href=\"https://colab.research.google.com/github/rithiksss/oral_cancer_detection/blob/main/oralcancer.ipynb\" target=\"_parent\"><img src=\"https://colab.research.google.com/assets/colab-badge.svg\" alt=\"Open In Colab\"/></a>"
      ]
    },
    {
      "cell_type": "code",
      "source": [
        "import pandas as pd\n",
        "\n",
        "# Function to generate a dataset\n",
        "def generate_dataset(category, num_images=500):\n",
        "    data = []\n",
        "\n",
        "    for i in range(1, num_images + 1):\n",
        "        img_id = f\"{i:03d}.jpeg\"\n",
        "        patho_img_id = f\"patho_{i:03d}.jpeg\"  # Assuming similar naming for pathological images\n",
        "        cancer_status = \"Cancer\" if category == \"cancer\" else \"Non-Cancer\"\n",
        "\n",
        "        # Leave metadata empty for manual entry\n",
        "        data.append([img_id, patho_img_id, cancer_status, \"\", \"\", \"\"])\n",
        "\n",
        "    return pd.DataFrame(data, columns=[\"Image_ID\", \"Pathological_Image_ID\", \"Cancer_Status\", \"Smoking\", \"Age\", \"Precancerous_Lesions\"])\n",
        "\n",
        "# Generate cancer and non-cancer datasets\n",
        "cancer_df = generate_dataset(\"cancer\")\n",
        "non_cancer_df = generate_dataset(\"non_cancer\")\n",
        "\n",
        "# Save as CSV files\n",
        "cancer_df.to_csv(\"cancer_data.csv\", index=False)\n",
        "non_cancer_df.to_csv(\"non_cancer_data.csv\", index=False)\n",
        "\n",
        "print(\"✅ Cancer and Non-Cancer CSV files created. \")\n"
      ],
      "metadata": {
        "colab": {
          "base_uri": "https://localhost:8080/"
        },
        "id": "iIfLF6C8qD3P",
        "outputId": "c87c018d-fabd-4c38-e6fe-c9f265ba58bc"
      },
      "execution_count": null,
      "outputs": [
        {
          "output_type": "stream",
          "name": "stdout",
          "text": [
            "✅ Cancer and Non-Cancer CSV files created. You can now update metadata manually.\n"
          ]
        }
      ]
    },
    {
      "cell_type": "code",
      "source": [
        "import pandas as pd\n",
        "import numpy as np\n",
        "import random\n",
        "\n",
        "def generate_metadata(category, num_images=500):\n",
        "    data = []\n",
        "\n",
        "    for i in range(1, num_images + 1):\n",
        "        img_id = f\"{i:03d}.jpeg\"\n",
        "        patho_img_id = f\"patho_{i:03d}.jpeg\"\n",
        "        cancer_status = \"Cancer\" if category == \"cancer\" else \"Non-Cancer\"\n",
        "\n",
        "        smoking_prob = 0.85 if category == \"cancer\" else 0.20\n",
        "        precancerous_prob = 0.70 if category == \"cancer\" else 0.10\n",
        "\n",
        "\n",
        "        smoking = \"Yes\" if random.random() < smoking_prob else \"No\"\n",
        "        age = np.random.normal(loc=55 if category == \"cancer\" else 35, scale=10)\n",
        "        age = int(max(20, min(80, age)))  # Keep age within range\n",
        "        precancerous = \"Yes\" if random.random() < precancerous_prob else \"No\"\n",
        "\n",
        "        data.append([img_id, patho_img_id, cancer_status, smoking, age, precancerous])\n",
        "\n",
        "    return pd.DataFrame(data, columns=[\"Image_ID\", \"Pathological_Image_ID\", \"Cancer_Status\", \"Smoking\", \"Age\", \"Precancerous_Lesions\"])\n",
        "\n",
        "cancer_df = generate_metadata(\"cancer\")\n",
        "non_cancer_df = generate_metadata(\"non_cancer\")\n",
        "\n",
        "cancer_df.to_csv(\"cancer_data.csv\", index=False)\n",
        "non_cancer_df.to_csv(\"non_cancer_data.csv\", index=False)\n",
        "\n",
        "print(\"Cancer and Non-Cancer CSV files created\" )\n"
      ],
      "metadata": {
        "colab": {
          "base_uri": "https://localhost:8080/"
        },
        "id": "E1-gkFCzrP7X",
        "outputId": "c396f6f5-8877-4bb5-962a-e9290615e615"
      },
      "execution_count": null,
      "outputs": [
        {
          "output_type": "stream",
          "name": "stdout",
          "text": [
            "Cancer and Non-Cancer CSV files created\n"
          ]
        }
      ]
    },
    {
      "cell_type": "code",
      "source": [
        "import pandas as pd\n",
        "\n",
        "# Load the existing CSV files\n",
        "cancer_df = pd.read_csv('cancer_data.csv')\n",
        "non_cancer_df = pd.read_csv('non_cancer_data.csv')\n",
        "\n",
        "# Drop the 'Pathological_Image_ID' column if it exists\n",
        "cancer_df = cancer_df.drop(columns=['Pathological_Image_ID'], errors='ignore')\n",
        "non_cancer_df = non_cancer_df.drop(columns=['Pathological_Image_ID'], errors='ignore')\n",
        "\n",
        "# Save the updated CSV files without the dropped column\n",
        "cancer_df.to_csv('cancer_data.csv', index=False)\n",
        "non_cancer_df.to_csv('non_cancer_data.csv', index=False)\n",
        "\n",
        "print(\"Pathological_Image_ID' column has been dropped from both CSV files!\")\n"
      ],
      "metadata": {
        "id": "jm18rvO1uT_P",
        "colab": {
          "base_uri": "https://localhost:8080/"
        },
        "outputId": "849853f1-d14b-4fa3-c8f0-629d15c29589"
      },
      "execution_count": null,
      "outputs": [
        {
          "output_type": "stream",
          "name": "stdout",
          "text": [
            "Pathological_Image_ID' column has been dropped from both CSV files!\n"
          ]
        }
      ]
    },
    {
      "cell_type": "code",
      "source": [
        "pip install opencv-python\n"
      ],
      "metadata": {
        "colab": {
          "base_uri": "https://localhost:8080/"
        },
        "id": "4eo9MP1RGl_B",
        "outputId": "a7cabb32-83c0-4631-e7cf-4ae7b3b5d88a"
      },
      "execution_count": null,
      "outputs": [
        {
          "output_type": "stream",
          "name": "stdout",
          "text": [
            "Requirement already satisfied: opencv-python in /usr/local/lib/python3.11/dist-packages (4.10.0.84)\n",
            "Requirement already satisfied: numpy>=1.21.2 in /usr/local/lib/python3.11/dist-packages (from opencv-python) (1.26.4)\n"
          ]
        }
      ]
    },
    {
      "cell_type": "code",
      "source": [
        "import os\n",
        "import cv2\n",
        "\n",
        "# Define input and output directories\n",
        "base_dir = \"/content/drive/MyDrive/oralcancerdatasets\"  # Change to your actual dataset directory\n",
        "folders = [\"CANCER\", \"NON CANCER\"]  # List of subfolders containing images\n",
        "output_size = (224, 224)  # Change to (512,512) if needed\n",
        "\n",
        "def resize_images(input_folder):\n",
        "    \"\"\"Resizes all images in a folder to the specified output size.\"\"\"\n",
        "    image_folder = os.path.join(base_dir, input_folder)\n",
        "\n",
        "    for img_name in os.listdir(image_folder):\n",
        "        img_path = os.path.join(image_folder, img_name)\n",
        "\n",
        "        # Check if it's an image file\n",
        "        if img_name.lower().endswith((\".jpg\", \".jpeg\", \".png\")):\n",
        "            img = cv2.imread(img_path)\n",
        "\n",
        "            if img is not None:\n",
        "                resized_img = cv2.resize(img, output_size)\n",
        "                cv2.imwrite(img_path, resized_img)  # Overwrite with resized image\n",
        "                print(f\" Resized: {img_name} -> {output_size}\")\n",
        "            else:\n",
        "                print(f\"⚠️ Could not read: {img_name}\")\n",
        "\n",
        "# Process both folders\n",
        "for folder in folders:\n",
        "    resize_images(folder)\n",
        "\n",
        "print(\"All images resized successfully!\")\n"
      ],
      "metadata": {
        "colab": {
          "base_uri": "https://localhost:8080/"
        },
        "id": "Vt-FgXDEG_ZI",
        "outputId": "dba6e6ef-3b2f-4b5e-b813-06879ea3ad6e"
      },
      "execution_count": null,
      "outputs": [
        {
          "output_type": "stream",
          "name": "stdout",
          "text": [
            "✅ Resized: 012.jpeg -> (224, 224)\n",
            "✅ Resized: 041.jpeg -> (224, 224)\n",
            "✅ Resized: 010.jpeg -> (224, 224)\n",
            "✅ Resized: 007.jpeg -> (224, 224)\n",
            "✅ Resized: 003.jpeg -> (224, 224)\n",
            "✅ Resized: 001.jpeg -> (224, 224)\n",
            "✅ Resized: 040.jpeg -> (224, 224)\n",
            "✅ Resized: 009.jpeg -> (224, 224)\n",
            "✅ Resized: 008.jpeg -> (224, 224)\n",
            "✅ Resized: 005.jpeg -> (224, 224)\n",
            "✅ Resized: 006.jpeg -> (224, 224)\n",
            "✅ Resized: 004.jpeg -> (224, 224)\n",
            "✅ Resized: 002.jpeg -> (224, 224)\n",
            "✅ Resized: 045.jpeg -> (224, 224)\n",
            "✅ Resized: 042.jpeg -> (224, 224)\n",
            "✅ Resized: 043.jpeg -> (224, 224)\n",
            "✅ Resized: 039.jpeg -> (224, 224)\n",
            "✅ Resized: 038.jpeg -> (224, 224)\n",
            "✅ Resized: 048.jpeg -> (224, 224)\n",
            "✅ Resized: 044.jpeg -> (224, 224)\n",
            "✅ Resized: 037.jpeg -> (224, 224)\n",
            "✅ Resized: 035.jpeg -> (224, 224)\n",
            "✅ Resized: 346.jpeg -> (224, 224)\n",
            "✅ Resized: 047.jpeg -> (224, 224)\n",
            "✅ Resized: 028.jpeg -> (224, 224)\n",
            "✅ Resized: 029.jpeg -> (224, 224)\n",
            "✅ Resized: 027.jpeg -> (224, 224)\n",
            "✅ Resized: 026.jpeg -> (224, 224)\n",
            "✅ Resized: 031.jpeg -> (224, 224)\n",
            "✅ Resized: 033.jpeg -> (224, 224)\n",
            "✅ Resized: 079.jpeg -> (224, 224)\n",
            "✅ Resized: 036.jpeg -> (224, 224)\n",
            "✅ Resized: 034.jpeg -> (224, 224)\n",
            "✅ Resized: 022.jpeg -> (224, 224)\n",
            "✅ Resized: 030.jpeg -> (224, 224)\n",
            "✅ Resized: 025.jpeg -> (224, 224)\n",
            "✅ Resized: 023.jpeg -> (224, 224)\n",
            "✅ Resized: 062.jpeg -> (224, 224)\n",
            "✅ Resized: 061.jpeg -> (224, 224)\n",
            "✅ Resized: 032.jpeg -> (224, 224)\n",
            "✅ Resized: 024.jpeg -> (224, 224)\n",
            "✅ Resized: 011.jpeg -> (224, 224)\n",
            "✅ Resized: 013.jpeg -> (224, 224)\n",
            "✅ Resized: 018.jpeg -> (224, 224)\n",
            "✅ Resized: 020.jpeg -> (224, 224)\n",
            "✅ Resized: 046.jpeg -> (224, 224)\n",
            "✅ Resized: 015.jpeg -> (224, 224)\n",
            "✅ Resized: 016.jpeg -> (224, 224)\n",
            "✅ Resized: 014.jpeg -> (224, 224)\n",
            "✅ Resized: 019.jpeg -> (224, 224)\n",
            "✅ Resized: 017.jpeg -> (224, 224)\n",
            "✅ Resized: 021.jpeg -> (224, 224)\n",
            "✅ Resized: 087.jpeg -> (224, 224)\n",
            "✅ Resized: 076.jpeg -> (224, 224)\n",
            "✅ Resized: 075.jpeg -> (224, 224)\n",
            "✅ Resized: 084.jpeg -> (224, 224)\n",
            "✅ Resized: 077.jpeg -> (224, 224)\n",
            "✅ Resized: 086.jpeg -> (224, 224)\n",
            "✅ Resized: 069.jpeg -> (224, 224)\n",
            "✅ Resized: 065.jpeg -> (224, 224)\n",
            "✅ Resized: 066.jpeg -> (224, 224)\n",
            "✅ Resized: 070.jpeg -> (224, 224)\n",
            "✅ Resized: 071.jpeg -> (224, 224)\n",
            "✅ Resized: 067.jpeg -> (224, 224)\n",
            "✅ Resized: 068.jpeg -> (224, 224)\n",
            "✅ Resized: 072.jpeg -> (224, 224)\n",
            "✅ Resized: 073.jpeg -> (224, 224)\n",
            "✅ Resized: 395.jpeg -> (224, 224)\n",
            "✅ Resized: 074.jpeg -> (224, 224)\n",
            "✅ Resized: 064.jpeg -> (224, 224)\n",
            "✅ Resized: 051.jpeg -> (224, 224)\n",
            "✅ Resized: 054.jpeg -> (224, 224)\n",
            "✅ Resized: 056.jpeg -> (224, 224)\n",
            "✅ Resized: 053.jpeg -> (224, 224)\n",
            "✅ Resized: 055.jpeg -> (224, 224)\n",
            "✅ Resized: 058.jpeg -> (224, 224)\n",
            "✅ Resized: 052.jpeg -> (224, 224)\n",
            "✅ Resized: 060.jpeg -> (224, 224)\n",
            "✅ Resized: 063.jpeg -> (224, 224)\n",
            "✅ Resized: 393.jpeg -> (224, 224)\n",
            "✅ Resized: 050.jpeg -> (224, 224)\n",
            "✅ Resized: 351.jpeg -> (224, 224)\n",
            "✅ Resized: 049.jpeg -> (224, 224)\n",
            "✅ Resized: 059.jpeg -> (224, 224)\n",
            "✅ Resized: 057.jpeg -> (224, 224)\n",
            "✅ Resized: 383.jpeg -> (224, 224)\n",
            "✅ Resized: 085.jpeg -> (224, 224)\n",
            "✅ Resized: 088.jpeg -> (224, 224)\n",
            "✅ Resized: 080.jpeg -> (224, 224)\n",
            "✅ Resized: 078.jpeg -> (224, 224)\n",
            "✅ Resized: 081.jpeg -> (224, 224)\n",
            "✅ Resized: 083.jpeg -> (224, 224)\n",
            "✅ Resized: 082.jpeg -> (224, 224)\n",
            "✅ Resized: 422.jpeg -> (224, 224)\n",
            "✅ Resized: 427.jpeg -> (224, 224)\n",
            "✅ Resized: 111.jpeg -> (224, 224)\n",
            "✅ Resized: 471.jpeg -> (224, 224)\n",
            "✅ Resized: 112.jpeg -> (224, 224)\n",
            "✅ Resized: 113.jpeg -> (224, 224)\n",
            "✅ Resized: 108.jpeg -> (224, 224)\n",
            "✅ Resized: 107.jpeg -> (224, 224)\n",
            "✅ Resized: 105.jpeg -> (224, 224)\n",
            "✅ Resized: 106.jpeg -> (224, 224)\n",
            "✅ Resized: 104.jpeg -> (224, 224)\n",
            "✅ Resized: 102.jpeg -> (224, 224)\n",
            "✅ Resized: 426.jpeg -> (224, 224)\n",
            "✅ Resized: 101.jpeg -> (224, 224)\n",
            "✅ Resized: 098.jpeg -> (224, 224)\n",
            "✅ Resized: 100.jpeg -> (224, 224)\n",
            "✅ Resized: 103.jpeg -> (224, 224)\n",
            "✅ Resized: 093.jpeg -> (224, 224)\n",
            "✅ Resized: 090.jpeg -> (224, 224)\n",
            "✅ Resized: 092.jpeg -> (224, 224)\n",
            "✅ Resized: 423.jpeg -> (224, 224)\n",
            "✅ Resized: 091.jpeg -> (224, 224)\n",
            "✅ Resized: 094.jpeg -> (224, 224)\n",
            "✅ Resized: 097.jpeg -> (224, 224)\n",
            "✅ Resized: 095.jpeg -> (224, 224)\n",
            "✅ Resized: 096.jpeg -> (224, 224)\n",
            "✅ Resized: 099.jpeg -> (224, 224)\n",
            "✅ Resized: 089.jpeg -> (224, 224)\n",
            "✅ Resized: 137.jpeg -> (224, 224)\n",
            "✅ Resized: 131.jpeg -> (224, 224)\n",
            "✅ Resized: 129.jpeg -> (224, 224)\n",
            "✅ Resized: 128.jpeg -> (224, 224)\n",
            "✅ Resized: 130.jpeg -> (224, 224)\n",
            "✅ Resized: 127.jpeg -> (224, 224)\n",
            "✅ Resized: 123.jpeg -> (224, 224)\n",
            "✅ Resized: 124.jpeg -> (224, 224)\n",
            "✅ Resized: 116.jpeg -> (224, 224)\n",
            "✅ Resized: 118.jpeg -> (224, 224)\n",
            "✅ Resized: 117.jpeg -> (224, 224)\n",
            "✅ Resized: 122.jpeg -> (224, 224)\n",
            "✅ Resized: 120.jpeg -> (224, 224)\n",
            "✅ Resized: 119.jpeg -> (224, 224)\n",
            "✅ Resized: 121.jpeg -> (224, 224)\n",
            "✅ Resized: 477.jpeg -> (224, 224)\n",
            "✅ Resized: 126.jpeg -> (224, 224)\n",
            "✅ Resized: 125.jpeg -> (224, 224)\n",
            "✅ Resized: 114.jpeg -> (224, 224)\n",
            "✅ Resized: 472.jpeg -> (224, 224)\n",
            "✅ Resized: 109.jpeg -> (224, 224)\n",
            "✅ Resized: 110.jpeg -> (224, 224)\n",
            "✅ Resized: 115.jpeg -> (224, 224)\n",
            "✅ Resized: 199.jpeg -> (224, 224)\n",
            "✅ Resized: 187.jpeg -> (224, 224)\n",
            "✅ Resized: 196.jpeg -> (224, 224)\n",
            "✅ Resized: 192.jpeg -> (224, 224)\n",
            "✅ Resized: 193.jpeg -> (224, 224)\n",
            "✅ Resized: 194.jpeg -> (224, 224)\n",
            "✅ Resized: 195.jpeg -> (224, 224)\n",
            "✅ Resized: 184.jpeg -> (224, 224)\n",
            "✅ Resized: 182.jpeg -> (224, 224)\n",
            "✅ Resized: 181.jpeg -> (224, 224)\n",
            "✅ Resized: 179.jpeg -> (224, 224)\n",
            "✅ Resized: 180.jpeg -> (224, 224)\n",
            "✅ Resized: 183.jpeg -> (224, 224)\n",
            "✅ Resized: 189.jpeg -> (224, 224)\n",
            "✅ Resized: 197.jpeg -> (224, 224)\n",
            "✅ Resized: 188.jpeg -> (224, 224)\n",
            "✅ Resized: 191.jpeg -> (224, 224)\n",
            "✅ Resized: 190.jpeg -> (224, 224)\n",
            "✅ Resized: 198.jpeg -> (224, 224)\n",
            "✅ Resized: 186.jpeg -> (224, 224)\n",
            "✅ Resized: 178.jpeg -> (224, 224)\n",
            "✅ Resized: 176.jpeg -> (224, 224)\n",
            "✅ Resized: 185.jpeg -> (224, 224)\n",
            "✅ Resized: 177.jpeg -> (224, 224)\n",
            "✅ Resized: 168.jpeg -> (224, 224)\n",
            "✅ Resized: 166.jpeg -> (224, 224)\n",
            "✅ Resized: 172.jpeg -> (224, 224)\n",
            "✅ Resized: 169.jpeg -> (224, 224)\n",
            "✅ Resized: 167.jpeg -> (224, 224)\n",
            "✅ Resized: 171.jpeg -> (224, 224)\n",
            "✅ Resized: 174.jpeg -> (224, 224)\n",
            "✅ Resized: 175.jpeg -> (224, 224)\n",
            "✅ Resized: 173.jpeg -> (224, 224)\n",
            "✅ Resized: 165.jpeg -> (224, 224)\n",
            "✅ Resized: 170.jpeg -> (224, 224)\n",
            "✅ Resized: 164.jpeg -> (224, 224)\n",
            "✅ Resized: 157.jpeg -> (224, 224)\n",
            "✅ Resized: 159.jpeg -> (224, 224)\n",
            "✅ Resized: 158.jpeg -> (224, 224)\n",
            "✅ Resized: 156.jpeg -> (224, 224)\n",
            "✅ Resized: 155.jpeg -> (224, 224)\n",
            "✅ Resized: 163.jpeg -> (224, 224)\n",
            "✅ Resized: 154.jpeg -> (224, 224)\n",
            "✅ Resized: 160.jpeg -> (224, 224)\n",
            "✅ Resized: 153.jpeg -> (224, 224)\n",
            "✅ Resized: 152.jpeg -> (224, 224)\n",
            "✅ Resized: 161.jpeg -> (224, 224)\n",
            "✅ Resized: 162.jpeg -> (224, 224)\n",
            "✅ Resized: 149.jpeg -> (224, 224)\n",
            "✅ Resized: 142.jpeg -> (224, 224)\n",
            "✅ Resized: 147.jpeg -> (224, 224)\n",
            "✅ Resized: 145.jpeg -> (224, 224)\n",
            "✅ Resized: 143.jpeg -> (224, 224)\n",
            "✅ Resized: 144.jpeg -> (224, 224)\n",
            "✅ Resized: 151.jpeg -> (224, 224)\n",
            "✅ Resized: 150.jpeg -> (224, 224)\n",
            "✅ Resized: 141.jpeg -> (224, 224)\n",
            "✅ Resized: 146.jpeg -> (224, 224)\n",
            "✅ Resized: 139.jpeg -> (224, 224)\n",
            "✅ Resized: 148.jpeg -> (224, 224)\n",
            "✅ Resized: 140.jpeg -> (224, 224)\n",
            "✅ Resized: 138.jpeg -> (224, 224)\n",
            "✅ Resized: 132.jpeg -> (224, 224)\n",
            "✅ Resized: 133.jpeg -> (224, 224)\n",
            "✅ Resized: 136.jpeg -> (224, 224)\n",
            "✅ Resized: 134.jpeg -> (224, 224)\n",
            "✅ Resized: 135.jpeg -> (224, 224)\n",
            "✅ Resized: 264.jpeg -> (224, 224)\n",
            "✅ Resized: 265.jpeg -> (224, 224)\n",
            "✅ Resized: 266.jpeg -> (224, 224)\n",
            "✅ Resized: 262.jpeg -> (224, 224)\n",
            "✅ Resized: 263.jpeg -> (224, 224)\n",
            "✅ Resized: 267.jpeg -> (224, 224)\n",
            "✅ Resized: 261.jpeg -> (224, 224)\n",
            "✅ Resized: 270.jpeg -> (224, 224)\n",
            "✅ Resized: 269.jpeg -> (224, 224)\n",
            "✅ Resized: 260.jpeg -> (224, 224)\n",
            "✅ Resized: 252.jpeg -> (224, 224)\n",
            "✅ Resized: 256.jpeg -> (224, 224)\n",
            "✅ Resized: 253.jpeg -> (224, 224)\n",
            "✅ Resized: 255.jpeg -> (224, 224)\n",
            "✅ Resized: 251.jpeg -> (224, 224)\n",
            "✅ Resized: 250.jpeg -> (224, 224)\n",
            "✅ Resized: 259.jpeg -> (224, 224)\n",
            "✅ Resized: 254.jpeg -> (224, 224)\n",
            "✅ Resized: 249.jpeg -> (224, 224)\n",
            "✅ Resized: 258.jpeg -> (224, 224)\n",
            "✅ Resized: 241.jpeg -> (224, 224)\n",
            "✅ Resized: 242.jpeg -> (224, 224)\n",
            "✅ Resized: 245.jpeg -> (224, 224)\n",
            "✅ Resized: 240.jpeg -> (224, 224)\n",
            "✅ Resized: 243.jpeg -> (224, 224)\n",
            "✅ Resized: 257.jpeg -> (224, 224)\n",
            "✅ Resized: 248.jpeg -> (224, 224)\n",
            "✅ Resized: 247.jpeg -> (224, 224)\n",
            "✅ Resized: 238.jpeg -> (224, 224)\n",
            "✅ Resized: 246.jpeg -> (224, 224)\n",
            "✅ Resized: 244.jpeg -> (224, 224)\n",
            "✅ Resized: 239.jpeg -> (224, 224)\n",
            "✅ Resized: 237.jpeg -> (224, 224)\n",
            "✅ Resized: 236.jpeg -> (224, 224)\n",
            "✅ Resized: 225.jpeg -> (224, 224)\n",
            "✅ Resized: 235.jpeg -> (224, 224)\n",
            "✅ Resized: 234.jpeg -> (224, 224)\n",
            "✅ Resized: 228.jpeg -> (224, 224)\n",
            "✅ Resized: 230.jpeg -> (224, 224)\n",
            "✅ Resized: 229.jpeg -> (224, 224)\n",
            "✅ Resized: 233.jpeg -> (224, 224)\n",
            "✅ Resized: 231.jpeg -> (224, 224)\n",
            "✅ Resized: 232.jpeg -> (224, 224)\n",
            "✅ Resized: 227.jpeg -> (224, 224)\n",
            "✅ Resized: 216.jpeg -> (224, 224)\n",
            "✅ Resized: 217.jpeg -> (224, 224)\n",
            "✅ Resized: 221.jpeg -> (224, 224)\n",
            "✅ Resized: 218.jpeg -> (224, 224)\n",
            "✅ Resized: 215.jpeg -> (224, 224)\n",
            "✅ Resized: 219.jpeg -> (224, 224)\n",
            "✅ Resized: 223.jpeg -> (224, 224)\n",
            "✅ Resized: 224.jpeg -> (224, 224)\n",
            "✅ Resized: 226.jpeg -> (224, 224)\n",
            "✅ Resized: 222.jpeg -> (224, 224)\n",
            "✅ Resized: 220.jpeg -> (224, 224)\n",
            "✅ Resized: 214.jpeg -> (224, 224)\n",
            "✅ Resized: 212.jpeg -> (224, 224)\n",
            "✅ Resized: 213.jpeg -> (224, 224)\n",
            "✅ Resized: 210.jpeg -> (224, 224)\n",
            "✅ Resized: 202.jpeg -> (224, 224)\n",
            "✅ Resized: 205.jpeg -> (224, 224)\n",
            "✅ Resized: 211.jpeg -> (224, 224)\n",
            "✅ Resized: 209.jpeg -> (224, 224)\n",
            "✅ Resized: 207.jpeg -> (224, 224)\n",
            "✅ Resized: 206.jpeg -> (224, 224)\n",
            "✅ Resized: 208.jpeg -> (224, 224)\n",
            "✅ Resized: 204.jpeg -> (224, 224)\n",
            "✅ Resized: 203.jpeg -> (224, 224)\n",
            "✅ Resized: 200.jpeg -> (224, 224)\n",
            "✅ Resized: 201.jpeg -> (224, 224)\n",
            "✅ Resized: 333.jpeg -> (224, 224)\n",
            "✅ Resized: 323.jpeg -> (224, 224)\n",
            "✅ Resized: 329.jpeg -> (224, 224)\n",
            "✅ Resized: 330.jpeg -> (224, 224)\n",
            "✅ Resized: 331.jpeg -> (224, 224)\n",
            "✅ Resized: 327.jpeg -> (224, 224)\n",
            "✅ Resized: 328.jpeg -> (224, 224)\n",
            "✅ Resized: 326.jpeg -> (224, 224)\n",
            "✅ Resized: 325.jpeg -> (224, 224)\n",
            "✅ Resized: 324.jpeg -> (224, 224)\n",
            "✅ Resized: 332.jpeg -> (224, 224)\n",
            "✅ Resized: 320.jpeg -> (224, 224)\n",
            "✅ Resized: 321.jpeg -> (224, 224)\n",
            "✅ Resized: 315.jpeg -> (224, 224)\n",
            "✅ Resized: 313.jpeg -> (224, 224)\n",
            "✅ Resized: 312.jpeg -> (224, 224)\n",
            "✅ Resized: 318.jpeg -> (224, 224)\n",
            "✅ Resized: 314.jpeg -> (224, 224)\n",
            "✅ Resized: 316.jpeg -> (224, 224)\n",
            "✅ Resized: 322.jpeg -> (224, 224)\n",
            "✅ Resized: 309.jpeg -> (224, 224)\n",
            "✅ Resized: 319.jpeg -> (224, 224)\n",
            "✅ Resized: 311.jpeg -> (224, 224)\n",
            "✅ Resized: 317.jpeg -> (224, 224)\n",
            "✅ Resized: 310.jpeg -> (224, 224)\n",
            "✅ Resized: 308.jpeg -> (224, 224)\n",
            "✅ Resized: 298.jpeg -> (224, 224)\n",
            "✅ Resized: 302.jpeg -> (224, 224)\n",
            "✅ Resized: 301.jpeg -> (224, 224)\n",
            "✅ Resized: 299.jpeg -> (224, 224)\n",
            "✅ Resized: 300.jpeg -> (224, 224)\n",
            "✅ Resized: 303.jpeg -> (224, 224)\n",
            "✅ Resized: 304.jpeg -> (224, 224)\n",
            "✅ Resized: 305.jpeg -> (224, 224)\n",
            "✅ Resized: 307.jpeg -> (224, 224)\n",
            "✅ Resized: 289.jpeg -> (224, 224)\n",
            "✅ Resized: 288.jpeg -> (224, 224)\n",
            "✅ Resized: 292.jpeg -> (224, 224)\n",
            "✅ Resized: 290.jpeg -> (224, 224)\n",
            "✅ Resized: 293.jpeg -> (224, 224)\n",
            "✅ Resized: 291.jpeg -> (224, 224)\n",
            "✅ Resized: 295.jpeg -> (224, 224)\n",
            "✅ Resized: 306.jpeg -> (224, 224)\n",
            "✅ Resized: 296.jpeg -> (224, 224)\n",
            "✅ Resized: 297.jpeg -> (224, 224)\n",
            "✅ Resized: 285.jpeg -> (224, 224)\n",
            "✅ Resized: 287.jpeg -> (224, 224)\n",
            "✅ Resized: 294.jpeg -> (224, 224)\n",
            "✅ Resized: 284.jpeg -> (224, 224)\n",
            "✅ Resized: 278.jpeg -> (224, 224)\n",
            "✅ Resized: 277.jpeg -> (224, 224)\n",
            "✅ Resized: 281.jpeg -> (224, 224)\n",
            "✅ Resized: 276.jpeg -> (224, 224)\n",
            "✅ Resized: 279.jpeg -> (224, 224)\n",
            "✅ Resized: 286.jpeg -> (224, 224)\n",
            "✅ Resized: 283.jpeg -> (224, 224)\n",
            "✅ Resized: 268.jpeg -> (224, 224)\n",
            "✅ Resized: 274.jpeg -> (224, 224)\n",
            "✅ Resized: 282.jpeg -> (224, 224)\n",
            "✅ Resized: 271.jpeg -> (224, 224)\n",
            "✅ Resized: 275.jpeg -> (224, 224)\n",
            "✅ Resized: 273.jpeg -> (224, 224)\n",
            "✅ Resized: 280.jpeg -> (224, 224)\n",
            "✅ Resized: 272.jpeg -> (224, 224)\n",
            "✅ Resized: 371.jpeg -> (224, 224)\n",
            "✅ Resized: 360.jpeg -> (224, 224)\n",
            "✅ Resized: 370.jpeg -> (224, 224)\n",
            "✅ Resized: 361.jpeg -> (224, 224)\n",
            "✅ Resized: 368.jpeg -> (224, 224)\n",
            "✅ Resized: 362.jpeg -> (224, 224)\n",
            "✅ Resized: 358.jpeg -> (224, 224)\n",
            "✅ Resized: 348.jpeg -> (224, 224)\n",
            "✅ Resized: 349.jpeg -> (224, 224)\n",
            "✅ Resized: 356.jpeg -> (224, 224)\n",
            "✅ Resized: 355.jpeg -> (224, 224)\n",
            "✅ Resized: 354.jpeg -> (224, 224)\n",
            "✅ Resized: 352.jpeg -> (224, 224)\n",
            "✅ Resized: 353.jpeg -> (224, 224)\n",
            "✅ Resized: 350.jpeg -> (224, 224)\n",
            "✅ Resized: 359.jpeg -> (224, 224)\n",
            "✅ Resized: 347.jpeg -> (224, 224)\n",
            "✅ Resized: 357.jpeg -> (224, 224)\n",
            "✅ Resized: 342.jpeg -> (224, 224)\n",
            "✅ Resized: 340.jpeg -> (224, 224)\n",
            "✅ Resized: 335.jpeg -> (224, 224)\n",
            "✅ Resized: 337.jpeg -> (224, 224)\n",
            "✅ Resized: 338.jpeg -> (224, 224)\n",
            "✅ Resized: 339.jpeg -> (224, 224)\n",
            "✅ Resized: 336.jpeg -> (224, 224)\n",
            "✅ Resized: 345.jpeg -> (224, 224)\n",
            "✅ Resized: 343.jpeg -> (224, 224)\n",
            "✅ Resized: 341.jpeg -> (224, 224)\n",
            "✅ Resized: 344.jpeg -> (224, 224)\n",
            "✅ Resized: 334.jpeg -> (224, 224)\n",
            "✅ Resized: 410.jpeg -> (224, 224)\n",
            "✅ Resized: 403.jpeg -> (224, 224)\n",
            "✅ Resized: 404.jpeg -> (224, 224)\n",
            "✅ Resized: 402.jpeg -> (224, 224)\n",
            "✅ Resized: 391.jpeg -> (224, 224)\n",
            "✅ Resized: 387.jpeg -> (224, 224)\n",
            "✅ Resized: 401.jpeg -> (224, 224)\n",
            "✅ Resized: 399.jpeg -> (224, 224)\n",
            "✅ Resized: 398.jpeg -> (224, 224)\n",
            "✅ Resized: 400.jpeg -> (224, 224)\n",
            "✅ Resized: 396.jpeg -> (224, 224)\n",
            "✅ Resized: 394.jpeg -> (224, 224)\n",
            "✅ Resized: 392.jpeg -> (224, 224)\n",
            "✅ Resized: 390.jpeg -> (224, 224)\n",
            "✅ Resized: 389.jpeg -> (224, 224)\n",
            "✅ Resized: 388.jpeg -> (224, 224)\n",
            "✅ Resized: 386.jpeg -> (224, 224)\n",
            "✅ Resized: 377.jpeg -> (224, 224)\n",
            "✅ Resized: 378.jpeg -> (224, 224)\n",
            "✅ Resized: 381.jpeg -> (224, 224)\n",
            "✅ Resized: 379.jpeg -> (224, 224)\n",
            "✅ Resized: 376.jpeg -> (224, 224)\n",
            "✅ Resized: 380.jpeg -> (224, 224)\n",
            "✅ Resized: 397.jpeg -> (224, 224)\n",
            "✅ Resized: 385.jpeg -> (224, 224)\n",
            "✅ Resized: 374.jpeg -> (224, 224)\n",
            "✅ Resized: 382.jpeg -> (224, 224)\n",
            "✅ Resized: 373.jpeg -> (224, 224)\n",
            "✅ Resized: 375.jpeg -> (224, 224)\n",
            "✅ Resized: 384.jpeg -> (224, 224)\n",
            "✅ Resized: 369.jpeg -> (224, 224)\n",
            "✅ Resized: 367.jpeg -> (224, 224)\n",
            "✅ Resized: 366.jpeg -> (224, 224)\n",
            "✅ Resized: 365.jpeg -> (224, 224)\n",
            "✅ Resized: 364.jpeg -> (224, 224)\n",
            "✅ Resized: 363.jpeg -> (224, 224)\n",
            "✅ Resized: 372.jpeg -> (224, 224)\n",
            "✅ Resized: 435.jpeg -> (224, 224)\n",
            "✅ Resized: 434.jpeg -> (224, 224)\n",
            "✅ Resized: 437.jpeg -> (224, 224)\n",
            "✅ Resized: 436.jpeg -> (224, 224)\n",
            "✅ Resized: 433.jpeg -> (224, 224)\n",
            "✅ Resized: 442.jpeg -> (224, 224)\n",
            "✅ Resized: 438.jpeg -> (224, 224)\n",
            "✅ Resized: 429.jpeg -> (224, 224)\n",
            "✅ Resized: 432.jpeg -> (224, 224)\n",
            "✅ Resized: 431.jpeg -> (224, 224)\n",
            "✅ Resized: 439.jpeg -> (224, 224)\n",
            "✅ Resized: 440.jpeg -> (224, 224)\n",
            "✅ Resized: 416.jpeg -> (224, 224)\n",
            "✅ Resized: 418.jpeg -> (224, 224)\n",
            "✅ Resized: 417.jpeg -> (224, 224)\n",
            "✅ Resized: 415.jpeg -> (224, 224)\n",
            "✅ Resized: 430.jpeg -> (224, 224)\n",
            "✅ Resized: 425.jpeg -> (224, 224)\n",
            "✅ Resized: 421.jpeg -> (224, 224)\n",
            "✅ Resized: 420.jpeg -> (224, 224)\n",
            "✅ Resized: 428.jpeg -> (224, 224)\n",
            "✅ Resized: 413.jpeg -> (224, 224)\n",
            "✅ Resized: 411.jpeg -> (224, 224)\n",
            "✅ Resized: 419.jpeg -> (224, 224)\n",
            "✅ Resized: 414.jpeg -> (224, 224)\n",
            "✅ Resized: 412.jpeg -> (224, 224)\n",
            "✅ Resized: 408.jpeg -> (224, 224)\n",
            "✅ Resized: 406.jpeg -> (224, 224)\n",
            "✅ Resized: 407.jpeg -> (224, 224)\n",
            "✅ Resized: 405.jpeg -> (224, 224)\n",
            "✅ Resized: 409.jpeg -> (224, 224)\n",
            "✅ Resized: 424.jpeg -> (224, 224)\n",
            "✅ Resized: 478.jpeg -> (224, 224)\n",
            "✅ Resized: 475.jpeg -> (224, 224)\n",
            "✅ Resized: 473.jpeg -> (224, 224)\n",
            "✅ Resized: 474.jpeg -> (224, 224)\n",
            "✅ Resized: 470.jpeg -> (224, 224)\n",
            "✅ Resized: 465.jpeg -> (224, 224)\n",
            "✅ Resized: 469.jpeg -> (224, 224)\n",
            "✅ Resized: 466.jpeg -> (224, 224)\n",
            "✅ Resized: 467.jpeg -> (224, 224)\n",
            "✅ Resized: 468.jpeg -> (224, 224)\n",
            "✅ Resized: 476.jpeg -> (224, 224)\n",
            "✅ Resized: 464.jpeg -> (224, 224)\n",
            "✅ Resized: 460.jpeg -> (224, 224)\n",
            "✅ Resized: 458.jpeg -> (224, 224)\n",
            "✅ Resized: 459.jpeg -> (224, 224)\n",
            "✅ Resized: 461.jpeg -> (224, 224)\n",
            "✅ Resized: 457.jpeg -> (224, 224)\n",
            "✅ Resized: 456.jpeg -> (224, 224)\n",
            "✅ Resized: 454.jpeg -> (224, 224)\n",
            "✅ Resized: 455.jpeg -> (224, 224)\n",
            "✅ Resized: 463.jpeg -> (224, 224)\n",
            "✅ Resized: 453.jpeg -> (224, 224)\n",
            "✅ Resized: 462.jpeg -> (224, 224)\n",
            "✅ Resized: 452.jpeg -> (224, 224)\n",
            "✅ Resized: 449.jpeg -> (224, 224)\n",
            "✅ Resized: 451.jpeg -> (224, 224)\n",
            "✅ Resized: 445.jpeg -> (224, 224)\n",
            "✅ Resized: 441.jpeg -> (224, 224)\n",
            "✅ Resized: 443.jpeg -> (224, 224)\n",
            "✅ Resized: 444.jpeg -> (224, 224)\n",
            "✅ Resized: 448.jpeg -> (224, 224)\n",
            "✅ Resized: 446.jpeg -> (224, 224)\n",
            "✅ Resized: 447.jpeg -> (224, 224)\n",
            "✅ Resized: 450.jpeg -> (224, 224)\n",
            "✅ Resized: 496.jpeg -> (224, 224)\n",
            "✅ Resized: 499.jpeg -> (224, 224)\n",
            "✅ Resized: 497.jpeg -> (224, 224)\n",
            "✅ Resized: 500.jpeg -> (224, 224)\n",
            "✅ Resized: 498.jpeg -> (224, 224)\n",
            "✅ Resized: 491.jpeg -> (224, 224)\n",
            "✅ Resized: 495.jpeg -> (224, 224)\n",
            "✅ Resized: 494.jpeg -> (224, 224)\n",
            "✅ Resized: 492.jpeg -> (224, 224)\n",
            "✅ Resized: 493.jpeg -> (224, 224)\n",
            "✅ Resized: 490.jpeg -> (224, 224)\n",
            "✅ Resized: 480.jpeg -> (224, 224)\n",
            "✅ Resized: 482.jpeg -> (224, 224)\n",
            "✅ Resized: 481.jpeg -> (224, 224)\n",
            "✅ Resized: 486.jpeg -> (224, 224)\n",
            "✅ Resized: 484.jpeg -> (224, 224)\n",
            "✅ Resized: 485.jpeg -> (224, 224)\n",
            "✅ Resized: 483.jpeg -> (224, 224)\n",
            "✅ Resized: 487.jpeg -> (224, 224)\n",
            "✅ Resized: 489.jpeg -> (224, 224)\n",
            "✅ Resized: 479.jpeg -> (224, 224)\n",
            "✅ Resized: 488.jpeg -> (224, 224)\n",
            "✅ Resized: 118.jpeg -> (224, 224)\n",
            "✅ Resized: 113.jpeg -> (224, 224)\n",
            "✅ Resized: 090.jpeg -> (224, 224)\n",
            "✅ Resized: 224.jpeg -> (224, 224)\n",
            "✅ Resized: 223.jpeg -> (224, 224)\n",
            "✅ Resized: 222.jpeg -> (224, 224)\n",
            "✅ Resized: 220.jpeg -> (224, 224)\n",
            "✅ Resized: 221.jpeg -> (224, 224)\n",
            "✅ Resized: 157.jpeg -> (224, 224)\n",
            "✅ Resized: 154.jpeg -> (224, 224)\n",
            "✅ Resized: 130.jpeg -> (224, 224)\n",
            "✅ Resized: 233.jpeg -> (224, 224)\n",
            "✅ Resized: 234.jpeg -> (224, 224)\n",
            "✅ Resized: 232.jpeg -> (224, 224)\n",
            "✅ Resized: 230.jpeg -> (224, 224)\n",
            "✅ Resized: 229.jpeg -> (224, 224)\n",
            "✅ Resized: 228.jpeg -> (224, 224)\n",
            "✅ Resized: 227.jpeg -> (224, 224)\n",
            "✅ Resized: 225.jpeg -> (224, 224)\n",
            "✅ Resized: 240.jpeg -> (224, 224)\n",
            "✅ Resized: 241.jpeg -> (224, 224)\n",
            "✅ Resized: 239.jpeg -> (224, 224)\n",
            "✅ Resized: 238.jpeg -> (224, 224)\n",
            "✅ Resized: 237.jpeg -> (224, 224)\n",
            "✅ Resized: 236.jpeg -> (224, 224)\n",
            "✅ Resized: 048.jpeg -> (224, 224)\n",
            "✅ Resized: 041.jpeg -> (224, 224)\n",
            "✅ Resized: 043.jpeg -> (224, 224)\n",
            "✅ Resized: 045.jpeg -> (224, 224)\n",
            "✅ Resized: 044.jpeg -> (224, 224)\n",
            "✅ Resized: 047.jpeg -> (224, 224)\n",
            "✅ Resized: 042.jpeg -> (224, 224)\n",
            "✅ Resized: 050.jpeg -> (224, 224)\n",
            "✅ Resized: 037.jpeg -> (224, 224)\n",
            "✅ Resized: 038.jpeg -> (224, 224)\n",
            "✅ Resized: 049.jpeg -> (224, 224)\n",
            "✅ Resized: 035.jpeg -> (224, 224)\n",
            "✅ Resized: 030.jpeg -> (224, 224)\n",
            "✅ Resized: 032.jpeg -> (224, 224)\n",
            "✅ Resized: 031.jpeg -> (224, 224)\n",
            "✅ Resized: 033.jpeg -> (224, 224)\n",
            "✅ Resized: 029.jpeg -> (224, 224)\n",
            "✅ Resized: 039.jpeg -> (224, 224)\n",
            "✅ Resized: 046.jpeg -> (224, 224)\n",
            "✅ Resized: 040.jpeg -> (224, 224)\n",
            "✅ Resized: 034.jpeg -> (224, 224)\n",
            "✅ Resized: 028.jpeg -> (224, 224)\n",
            "✅ Resized: 019.jpeg -> (224, 224)\n",
            "✅ Resized: 021.jpeg -> (224, 224)\n",
            "✅ Resized: 018.jpeg -> (224, 224)\n",
            "✅ Resized: 023.jpeg -> (224, 224)\n",
            "✅ Resized: 020.jpeg -> (224, 224)\n",
            "✅ Resized: 026.jpeg -> (224, 224)\n",
            "✅ Resized: 027.jpeg -> (224, 224)\n",
            "✅ Resized: 036.jpeg -> (224, 224)\n",
            "✅ Resized: 025.jpeg -> (224, 224)\n",
            "✅ Resized: 024.jpeg -> (224, 224)\n",
            "✅ Resized: 016.jpeg -> (224, 224)\n",
            "✅ Resized: 022.jpeg -> (224, 224)\n",
            "✅ Resized: 017.jpeg -> (224, 224)\n",
            "✅ Resized: 015.jpeg -> (224, 224)\n",
            "✅ Resized: 010.jpeg -> (224, 224)\n",
            "✅ Resized: 006.jpeg -> (224, 224)\n",
            "✅ Resized: 009.jpeg -> (224, 224)\n",
            "✅ Resized: 007.jpeg -> (224, 224)\n",
            "✅ Resized: 008.jpeg -> (224, 224)\n",
            "✅ Resized: 011.jpeg -> (224, 224)\n",
            "✅ Resized: 013.jpeg -> (224, 224)\n",
            "✅ Resized: 014.jpeg -> (224, 224)\n",
            "✅ Resized: 005.jpeg -> (224, 224)\n",
            "✅ Resized: 004.jpeg -> (224, 224)\n",
            "✅ Resized: 003.jpeg -> (224, 224)\n",
            "✅ Resized: 002.jpeg -> (224, 224)\n",
            "✅ Resized: 012.jpeg -> (224, 224)\n",
            "✅ Resized: 001.jpeg -> (224, 224)\n",
            "✅ Resized: 124.jpeg -> (224, 224)\n",
            "✅ Resized: 111.jpeg -> (224, 224)\n",
            "✅ Resized: 115.jpeg -> (224, 224)\n",
            "✅ Resized: 112.jpeg -> (224, 224)\n",
            "✅ Resized: 123.jpeg -> (224, 224)\n",
            "✅ Resized: 109.jpeg -> (224, 224)\n",
            "✅ Resized: 108.jpeg -> (224, 224)\n",
            "✅ Resized: 106.jpeg -> (224, 224)\n",
            "✅ Resized: 105.jpeg -> (224, 224)\n",
            "✅ Resized: 103.jpeg -> (224, 224)\n",
            "✅ Resized: 104.jpeg -> (224, 224)\n",
            "✅ Resized: 107.jpeg -> (224, 224)\n",
            "✅ Resized: 114.jpeg -> (224, 224)\n",
            "✅ Resized: 110.jpeg -> (224, 224)\n",
            "✅ Resized: 101.jpeg -> (224, 224)\n",
            "✅ Resized: 100.jpeg -> (224, 224)\n",
            "✅ Resized: 102.jpeg -> (224, 224)\n",
            "✅ Resized: 093.jpeg -> (224, 224)\n",
            "✅ Resized: 095.jpeg -> (224, 224)\n",
            "✅ Resized: 096.jpeg -> (224, 224)\n",
            "✅ Resized: 094.jpeg -> (224, 224)\n",
            "✅ Resized: 092.jpeg -> (224, 224)\n",
            "✅ Resized: 099.jpeg -> (224, 224)\n",
            "✅ Resized: 098.jpeg -> (224, 224)\n",
            "✅ Resized: 086.jpeg -> (224, 224)\n",
            "✅ Resized: 089.jpeg -> (224, 224)\n",
            "✅ Resized: 088.jpeg -> (224, 224)\n",
            "✅ Resized: 091.jpeg -> (224, 224)\n",
            "✅ Resized: 087.jpeg -> (224, 224)\n",
            "✅ Resized: 097.jpeg -> (224, 224)\n",
            "✅ Resized: 076.jpeg -> (224, 224)\n",
            "✅ Resized: 085.jpeg -> (224, 224)\n",
            "✅ Resized: 075.jpeg -> (224, 224)\n",
            "✅ Resized: 077.jpeg -> (224, 224)\n",
            "✅ Resized: 078.jpeg -> (224, 224)\n",
            "✅ Resized: 084.jpeg -> (224, 224)\n",
            "✅ Resized: 080.jpeg -> (224, 224)\n",
            "✅ Resized: 082.jpeg -> (224, 224)\n",
            "✅ Resized: 083.jpeg -> (224, 224)\n",
            "✅ Resized: 081.jpeg -> (224, 224)\n",
            "✅ Resized: 079.jpeg -> (224, 224)\n",
            "✅ Resized: 074.jpeg -> (224, 224)\n",
            "✅ Resized: 073.jpeg -> (224, 224)\n",
            "✅ Resized: 067.jpeg -> (224, 224)\n",
            "✅ Resized: 071.jpeg -> (224, 224)\n",
            "✅ Resized: 068.jpeg -> (224, 224)\n",
            "✅ Resized: 066.jpeg -> (224, 224)\n",
            "✅ Resized: 070.jpeg -> (224, 224)\n",
            "✅ Resized: 069.jpeg -> (224, 224)\n",
            "✅ Resized: 064.jpeg -> (224, 224)\n",
            "✅ Resized: 065.jpeg -> (224, 224)\n",
            "✅ Resized: 072.jpeg -> (224, 224)\n",
            "✅ Resized: 062.jpeg -> (224, 224)\n",
            "✅ Resized: 063.jpeg -> (224, 224)\n",
            "✅ Resized: 052.jpeg -> (224, 224)\n",
            "✅ Resized: 061.jpeg -> (224, 224)\n",
            "✅ Resized: 058.jpeg -> (224, 224)\n",
            "✅ Resized: 051.jpeg -> (224, 224)\n",
            "✅ Resized: 053.jpeg -> (224, 224)\n",
            "✅ Resized: 057.jpeg -> (224, 224)\n",
            "✅ Resized: 056.jpeg -> (224, 224)\n",
            "✅ Resized: 055.jpeg -> (224, 224)\n",
            "✅ Resized: 054.jpeg -> (224, 224)\n",
            "✅ Resized: 059.jpeg -> (224, 224)\n",
            "✅ Resized: 060.jpeg -> (224, 224)\n",
            "✅ Resized: 191.jpeg -> (224, 224)\n",
            "✅ Resized: 189.jpeg -> (224, 224)\n",
            "✅ Resized: 190.jpeg -> (224, 224)\n",
            "✅ Resized: 198.jpeg -> (224, 224)\n",
            "✅ Resized: 192.jpeg -> (224, 224)\n",
            "✅ Resized: 184.jpeg -> (224, 224)\n",
            "✅ Resized: 182.jpeg -> (224, 224)\n",
            "✅ Resized: 183.jpeg -> (224, 224)\n",
            "✅ Resized: 181.jpeg -> (224, 224)\n",
            "✅ Resized: 185.jpeg -> (224, 224)\n",
            "✅ Resized: 180.jpeg -> (224, 224)\n",
            "✅ Resized: 178.jpeg -> (224, 224)\n",
            "✅ Resized: 179.jpeg -> (224, 224)\n",
            "✅ Resized: 187.jpeg -> (224, 224)\n",
            "✅ Resized: 186.jpeg -> (224, 224)\n",
            "✅ Resized: 188.jpeg -> (224, 224)\n",
            "✅ Resized: 177.jpeg -> (224, 224)\n",
            "✅ Resized: 174.jpeg -> (224, 224)\n",
            "✅ Resized: 176.jpeg -> (224, 224)\n",
            "✅ Resized: 167.jpeg -> (224, 224)\n",
            "✅ Resized: 175.jpeg -> (224, 224)\n",
            "✅ Resized: 165.jpeg -> (224, 224)\n",
            "✅ Resized: 169.jpeg -> (224, 224)\n",
            "✅ Resized: 172.jpeg -> (224, 224)\n",
            "✅ Resized: 166.jpeg -> (224, 224)\n",
            "✅ Resized: 171.jpeg -> (224, 224)\n",
            "✅ Resized: 173.jpeg -> (224, 224)\n",
            "✅ Resized: 170.jpeg -> (224, 224)\n",
            "✅ Resized: 168.jpeg -> (224, 224)\n",
            "✅ Resized: 153.jpeg -> (224, 224)\n",
            "✅ Resized: 156.jpeg -> (224, 224)\n",
            "✅ Resized: 160.jpeg -> (224, 224)\n",
            "✅ Resized: 158.jpeg -> (224, 224)\n",
            "✅ Resized: 161.jpeg -> (224, 224)\n",
            "✅ Resized: 159.jpeg -> (224, 224)\n",
            "✅ Resized: 155.jpeg -> (224, 224)\n",
            "✅ Resized: 162.jpeg -> (224, 224)\n",
            "✅ Resized: 163.jpeg -> (224, 224)\n",
            "✅ Resized: 164.jpeg -> (224, 224)\n",
            "✅ Resized: 152.jpeg -> (224, 224)\n",
            "✅ Resized: 147.jpeg -> (224, 224)\n",
            "✅ Resized: 143.jpeg -> (224, 224)\n",
            "✅ Resized: 145.jpeg -> (224, 224)\n",
            "✅ Resized: 142.jpeg -> (224, 224)\n",
            "✅ Resized: 144.jpeg -> (224, 224)\n",
            "✅ Resized: 150.jpeg -> (224, 224)\n",
            "✅ Resized: 151.jpeg -> (224, 224)\n",
            "✅ Resized: 140.jpeg -> (224, 224)\n",
            "✅ Resized: 139.jpeg -> (224, 224)\n",
            "✅ Resized: 146.jpeg -> (224, 224)\n",
            "✅ Resized: 141.jpeg -> (224, 224)\n",
            "✅ Resized: 149.jpeg -> (224, 224)\n",
            "✅ Resized: 148.jpeg -> (224, 224)\n",
            "✅ Resized: 131.jpeg -> (224, 224)\n",
            "✅ Resized: 127.jpeg -> (224, 224)\n",
            "✅ Resized: 128.jpeg -> (224, 224)\n",
            "✅ Resized: 129.jpeg -> (224, 224)\n",
            "✅ Resized: 134.jpeg -> (224, 224)\n",
            "✅ Resized: 132.jpeg -> (224, 224)\n",
            "✅ Resized: 135.jpeg -> (224, 224)\n",
            "✅ Resized: 133.jpeg -> (224, 224)\n",
            "✅ Resized: 137.jpeg -> (224, 224)\n",
            "✅ Resized: 138.jpeg -> (224, 224)\n",
            "✅ Resized: 125.jpeg -> (224, 224)\n",
            "✅ Resized: 126.jpeg -> (224, 224)\n",
            "✅ Resized: 116.jpeg -> (224, 224)\n",
            "✅ Resized: 121.jpeg -> (224, 224)\n",
            "✅ Resized: 117.jpeg -> (224, 224)\n",
            "✅ Resized: 119.jpeg -> (224, 224)\n",
            "✅ Resized: 120.jpeg -> (224, 224)\n",
            "✅ Resized: 122.jpeg -> (224, 224)\n",
            "✅ Resized: 136.jpeg -> (224, 224)\n",
            "✅ Resized: 246.jpeg -> (224, 224)\n",
            "✅ Resized: 247.jpeg -> (224, 224)\n",
            "✅ Resized: 250.jpeg -> (224, 224)\n",
            "✅ Resized: 248.jpeg -> (224, 224)\n",
            "✅ Resized: 249.jpeg -> (224, 224)\n",
            "✅ Resized: 242.jpeg -> (224, 224)\n",
            "✅ Resized: 244.jpeg -> (224, 224)\n",
            "✅ Resized: 245.jpeg -> (224, 224)\n",
            "✅ Resized: 243.jpeg -> (224, 224)\n",
            "✅ Resized: 219.jpeg -> (224, 224)\n",
            "✅ Resized: 213.jpeg -> (224, 224)\n",
            "✅ Resized: 235.jpeg -> (224, 224)\n",
            "✅ Resized: 216.jpeg -> (224, 224)\n",
            "✅ Resized: 215.jpeg -> (224, 224)\n",
            "✅ Resized: 226.jpeg -> (224, 224)\n",
            "✅ Resized: 218.jpeg -> (224, 224)\n",
            "✅ Resized: 217.jpeg -> (224, 224)\n",
            "✅ Resized: 214.jpeg -> (224, 224)\n",
            "✅ Resized: 231.jpeg -> (224, 224)\n",
            "✅ Resized: 204.jpeg -> (224, 224)\n",
            "✅ Resized: 208.jpeg -> (224, 224)\n",
            "✅ Resized: 207.jpeg -> (224, 224)\n",
            "✅ Resized: 206.jpeg -> (224, 224)\n",
            "✅ Resized: 205.jpeg -> (224, 224)\n",
            "✅ Resized: 209.jpeg -> (224, 224)\n",
            "✅ Resized: 211.jpeg -> (224, 224)\n",
            "✅ Resized: 212.jpeg -> (224, 224)\n",
            "✅ Resized: 203.jpeg -> (224, 224)\n",
            "✅ Resized: 201.jpeg -> (224, 224)\n",
            "✅ Resized: 202.jpeg -> (224, 224)\n",
            "✅ Resized: 200.jpeg -> (224, 224)\n",
            "✅ Resized: 210.jpeg -> (224, 224)\n",
            "✅ Resized: 195.jpeg -> (224, 224)\n",
            "✅ Resized: 197.jpeg -> (224, 224)\n",
            "✅ Resized: 193.jpeg -> (224, 224)\n",
            "✅ Resized: 194.jpeg -> (224, 224)\n",
            "✅ Resized: 196.jpeg -> (224, 224)\n",
            "✅ Resized: 199.jpeg -> (224, 224)\n",
            "✅ All images resized successfully!\n"
          ]
        }
      ]
    },
    {
      "cell_type": "markdown",
      "source": [
        "NORAMALIZE AND STORE IN THE SAME PLACE\n"
      ],
      "metadata": {
        "id": "FjwS8mW8I8R9"
      }
    },
    {
      "cell_type": "code",
      "source": [
        "import os\n",
        "import cv2\n",
        "import numpy as np\n",
        "\n",
        "# Define dataset directories\n",
        "base_dir = \"/content/drive/MyDrive/oralcancerdatasets\"  # Adjust to your dataset path\n",
        "folders = [\"CANCER\", \"NON CANCER\"]  # List of subfolders\n",
        "\n",
        "def normalize_images(input_folder):\n",
        "    \"\"\"Normalizes pixel values to [0,1] and overwrites images.\"\"\"\n",
        "    image_folder = os.path.join(base_dir, input_folder)\n",
        "\n",
        "    for img_name in os.listdir(image_folder):\n",
        "        img_path = os.path.join(image_folder, img_name)\n",
        "\n",
        "        # Check if it's an image file\n",
        "        if img_name.lower().endswith((\".jpg\", \".jpeg\", \".png\")):\n",
        "            img = cv2.imread(img_path)\n",
        "\n",
        "            if img is not None:\n",
        "                # Normalize pixel values to [0,1]\n",
        "                img = img.astype(np.float32) / 255.0\n",
        "\n",
        "                # Convert back to [0,255] and save (OpenCV needs uint8)\n",
        "                img = (img * 255).astype(np.uint8)\n",
        "                cv2.imwrite(img_path, img)\n",
        "\n",
        "                print(f\"Normalized: {img_name}\")\n",
        "            else:\n",
        "                print(f\"⚠️ Could not read: {img_name}\")\n",
        "\n",
        "# Apply normalization to both cancer and non-cancer folders\n",
        "for folder in folders:\n",
        "    normalize_images(folder)\n",
        "\n",
        "print(\"✅ All images normalized successfully!\")\n"
      ],
      "metadata": {
        "colab": {
          "base_uri": "https://localhost:8080/"
        },
        "id": "s4INJXfFIIWX",
        "outputId": "9f3171e6-cb8c-4121-dd1f-9a7cff839962"
      },
      "execution_count": null,
      "outputs": [
        {
          "output_type": "stream",
          "name": "stdout",
          "text": [
            "✅ Normalized: 012.jpeg\n",
            "✅ Normalized: 041.jpeg\n",
            "✅ Normalized: 010.jpeg\n",
            "✅ Normalized: 007.jpeg\n",
            "✅ Normalized: 003.jpeg\n",
            "✅ Normalized: 001.jpeg\n",
            "✅ Normalized: 040.jpeg\n",
            "✅ Normalized: 009.jpeg\n",
            "✅ Normalized: 008.jpeg\n",
            "✅ Normalized: 005.jpeg\n",
            "✅ Normalized: 006.jpeg\n",
            "✅ Normalized: 004.jpeg\n",
            "✅ Normalized: 002.jpeg\n",
            "✅ Normalized: 045.jpeg\n",
            "✅ Normalized: 042.jpeg\n",
            "✅ Normalized: 043.jpeg\n",
            "✅ Normalized: 039.jpeg\n",
            "✅ Normalized: 038.jpeg\n",
            "✅ Normalized: 048.jpeg\n",
            "✅ Normalized: 044.jpeg\n",
            "✅ Normalized: 037.jpeg\n",
            "✅ Normalized: 035.jpeg\n",
            "✅ Normalized: 346.jpeg\n",
            "✅ Normalized: 047.jpeg\n",
            "✅ Normalized: 028.jpeg\n",
            "✅ Normalized: 029.jpeg\n",
            "✅ Normalized: 027.jpeg\n",
            "✅ Normalized: 026.jpeg\n",
            "✅ Normalized: 031.jpeg\n",
            "✅ Normalized: 033.jpeg\n",
            "✅ Normalized: 079.jpeg\n",
            "✅ Normalized: 036.jpeg\n",
            "✅ Normalized: 034.jpeg\n",
            "✅ Normalized: 022.jpeg\n",
            "✅ Normalized: 030.jpeg\n",
            "✅ Normalized: 025.jpeg\n",
            "✅ Normalized: 023.jpeg\n",
            "✅ Normalized: 062.jpeg\n",
            "✅ Normalized: 061.jpeg\n",
            "✅ Normalized: 032.jpeg\n",
            "✅ Normalized: 024.jpeg\n",
            "✅ Normalized: 011.jpeg\n",
            "✅ Normalized: 013.jpeg\n",
            "✅ Normalized: 018.jpeg\n",
            "✅ Normalized: 020.jpeg\n",
            "✅ Normalized: 046.jpeg\n",
            "✅ Normalized: 015.jpeg\n",
            "✅ Normalized: 016.jpeg\n",
            "✅ Normalized: 014.jpeg\n",
            "✅ Normalized: 019.jpeg\n",
            "✅ Normalized: 017.jpeg\n",
            "✅ Normalized: 021.jpeg\n",
            "✅ Normalized: 087.jpeg\n",
            "✅ Normalized: 076.jpeg\n",
            "✅ Normalized: 075.jpeg\n",
            "✅ Normalized: 084.jpeg\n",
            "✅ Normalized: 077.jpeg\n",
            "✅ Normalized: 086.jpeg\n",
            "✅ Normalized: 069.jpeg\n",
            "✅ Normalized: 065.jpeg\n",
            "✅ Normalized: 066.jpeg\n",
            "✅ Normalized: 070.jpeg\n",
            "✅ Normalized: 071.jpeg\n",
            "✅ Normalized: 067.jpeg\n",
            "✅ Normalized: 068.jpeg\n",
            "✅ Normalized: 072.jpeg\n",
            "✅ Normalized: 073.jpeg\n",
            "✅ Normalized: 395.jpeg\n",
            "✅ Normalized: 074.jpeg\n",
            "✅ Normalized: 064.jpeg\n",
            "✅ Normalized: 051.jpeg\n",
            "✅ Normalized: 054.jpeg\n",
            "✅ Normalized: 056.jpeg\n",
            "✅ Normalized: 053.jpeg\n",
            "✅ Normalized: 055.jpeg\n",
            "✅ Normalized: 058.jpeg\n",
            "✅ Normalized: 052.jpeg\n",
            "✅ Normalized: 060.jpeg\n",
            "✅ Normalized: 063.jpeg\n",
            "✅ Normalized: 393.jpeg\n",
            "✅ Normalized: 050.jpeg\n",
            "✅ Normalized: 351.jpeg\n",
            "✅ Normalized: 049.jpeg\n",
            "✅ Normalized: 059.jpeg\n",
            "✅ Normalized: 057.jpeg\n",
            "✅ Normalized: 383.jpeg\n",
            "✅ Normalized: 085.jpeg\n",
            "✅ Normalized: 088.jpeg\n",
            "✅ Normalized: 080.jpeg\n",
            "✅ Normalized: 078.jpeg\n",
            "✅ Normalized: 081.jpeg\n",
            "✅ Normalized: 083.jpeg\n",
            "✅ Normalized: 082.jpeg\n",
            "✅ Normalized: 422.jpeg\n",
            "✅ Normalized: 427.jpeg\n",
            "✅ Normalized: 111.jpeg\n",
            "✅ Normalized: 471.jpeg\n",
            "✅ Normalized: 112.jpeg\n",
            "✅ Normalized: 113.jpeg\n",
            "✅ Normalized: 108.jpeg\n",
            "✅ Normalized: 107.jpeg\n",
            "✅ Normalized: 105.jpeg\n",
            "✅ Normalized: 106.jpeg\n",
            "✅ Normalized: 104.jpeg\n",
            "✅ Normalized: 102.jpeg\n",
            "✅ Normalized: 426.jpeg\n",
            "✅ Normalized: 101.jpeg\n",
            "✅ Normalized: 098.jpeg\n",
            "✅ Normalized: 100.jpeg\n",
            "✅ Normalized: 103.jpeg\n",
            "✅ Normalized: 093.jpeg\n",
            "✅ Normalized: 090.jpeg\n",
            "✅ Normalized: 092.jpeg\n",
            "✅ Normalized: 423.jpeg\n",
            "✅ Normalized: 091.jpeg\n",
            "✅ Normalized: 094.jpeg\n",
            "✅ Normalized: 097.jpeg\n",
            "✅ Normalized: 095.jpeg\n",
            "✅ Normalized: 096.jpeg\n",
            "✅ Normalized: 099.jpeg\n",
            "✅ Normalized: 089.jpeg\n",
            "✅ Normalized: 137.jpeg\n",
            "✅ Normalized: 131.jpeg\n",
            "✅ Normalized: 129.jpeg\n",
            "✅ Normalized: 128.jpeg\n",
            "✅ Normalized: 130.jpeg\n",
            "✅ Normalized: 127.jpeg\n",
            "✅ Normalized: 123.jpeg\n",
            "✅ Normalized: 124.jpeg\n",
            "✅ Normalized: 116.jpeg\n",
            "✅ Normalized: 118.jpeg\n",
            "✅ Normalized: 117.jpeg\n",
            "✅ Normalized: 122.jpeg\n",
            "✅ Normalized: 120.jpeg\n",
            "✅ Normalized: 119.jpeg\n",
            "✅ Normalized: 121.jpeg\n",
            "✅ Normalized: 477.jpeg\n",
            "✅ Normalized: 126.jpeg\n",
            "✅ Normalized: 125.jpeg\n",
            "✅ Normalized: 114.jpeg\n",
            "✅ Normalized: 472.jpeg\n",
            "✅ Normalized: 109.jpeg\n",
            "✅ Normalized: 110.jpeg\n",
            "✅ Normalized: 115.jpeg\n",
            "✅ Normalized: 199.jpeg\n",
            "✅ Normalized: 187.jpeg\n",
            "✅ Normalized: 196.jpeg\n",
            "✅ Normalized: 192.jpeg\n",
            "✅ Normalized: 193.jpeg\n",
            "✅ Normalized: 194.jpeg\n",
            "✅ Normalized: 195.jpeg\n",
            "✅ Normalized: 184.jpeg\n",
            "✅ Normalized: 182.jpeg\n",
            "✅ Normalized: 181.jpeg\n",
            "✅ Normalized: 179.jpeg\n",
            "✅ Normalized: 180.jpeg\n",
            "✅ Normalized: 183.jpeg\n",
            "✅ Normalized: 189.jpeg\n",
            "✅ Normalized: 197.jpeg\n",
            "✅ Normalized: 188.jpeg\n",
            "✅ Normalized: 191.jpeg\n",
            "✅ Normalized: 190.jpeg\n",
            "✅ Normalized: 198.jpeg\n",
            "✅ Normalized: 186.jpeg\n",
            "✅ Normalized: 178.jpeg\n",
            "✅ Normalized: 176.jpeg\n",
            "✅ Normalized: 185.jpeg\n",
            "✅ Normalized: 177.jpeg\n",
            "✅ Normalized: 168.jpeg\n",
            "✅ Normalized: 166.jpeg\n",
            "✅ Normalized: 172.jpeg\n",
            "✅ Normalized: 169.jpeg\n",
            "✅ Normalized: 167.jpeg\n",
            "✅ Normalized: 171.jpeg\n",
            "✅ Normalized: 174.jpeg\n",
            "✅ Normalized: 175.jpeg\n",
            "✅ Normalized: 173.jpeg\n",
            "✅ Normalized: 165.jpeg\n",
            "✅ Normalized: 170.jpeg\n",
            "✅ Normalized: 164.jpeg\n",
            "✅ Normalized: 157.jpeg\n",
            "✅ Normalized: 159.jpeg\n",
            "✅ Normalized: 158.jpeg\n",
            "✅ Normalized: 156.jpeg\n",
            "✅ Normalized: 155.jpeg\n",
            "✅ Normalized: 163.jpeg\n",
            "✅ Normalized: 154.jpeg\n",
            "✅ Normalized: 160.jpeg\n",
            "✅ Normalized: 153.jpeg\n",
            "✅ Normalized: 152.jpeg\n",
            "✅ Normalized: 161.jpeg\n",
            "✅ Normalized: 162.jpeg\n",
            "✅ Normalized: 149.jpeg\n",
            "✅ Normalized: 142.jpeg\n",
            "✅ Normalized: 147.jpeg\n",
            "✅ Normalized: 145.jpeg\n",
            "✅ Normalized: 143.jpeg\n",
            "✅ Normalized: 144.jpeg\n",
            "✅ Normalized: 151.jpeg\n",
            "✅ Normalized: 150.jpeg\n",
            "✅ Normalized: 141.jpeg\n",
            "✅ Normalized: 146.jpeg\n",
            "✅ Normalized: 139.jpeg\n",
            "✅ Normalized: 148.jpeg\n",
            "✅ Normalized: 140.jpeg\n",
            "✅ Normalized: 138.jpeg\n",
            "✅ Normalized: 132.jpeg\n",
            "✅ Normalized: 133.jpeg\n",
            "✅ Normalized: 136.jpeg\n",
            "✅ Normalized: 134.jpeg\n",
            "✅ Normalized: 135.jpeg\n",
            "✅ Normalized: 264.jpeg\n",
            "✅ Normalized: 265.jpeg\n",
            "✅ Normalized: 266.jpeg\n",
            "✅ Normalized: 262.jpeg\n",
            "✅ Normalized: 263.jpeg\n",
            "✅ Normalized: 267.jpeg\n",
            "✅ Normalized: 261.jpeg\n",
            "✅ Normalized: 270.jpeg\n",
            "✅ Normalized: 269.jpeg\n",
            "✅ Normalized: 260.jpeg\n",
            "✅ Normalized: 252.jpeg\n",
            "✅ Normalized: 256.jpeg\n",
            "✅ Normalized: 253.jpeg\n",
            "✅ Normalized: 255.jpeg\n",
            "✅ Normalized: 251.jpeg\n",
            "✅ Normalized: 250.jpeg\n",
            "✅ Normalized: 259.jpeg\n",
            "✅ Normalized: 254.jpeg\n",
            "✅ Normalized: 249.jpeg\n",
            "✅ Normalized: 258.jpeg\n",
            "✅ Normalized: 241.jpeg\n",
            "✅ Normalized: 242.jpeg\n",
            "✅ Normalized: 245.jpeg\n",
            "✅ Normalized: 240.jpeg\n",
            "✅ Normalized: 243.jpeg\n",
            "✅ Normalized: 257.jpeg\n",
            "✅ Normalized: 248.jpeg\n",
            "✅ Normalized: 247.jpeg\n",
            "✅ Normalized: 238.jpeg\n",
            "✅ Normalized: 246.jpeg\n",
            "✅ Normalized: 244.jpeg\n",
            "✅ Normalized: 239.jpeg\n",
            "✅ Normalized: 237.jpeg\n",
            "✅ Normalized: 236.jpeg\n",
            "✅ Normalized: 225.jpeg\n",
            "✅ Normalized: 235.jpeg\n",
            "✅ Normalized: 234.jpeg\n",
            "✅ Normalized: 228.jpeg\n",
            "✅ Normalized: 230.jpeg\n",
            "✅ Normalized: 229.jpeg\n",
            "✅ Normalized: 233.jpeg\n",
            "✅ Normalized: 231.jpeg\n",
            "✅ Normalized: 232.jpeg\n",
            "✅ Normalized: 227.jpeg\n",
            "✅ Normalized: 216.jpeg\n",
            "✅ Normalized: 217.jpeg\n",
            "✅ Normalized: 221.jpeg\n",
            "✅ Normalized: 218.jpeg\n",
            "✅ Normalized: 215.jpeg\n",
            "✅ Normalized: 219.jpeg\n",
            "✅ Normalized: 223.jpeg\n",
            "✅ Normalized: 224.jpeg\n",
            "✅ Normalized: 226.jpeg\n",
            "✅ Normalized: 222.jpeg\n",
            "✅ Normalized: 220.jpeg\n",
            "✅ Normalized: 214.jpeg\n",
            "✅ Normalized: 212.jpeg\n",
            "✅ Normalized: 213.jpeg\n",
            "✅ Normalized: 210.jpeg\n",
            "✅ Normalized: 202.jpeg\n",
            "✅ Normalized: 205.jpeg\n",
            "✅ Normalized: 211.jpeg\n",
            "✅ Normalized: 209.jpeg\n",
            "✅ Normalized: 207.jpeg\n",
            "✅ Normalized: 206.jpeg\n",
            "✅ Normalized: 208.jpeg\n",
            "✅ Normalized: 204.jpeg\n",
            "✅ Normalized: 203.jpeg\n",
            "✅ Normalized: 200.jpeg\n",
            "✅ Normalized: 201.jpeg\n",
            "✅ Normalized: 333.jpeg\n",
            "✅ Normalized: 323.jpeg\n",
            "✅ Normalized: 329.jpeg\n",
            "✅ Normalized: 330.jpeg\n",
            "✅ Normalized: 331.jpeg\n",
            "✅ Normalized: 327.jpeg\n",
            "✅ Normalized: 328.jpeg\n",
            "✅ Normalized: 326.jpeg\n",
            "✅ Normalized: 325.jpeg\n",
            "✅ Normalized: 324.jpeg\n",
            "✅ Normalized: 332.jpeg\n",
            "✅ Normalized: 320.jpeg\n",
            "✅ Normalized: 321.jpeg\n",
            "✅ Normalized: 315.jpeg\n",
            "✅ Normalized: 313.jpeg\n",
            "✅ Normalized: 312.jpeg\n",
            "✅ Normalized: 318.jpeg\n",
            "✅ Normalized: 314.jpeg\n",
            "✅ Normalized: 316.jpeg\n",
            "✅ Normalized: 322.jpeg\n",
            "✅ Normalized: 309.jpeg\n",
            "✅ Normalized: 319.jpeg\n",
            "✅ Normalized: 311.jpeg\n",
            "✅ Normalized: 317.jpeg\n",
            "✅ Normalized: 310.jpeg\n",
            "✅ Normalized: 308.jpeg\n",
            "✅ Normalized: 298.jpeg\n",
            "✅ Normalized: 302.jpeg\n",
            "✅ Normalized: 301.jpeg\n",
            "✅ Normalized: 299.jpeg\n",
            "✅ Normalized: 300.jpeg\n",
            "✅ Normalized: 303.jpeg\n",
            "✅ Normalized: 304.jpeg\n",
            "✅ Normalized: 305.jpeg\n",
            "✅ Normalized: 307.jpeg\n",
            "✅ Normalized: 289.jpeg\n",
            "✅ Normalized: 288.jpeg\n",
            "✅ Normalized: 292.jpeg\n",
            "✅ Normalized: 290.jpeg\n",
            "✅ Normalized: 293.jpeg\n",
            "✅ Normalized: 291.jpeg\n",
            "✅ Normalized: 295.jpeg\n",
            "✅ Normalized: 306.jpeg\n",
            "✅ Normalized: 296.jpeg\n",
            "✅ Normalized: 297.jpeg\n",
            "✅ Normalized: 285.jpeg\n",
            "✅ Normalized: 287.jpeg\n",
            "✅ Normalized: 294.jpeg\n",
            "✅ Normalized: 284.jpeg\n",
            "✅ Normalized: 278.jpeg\n",
            "✅ Normalized: 277.jpeg\n",
            "✅ Normalized: 281.jpeg\n",
            "✅ Normalized: 276.jpeg\n",
            "✅ Normalized: 279.jpeg\n",
            "✅ Normalized: 286.jpeg\n",
            "✅ Normalized: 283.jpeg\n",
            "✅ Normalized: 268.jpeg\n",
            "✅ Normalized: 274.jpeg\n",
            "✅ Normalized: 282.jpeg\n",
            "✅ Normalized: 271.jpeg\n",
            "✅ Normalized: 275.jpeg\n",
            "✅ Normalized: 273.jpeg\n",
            "✅ Normalized: 280.jpeg\n",
            "✅ Normalized: 272.jpeg\n",
            "✅ Normalized: 371.jpeg\n",
            "✅ Normalized: 360.jpeg\n",
            "✅ Normalized: 370.jpeg\n",
            "✅ Normalized: 361.jpeg\n",
            "✅ Normalized: 368.jpeg\n",
            "✅ Normalized: 362.jpeg\n",
            "✅ Normalized: 358.jpeg\n",
            "✅ Normalized: 348.jpeg\n",
            "✅ Normalized: 349.jpeg\n",
            "✅ Normalized: 356.jpeg\n",
            "✅ Normalized: 355.jpeg\n",
            "✅ Normalized: 354.jpeg\n",
            "✅ Normalized: 352.jpeg\n",
            "✅ Normalized: 353.jpeg\n",
            "✅ Normalized: 350.jpeg\n",
            "✅ Normalized: 359.jpeg\n",
            "✅ Normalized: 347.jpeg\n",
            "✅ Normalized: 357.jpeg\n",
            "✅ Normalized: 342.jpeg\n",
            "✅ Normalized: 340.jpeg\n",
            "✅ Normalized: 335.jpeg\n",
            "✅ Normalized: 337.jpeg\n",
            "✅ Normalized: 338.jpeg\n",
            "✅ Normalized: 339.jpeg\n",
            "✅ Normalized: 336.jpeg\n",
            "✅ Normalized: 345.jpeg\n",
            "✅ Normalized: 343.jpeg\n",
            "✅ Normalized: 341.jpeg\n",
            "✅ Normalized: 344.jpeg\n",
            "✅ Normalized: 334.jpeg\n",
            "✅ Normalized: 410.jpeg\n",
            "✅ Normalized: 403.jpeg\n",
            "✅ Normalized: 404.jpeg\n",
            "✅ Normalized: 402.jpeg\n",
            "✅ Normalized: 391.jpeg\n",
            "✅ Normalized: 387.jpeg\n",
            "✅ Normalized: 401.jpeg\n",
            "✅ Normalized: 399.jpeg\n",
            "✅ Normalized: 398.jpeg\n",
            "✅ Normalized: 400.jpeg\n",
            "✅ Normalized: 396.jpeg\n",
            "✅ Normalized: 394.jpeg\n",
            "✅ Normalized: 392.jpeg\n",
            "✅ Normalized: 390.jpeg\n",
            "✅ Normalized: 389.jpeg\n",
            "✅ Normalized: 388.jpeg\n",
            "✅ Normalized: 386.jpeg\n",
            "✅ Normalized: 377.jpeg\n",
            "✅ Normalized: 378.jpeg\n",
            "✅ Normalized: 381.jpeg\n",
            "✅ Normalized: 379.jpeg\n",
            "✅ Normalized: 376.jpeg\n",
            "✅ Normalized: 380.jpeg\n",
            "✅ Normalized: 397.jpeg\n",
            "✅ Normalized: 385.jpeg\n",
            "✅ Normalized: 374.jpeg\n",
            "✅ Normalized: 382.jpeg\n",
            "✅ Normalized: 373.jpeg\n",
            "✅ Normalized: 375.jpeg\n",
            "✅ Normalized: 384.jpeg\n",
            "✅ Normalized: 369.jpeg\n",
            "✅ Normalized: 367.jpeg\n",
            "✅ Normalized: 366.jpeg\n",
            "✅ Normalized: 365.jpeg\n",
            "✅ Normalized: 364.jpeg\n",
            "✅ Normalized: 363.jpeg\n",
            "✅ Normalized: 372.jpeg\n",
            "✅ Normalized: 435.jpeg\n",
            "✅ Normalized: 434.jpeg\n",
            "✅ Normalized: 437.jpeg\n",
            "✅ Normalized: 436.jpeg\n",
            "✅ Normalized: 433.jpeg\n",
            "✅ Normalized: 442.jpeg\n",
            "✅ Normalized: 438.jpeg\n",
            "✅ Normalized: 429.jpeg\n",
            "✅ Normalized: 432.jpeg\n",
            "✅ Normalized: 431.jpeg\n",
            "✅ Normalized: 439.jpeg\n",
            "✅ Normalized: 440.jpeg\n",
            "✅ Normalized: 416.jpeg\n",
            "✅ Normalized: 418.jpeg\n",
            "✅ Normalized: 417.jpeg\n",
            "✅ Normalized: 415.jpeg\n",
            "✅ Normalized: 430.jpeg\n",
            "✅ Normalized: 425.jpeg\n",
            "✅ Normalized: 421.jpeg\n",
            "✅ Normalized: 420.jpeg\n",
            "✅ Normalized: 428.jpeg\n",
            "✅ Normalized: 413.jpeg\n",
            "✅ Normalized: 411.jpeg\n",
            "✅ Normalized: 419.jpeg\n",
            "✅ Normalized: 414.jpeg\n",
            "✅ Normalized: 412.jpeg\n",
            "✅ Normalized: 408.jpeg\n",
            "✅ Normalized: 406.jpeg\n",
            "✅ Normalized: 407.jpeg\n",
            "✅ Normalized: 405.jpeg\n",
            "✅ Normalized: 409.jpeg\n",
            "✅ Normalized: 424.jpeg\n",
            "✅ Normalized: 478.jpeg\n",
            "✅ Normalized: 475.jpeg\n",
            "✅ Normalized: 473.jpeg\n",
            "✅ Normalized: 474.jpeg\n",
            "✅ Normalized: 470.jpeg\n",
            "✅ Normalized: 465.jpeg\n",
            "✅ Normalized: 469.jpeg\n",
            "✅ Normalized: 466.jpeg\n",
            "✅ Normalized: 467.jpeg\n",
            "✅ Normalized: 468.jpeg\n",
            "✅ Normalized: 476.jpeg\n",
            "✅ Normalized: 464.jpeg\n",
            "✅ Normalized: 460.jpeg\n",
            "✅ Normalized: 458.jpeg\n",
            "✅ Normalized: 459.jpeg\n",
            "✅ Normalized: 461.jpeg\n",
            "✅ Normalized: 457.jpeg\n",
            "✅ Normalized: 456.jpeg\n",
            "✅ Normalized: 454.jpeg\n",
            "✅ Normalized: 455.jpeg\n",
            "✅ Normalized: 463.jpeg\n",
            "✅ Normalized: 453.jpeg\n",
            "✅ Normalized: 462.jpeg\n",
            "✅ Normalized: 452.jpeg\n",
            "✅ Normalized: 449.jpeg\n",
            "✅ Normalized: 451.jpeg\n",
            "✅ Normalized: 445.jpeg\n",
            "✅ Normalized: 441.jpeg\n",
            "✅ Normalized: 443.jpeg\n",
            "✅ Normalized: 444.jpeg\n",
            "✅ Normalized: 448.jpeg\n",
            "✅ Normalized: 446.jpeg\n",
            "✅ Normalized: 447.jpeg\n",
            "✅ Normalized: 450.jpeg\n",
            "✅ Normalized: 496.jpeg\n",
            "✅ Normalized: 499.jpeg\n",
            "✅ Normalized: 497.jpeg\n",
            "✅ Normalized: 500.jpeg\n",
            "✅ Normalized: 498.jpeg\n",
            "✅ Normalized: 491.jpeg\n",
            "✅ Normalized: 495.jpeg\n",
            "✅ Normalized: 494.jpeg\n",
            "✅ Normalized: 492.jpeg\n",
            "✅ Normalized: 493.jpeg\n",
            "✅ Normalized: 490.jpeg\n",
            "✅ Normalized: 480.jpeg\n",
            "✅ Normalized: 482.jpeg\n",
            "✅ Normalized: 481.jpeg\n",
            "✅ Normalized: 486.jpeg\n",
            "✅ Normalized: 484.jpeg\n",
            "✅ Normalized: 485.jpeg\n",
            "✅ Normalized: 483.jpeg\n",
            "✅ Normalized: 487.jpeg\n",
            "✅ Normalized: 489.jpeg\n",
            "✅ Normalized: 479.jpeg\n",
            "✅ Normalized: 488.jpeg\n",
            "✅ Normalized: 118.jpeg\n",
            "✅ Normalized: 113.jpeg\n",
            "✅ Normalized: 090.jpeg\n",
            "✅ Normalized: 224.jpeg\n",
            "✅ Normalized: 223.jpeg\n",
            "✅ Normalized: 222.jpeg\n",
            "✅ Normalized: 220.jpeg\n",
            "✅ Normalized: 221.jpeg\n",
            "✅ Normalized: 157.jpeg\n",
            "✅ Normalized: 154.jpeg\n",
            "✅ Normalized: 130.jpeg\n",
            "✅ Normalized: 233.jpeg\n",
            "✅ Normalized: 234.jpeg\n",
            "✅ Normalized: 232.jpeg\n",
            "✅ Normalized: 230.jpeg\n",
            "✅ Normalized: 229.jpeg\n",
            "✅ Normalized: 228.jpeg\n",
            "✅ Normalized: 227.jpeg\n",
            "✅ Normalized: 225.jpeg\n",
            "✅ Normalized: 240.jpeg\n",
            "✅ Normalized: 241.jpeg\n",
            "✅ Normalized: 239.jpeg\n",
            "✅ Normalized: 238.jpeg\n",
            "✅ Normalized: 237.jpeg\n",
            "✅ Normalized: 236.jpeg\n",
            "✅ Normalized: 048.jpeg\n",
            "✅ Normalized: 041.jpeg\n",
            "✅ Normalized: 043.jpeg\n",
            "✅ Normalized: 045.jpeg\n",
            "✅ Normalized: 044.jpeg\n",
            "✅ Normalized: 047.jpeg\n",
            "✅ Normalized: 042.jpeg\n",
            "✅ Normalized: 050.jpeg\n",
            "✅ Normalized: 037.jpeg\n",
            "✅ Normalized: 038.jpeg\n",
            "✅ Normalized: 049.jpeg\n",
            "✅ Normalized: 035.jpeg\n",
            "✅ Normalized: 030.jpeg\n",
            "✅ Normalized: 032.jpeg\n",
            "✅ Normalized: 031.jpeg\n",
            "✅ Normalized: 033.jpeg\n",
            "✅ Normalized: 029.jpeg\n",
            "✅ Normalized: 039.jpeg\n",
            "✅ Normalized: 046.jpeg\n",
            "✅ Normalized: 040.jpeg\n",
            "✅ Normalized: 034.jpeg\n",
            "✅ Normalized: 028.jpeg\n",
            "✅ Normalized: 019.jpeg\n",
            "✅ Normalized: 021.jpeg\n",
            "✅ Normalized: 018.jpeg\n",
            "✅ Normalized: 023.jpeg\n",
            "✅ Normalized: 020.jpeg\n",
            "✅ Normalized: 026.jpeg\n",
            "✅ Normalized: 027.jpeg\n",
            "✅ Normalized: 036.jpeg\n",
            "✅ Normalized: 025.jpeg\n",
            "✅ Normalized: 024.jpeg\n",
            "✅ Normalized: 016.jpeg\n",
            "✅ Normalized: 022.jpeg\n",
            "✅ Normalized: 017.jpeg\n",
            "✅ Normalized: 015.jpeg\n",
            "✅ Normalized: 010.jpeg\n",
            "✅ Normalized: 006.jpeg\n",
            "✅ Normalized: 009.jpeg\n",
            "✅ Normalized: 007.jpeg\n",
            "✅ Normalized: 008.jpeg\n",
            "✅ Normalized: 011.jpeg\n",
            "✅ Normalized: 013.jpeg\n",
            "✅ Normalized: 014.jpeg\n",
            "✅ Normalized: 005.jpeg\n",
            "✅ Normalized: 004.jpeg\n",
            "✅ Normalized: 003.jpeg\n",
            "✅ Normalized: 002.jpeg\n",
            "✅ Normalized: 012.jpeg\n",
            "✅ Normalized: 001.jpeg\n",
            "✅ Normalized: 124.jpeg\n",
            "✅ Normalized: 111.jpeg\n",
            "✅ Normalized: 115.jpeg\n",
            "✅ Normalized: 112.jpeg\n",
            "✅ Normalized: 123.jpeg\n",
            "✅ Normalized: 109.jpeg\n",
            "✅ Normalized: 108.jpeg\n",
            "✅ Normalized: 106.jpeg\n",
            "✅ Normalized: 105.jpeg\n",
            "✅ Normalized: 103.jpeg\n",
            "✅ Normalized: 104.jpeg\n",
            "✅ Normalized: 107.jpeg\n",
            "✅ Normalized: 114.jpeg\n",
            "✅ Normalized: 110.jpeg\n",
            "✅ Normalized: 101.jpeg\n",
            "✅ Normalized: 100.jpeg\n",
            "✅ Normalized: 102.jpeg\n",
            "✅ Normalized: 093.jpeg\n",
            "✅ Normalized: 095.jpeg\n",
            "✅ Normalized: 096.jpeg\n",
            "✅ Normalized: 094.jpeg\n",
            "✅ Normalized: 092.jpeg\n",
            "✅ Normalized: 099.jpeg\n",
            "✅ Normalized: 098.jpeg\n",
            "✅ Normalized: 086.jpeg\n",
            "✅ Normalized: 089.jpeg\n",
            "✅ Normalized: 088.jpeg\n",
            "✅ Normalized: 091.jpeg\n",
            "✅ Normalized: 087.jpeg\n",
            "✅ Normalized: 097.jpeg\n",
            "✅ Normalized: 076.jpeg\n",
            "✅ Normalized: 085.jpeg\n",
            "✅ Normalized: 075.jpeg\n",
            "✅ Normalized: 077.jpeg\n",
            "✅ Normalized: 078.jpeg\n",
            "✅ Normalized: 084.jpeg\n",
            "✅ Normalized: 080.jpeg\n",
            "✅ Normalized: 082.jpeg\n",
            "✅ Normalized: 083.jpeg\n",
            "✅ Normalized: 081.jpeg\n",
            "✅ Normalized: 079.jpeg\n",
            "✅ Normalized: 074.jpeg\n",
            "✅ Normalized: 073.jpeg\n",
            "✅ Normalized: 067.jpeg\n",
            "✅ Normalized: 071.jpeg\n",
            "✅ Normalized: 068.jpeg\n",
            "✅ Normalized: 066.jpeg\n",
            "✅ Normalized: 070.jpeg\n",
            "✅ Normalized: 069.jpeg\n",
            "✅ Normalized: 064.jpeg\n",
            "✅ Normalized: 065.jpeg\n",
            "✅ Normalized: 072.jpeg\n",
            "✅ Normalized: 062.jpeg\n",
            "✅ Normalized: 063.jpeg\n",
            "✅ Normalized: 052.jpeg\n",
            "✅ Normalized: 061.jpeg\n",
            "✅ Normalized: 058.jpeg\n",
            "✅ Normalized: 051.jpeg\n",
            "✅ Normalized: 053.jpeg\n",
            "✅ Normalized: 057.jpeg\n",
            "✅ Normalized: 056.jpeg\n",
            "✅ Normalized: 055.jpeg\n",
            "✅ Normalized: 054.jpeg\n",
            "✅ Normalized: 059.jpeg\n",
            "✅ Normalized: 060.jpeg\n",
            "✅ Normalized: 191.jpeg\n",
            "✅ Normalized: 189.jpeg\n",
            "✅ Normalized: 190.jpeg\n",
            "✅ Normalized: 198.jpeg\n",
            "✅ Normalized: 192.jpeg\n",
            "✅ Normalized: 184.jpeg\n",
            "✅ Normalized: 182.jpeg\n",
            "✅ Normalized: 183.jpeg\n",
            "✅ Normalized: 181.jpeg\n",
            "✅ Normalized: 185.jpeg\n",
            "✅ Normalized: 180.jpeg\n",
            "✅ Normalized: 178.jpeg\n",
            "✅ Normalized: 179.jpeg\n",
            "✅ Normalized: 187.jpeg\n",
            "✅ Normalized: 186.jpeg\n",
            "✅ Normalized: 188.jpeg\n",
            "✅ Normalized: 177.jpeg\n",
            "✅ Normalized: 174.jpeg\n",
            "✅ Normalized: 176.jpeg\n",
            "✅ Normalized: 167.jpeg\n",
            "✅ Normalized: 175.jpeg\n",
            "✅ Normalized: 165.jpeg\n",
            "✅ Normalized: 169.jpeg\n",
            "✅ Normalized: 172.jpeg\n",
            "✅ Normalized: 166.jpeg\n",
            "✅ Normalized: 171.jpeg\n",
            "✅ Normalized: 173.jpeg\n",
            "✅ Normalized: 170.jpeg\n",
            "✅ Normalized: 168.jpeg\n",
            "✅ Normalized: 153.jpeg\n",
            "✅ Normalized: 156.jpeg\n",
            "✅ Normalized: 160.jpeg\n",
            "✅ Normalized: 158.jpeg\n",
            "✅ Normalized: 161.jpeg\n",
            "✅ Normalized: 159.jpeg\n",
            "✅ Normalized: 155.jpeg\n",
            "✅ Normalized: 162.jpeg\n",
            "✅ Normalized: 163.jpeg\n",
            "✅ Normalized: 164.jpeg\n",
            "✅ Normalized: 152.jpeg\n",
            "✅ Normalized: 147.jpeg\n",
            "✅ Normalized: 143.jpeg\n",
            "✅ Normalized: 145.jpeg\n",
            "✅ Normalized: 142.jpeg\n",
            "✅ Normalized: 144.jpeg\n",
            "✅ Normalized: 150.jpeg\n",
            "✅ Normalized: 151.jpeg\n",
            "✅ Normalized: 140.jpeg\n",
            "✅ Normalized: 139.jpeg\n",
            "✅ Normalized: 146.jpeg\n",
            "✅ Normalized: 141.jpeg\n",
            "✅ Normalized: 149.jpeg\n",
            "✅ Normalized: 148.jpeg\n",
            "✅ Normalized: 131.jpeg\n",
            "✅ Normalized: 127.jpeg\n",
            "✅ Normalized: 128.jpeg\n",
            "✅ Normalized: 129.jpeg\n",
            "✅ Normalized: 134.jpeg\n",
            "✅ Normalized: 132.jpeg\n",
            "✅ Normalized: 135.jpeg\n",
            "✅ Normalized: 133.jpeg\n",
            "✅ Normalized: 137.jpeg\n",
            "✅ Normalized: 138.jpeg\n",
            "✅ Normalized: 125.jpeg\n",
            "✅ Normalized: 126.jpeg\n",
            "✅ Normalized: 116.jpeg\n",
            "✅ Normalized: 121.jpeg\n",
            "✅ Normalized: 117.jpeg\n",
            "✅ Normalized: 119.jpeg\n",
            "✅ Normalized: 120.jpeg\n",
            "✅ Normalized: 122.jpeg\n",
            "✅ Normalized: 136.jpeg\n",
            "✅ Normalized: 246.jpeg\n",
            "✅ Normalized: 247.jpeg\n",
            "✅ Normalized: 250.jpeg\n",
            "✅ Normalized: 248.jpeg\n",
            "✅ Normalized: 249.jpeg\n",
            "✅ Normalized: 242.jpeg\n",
            "✅ Normalized: 244.jpeg\n",
            "✅ Normalized: 245.jpeg\n",
            "✅ Normalized: 243.jpeg\n",
            "✅ Normalized: 219.jpeg\n",
            "✅ Normalized: 213.jpeg\n",
            "✅ Normalized: 235.jpeg\n",
            "✅ Normalized: 216.jpeg\n",
            "✅ Normalized: 215.jpeg\n",
            "✅ Normalized: 226.jpeg\n",
            "✅ Normalized: 218.jpeg\n",
            "✅ Normalized: 217.jpeg\n",
            "✅ Normalized: 214.jpeg\n",
            "✅ Normalized: 231.jpeg\n",
            "✅ Normalized: 204.jpeg\n",
            "✅ Normalized: 208.jpeg\n",
            "✅ Normalized: 207.jpeg\n",
            "✅ Normalized: 206.jpeg\n",
            "✅ Normalized: 205.jpeg\n",
            "✅ Normalized: 209.jpeg\n",
            "✅ Normalized: 211.jpeg\n",
            "✅ Normalized: 212.jpeg\n",
            "✅ Normalized: 203.jpeg\n",
            "✅ Normalized: 201.jpeg\n",
            "✅ Normalized: 202.jpeg\n",
            "✅ Normalized: 200.jpeg\n",
            "✅ Normalized: 210.jpeg\n",
            "✅ Normalized: 195.jpeg\n",
            "✅ Normalized: 197.jpeg\n",
            "✅ Normalized: 193.jpeg\n",
            "✅ Normalized: 194.jpeg\n",
            "✅ Normalized: 196.jpeg\n",
            "✅ Normalized: 199.jpeg\n",
            "✅ All images normalized successfully!\n"
          ]
        }
      ]
    },
    {
      "cell_type": "markdown",
      "source": [
        "check for normalized values"
      ],
      "metadata": {
        "id": "G6mrbvo3J66I"
      }
    },
    {
      "cell_type": "code",
      "source": [
        "import cv2\n",
        "import numpy as np\n",
        "\n",
        "# Load an image\n",
        "image_path = \"/content/drive/MyDrive/oralcancerdatasets/CANCER/001.jpeg\"\n",
        "img = cv2.imread(image_path)\n",
        "\n",
        "# Convert to float and normalize\n",
        "img_normalized = img.astype(np.float32) / 255.0\n",
        "\n",
        "# Check min and max pixel values\n",
        "print(f\"Min Pixel Value: {np.min(img_normalized)}\")  # Should be 0.0\n",
        "print(f\"Max Pixel Value: {np.max(img_normalized)}\")  # Should be 1.0\n",
        "\n",
        "# Display image\n",
        "cv2_imshow(\"Normalized Image\", img_normalized)  # It may appear normal\n",
        "cv2.waitKey(0)\n",
        "cv2.destroyAllWindows()\n"
      ],
      "metadata": {
        "colab": {
          "base_uri": "https://localhost:8080/",
          "height": 245
        },
        "id": "NZBTElpgJ6kA",
        "outputId": "10d82668-a0eb-43be-aba4-3daa0ca87065"
      },
      "execution_count": null,
      "outputs": [
        {
          "output_type": "stream",
          "name": "stdout",
          "text": [
            "Min Pixel Value: 0.003921568859368563\n",
            "Max Pixel Value: 1.0\n"
          ]
        },
        {
          "output_type": "error",
          "ename": "NameError",
          "evalue": "name 'cv2_imshow' is not defined",
          "traceback": [
            "\u001b[0;31m---------------------------------------------------------------------------\u001b[0m",
            "\u001b[0;31mNameError\u001b[0m                                 Traceback (most recent call last)",
            "\u001b[0;32m<ipython-input-9-90fad5153b17>\u001b[0m in \u001b[0;36m<cell line: 0>\u001b[0;34m()\u001b[0m\n\u001b[1;32m     14\u001b[0m \u001b[0;34m\u001b[0m\u001b[0m\n\u001b[1;32m     15\u001b[0m \u001b[0;31m# Display image\u001b[0m\u001b[0;34m\u001b[0m\u001b[0;34m\u001b[0m\u001b[0m\n\u001b[0;32m---> 16\u001b[0;31m \u001b[0mcv2_imshow\u001b[0m\u001b[0;34m(\u001b[0m\u001b[0;34m\"Normalized Image\"\u001b[0m\u001b[0;34m,\u001b[0m \u001b[0mimg_normalized\u001b[0m\u001b[0;34m)\u001b[0m  \u001b[0;31m# It may appear normal\u001b[0m\u001b[0;34m\u001b[0m\u001b[0;34m\u001b[0m\u001b[0m\n\u001b[0m\u001b[1;32m     17\u001b[0m \u001b[0mcv2\u001b[0m\u001b[0;34m.\u001b[0m\u001b[0mwaitKey\u001b[0m\u001b[0;34m(\u001b[0m\u001b[0;36m0\u001b[0m\u001b[0;34m)\u001b[0m\u001b[0;34m\u001b[0m\u001b[0;34m\u001b[0m\u001b[0m\n\u001b[1;32m     18\u001b[0m \u001b[0mcv2\u001b[0m\u001b[0;34m.\u001b[0m\u001b[0mdestroyAllWindows\u001b[0m\u001b[0;34m(\u001b[0m\u001b[0;34m)\u001b[0m\u001b[0;34m\u001b[0m\u001b[0;34m\u001b[0m\u001b[0m\n",
            "\u001b[0;31mNameError\u001b[0m: name 'cv2_imshow' is not defined"
          ]
        }
      ]
    },
    {
      "cell_type": "markdown",
      "source": [
        "Augumentation"
      ],
      "metadata": {
        "id": "_A3wcoiwNTwk"
      }
    },
    {
      "cell_type": "code",
      "source": [
        "import tensorflow\n",
        "from tensorflow.keras.preprocessing.image import ImageDataGenerator\n",
        "import cv2\n",
        "import os\n",
        "\n",
        "# Define augmentation parameters\n",
        "datagen = ImageDataGenerator(\n",
        "    rotation_range=20,\n",
        "    width_shift_range=0.2,\n",
        "    height_shift_range=0.2,\n",
        "    shear_range=0.2,\n",
        "    zoom_range=0.2,\n",
        "    horizontal_flip=True,\n",
        "    brightness_range=[0.8, 1.2],\n",
        "    fill_mode=\"nearest\"\n",
        ")\n",
        "\n",
        "# Directory paths\n",
        "input_dir = \"/content/drive/MyDrive/oralcancerdatasets/NON CANCER\"\n",
        "output_dir = \"/content/drive/MyDrive/oralcancerdatasets/NON CANCER_AUGUMENTED \"\n",
        "\n",
        "os.makedirs(output_dir, exist_ok=True)\n",
        "\n",
        "# Augment images\n",
        "for filename in os.listdir(input_dir):\n",
        "    img_path = os.path.join(input_dir, filename)\n",
        "    img = cv2.imread(img_path)\n",
        "    img = cv2.cvtColor(img, cv2.COLOR_BGR2RGB)  # Convert to RGB\n",
        "    img = img.reshape((1,) + img.shape)  # Reshape for ImageDataGenerator\n",
        "\n",
        "    # Generate 5 augmented images per original\n",
        "    i = 0\n",
        "    for batch in datagen.flow(img, batch_size=1, save_to_dir=output_dir, save_prefix=\"aug\", save_format=\"jpeg\"):\n",
        "        i += 1\n",
        "        if i >= 5:  # Generate 5 augmented images per original\n",
        "            break\n",
        "\n",
        "print(\"Data augmentation completed! Augmented images are stored in:\", output_dir)\n"
      ],
      "metadata": {
        "colab": {
          "base_uri": "https://localhost:8080/"
        },
        "id": "mMVzbhR_KVqg",
        "outputId": "d32b56cd-d84c-4dec-fdce-1f0a3795b113"
      },
      "execution_count": null,
      "outputs": [
        {
          "output_type": "stream",
          "name": "stdout",
          "text": [
            "✅ Data augmentation completed! Augmented images are stored in: /content/drive/MyDrive/oralcancerdatasets/NON CANCER_AUGUMENTED \n"
          ]
        }
      ]
    },
    {
      "cell_type": "code",
      "source": [
        "import cv2\n",
        "import os\n",
        "import numpy as np\n",
        "\n",
        "# Define input and output directories\n",
        "input_dir = \"/content/drive/MyDrive/oralcancerdatasets/NON CANCER_AUGUMENTED \"\n",
        "output_dir = \"/content/drive/MyDrive/oralcancerdatasets/NON CANCER_AUGMENTED_PROCESSED/\"\n",
        "\n",
        "# Create the output directory if it doesn't exist\n",
        "os.makedirs(output_dir, exist_ok=True)\n",
        "\n",
        "# Process all .jpeg files in the input directory\n",
        "for filename in os.listdir(input_dir):\n",
        "    if filename.endswith(\".jpeg\"):\n",
        "        # Load image\n",
        "        img_path = os.path.join(input_dir, filename)\n",
        "        img = cv2.imread(img_path)\n",
        "\n",
        "        # Convert image to grayscale\n",
        "        gray = cv2.cvtColor(img, cv2.COLOR_BGR2GRAY)\n",
        "\n",
        "        # Threshold the image\n",
        "        _, thresh = cv2.threshold(gray, 150, 255, cv2.THRESH_BINARY)\n",
        "\n",
        "        # Find contours\n",
        "        contours, _ = cv2.findContours(thresh, cv2.RETR_EXTERNAL, cv2.CHAIN_APPROX_SIMPLE)\n",
        "\n",
        "        # Draw bounding boxes around lesions\n",
        "        for cnt in contours:\n",
        "            x, y, w, h = cv2.boundingRect(cnt)\n",
        "            cv2.rectangle(img, (x, y), (x + w, y + h), (0, 255, 0), 2)\n",
        "\n",
        "        # Save the processed image in the output directory\n",
        "        output_path = os.path.join(output_dir, filename)\n",
        "        cv2.imwrite(output_path, img)\n",
        "print(\"saved\")\n",
        "\n"
      ],
      "metadata": {
        "colab": {
          "base_uri": "https://localhost:8080/"
        },
        "id": "l9DzkBGHMa0-",
        "outputId": "957c75b4-246c-4fa8-9047-bcd231db3822"
      },
      "execution_count": null,
      "outputs": [
        {
          "output_type": "stream",
          "name": "stdout",
          "text": [
            "saved\n"
          ]
        }
      ]
    },
    {
      "cell_type": "code",
      "source": [
        "import os\n",
        "\n",
        "# Define class IDs: 0 for cancer, 1 for non-cancer\n",
        "class_ids = {'cancer': 0, 'non_cancer': 1}\n",
        "\n",
        "# Paths to your directories\n",
        "image_dir_cancer = \"/content/drive/MyDrive/oralcancerdatasets/C_A_PROCESSED\"\n",
        "image_dir_non_cancer = \"/content/drive/MyDrive/oralcancerdatasets/NC_A_PROCESSED\"\n",
        "\n",
        "# Function to write YOLO annotation file for each image\n",
        "def write_yolo_annotations(image_path, annotations, label_dir):\n",
        "    # Create a label file with the same name as the image but with .txt extension\n",
        "    base_filename = os.path.splitext(os.path.basename(image_path))[0]\n",
        "    label_file = os.path.join(label_dir, base_filename + \".txt\")\n",
        "\n",
        "    with open(label_file, 'w') as f:\n",
        "        for ann in annotations:\n",
        "            # Format: <class_id> <x_center> <y_center> <width> <height>\n",
        "            f.write(f\"{ann['class_id']} {ann['x_center']} {ann['y_center']} {ann['width']} {ann['height']}\\n\")\n",
        "\n",
        "# Example usage: Add your bounding boxes to each image\n",
        "annotations_cancer = [\n",
        "    # This is an example of a cancer lesion, class 0 (cancer)\n",
        "    {'class_id': 0, 'x_center': 0.5, 'y_center': 0.5, 'width': 0.1, 'height': 0.1}\n",
        "]\n",
        "\n",
        "annotations_non_cancer = [\n",
        "    # No bounding box needed for non-cancer images\n",
        "]\n",
        "\n",
        "# Loop through images in the cancer directory and create annotation files\n",
        "for image_filename in os.listdir(image_dir_cancer):\n",
        "    image_path = os.path.join(image_dir_cancer, image_filename)\n",
        "    write_yolo_annotations(image_path, annotations_cancer, image_dir_cancer)\n",
        "\n",
        "# Loop through images in the non-cancer directory and create annotation files\n",
        "for image_filename in os.listdir(image_dir_non_cancer):\n",
        "    image_path = os.path.join(image_dir_non_cancer, image_filename)\n",
        "    write_yolo_annotations(image_path, annotations_non_cancer, image_dir_non_cancer)\n",
        "\n",
        "print(\" Annotation files created for all images.\")\n"
      ],
      "metadata": {
        "id": "AFteLKNR136V",
        "colab": {
          "base_uri": "https://localhost:8080/"
        },
        "outputId": "bad4ca0c-f266-4f1b-d9f0-d3a737eca28f"
      },
      "execution_count": null,
      "outputs": [
        {
          "output_type": "stream",
          "name": "stdout",
          "text": [
            "✅ Annotation files created for all images.\n"
          ]
        }
      ]
    },
    {
      "cell_type": "code",
      "source": [
        "import shutil\n",
        "import os\n",
        "\n",
        "# Define label source directories\n",
        "cancer_label_dir = \"/content/drive/MyDrive/oralcancerdatasets/C_A_PROCESSED\"\n",
        "non_cancer_label_dir = \"/content/drive/MyDrive/oralcancerdatasets/NC_A_PROCESSED\"\n",
        "\n",
        "# Define destination directory\n",
        "label_dest_dir = \"/content/drivoralcancerdatasets/all_labels\"\n",
        "os.makedirs(label_dest_dir, exist_ok=True)\n",
        "\n",
        "# Move cancer labels\n",
        "for file in os.listdir(cancer_label_dir):\n",
        "    if file.endswith(\".txt\"):\n",
        "        shutil.move(os.path.join(cancer_label_dir, file), os.path.join(label_dest_dir, file))\n",
        "\n",
        "# Move non-cancer labels\n",
        "for file in os.listdir(non_cancer_label_dir):\n",
        "    if file.endswith(\".txt\"):\n",
        "        shutil.move(os.path.join(non_cancer_label_dir, file), os.path.join(label_dest_dir, file))\n",
        "\n",
        "print(\"✅ All label files moved to 'all_labels' directory!\")\n"
      ],
      "metadata": {
        "colab": {
          "base_uri": "https://localhost:8080/"
        },
        "id": "0rRd8Ulz4b1_",
        "outputId": "bdaf3164-9a65-41f7-ea09-772a152feb73"
      },
      "execution_count": null,
      "outputs": [
        {
          "output_type": "stream",
          "name": "stdout",
          "text": [
            "✅ All label files moved to 'all_labels' directory!\n"
          ]
        }
      ]
    },
    {
      "cell_type": "code",
      "source": [
        "import os\n",
        "import shutil\n",
        "\n",
        "# Define source and destination directories\n",
        "src_dir = \"/content/drive/MyDrive/oralcancerdatasets\"\n",
        "dst_dir = \"/content/drive/MyDrive/oralcancerdatasets/all_labels\"\n",
        "\n",
        "# Ensure destination directory exists\n",
        "os.makedirs(dst_dir, exist_ok=True)\n",
        "\n",
        "# Move all .txt files from src_dir to dst_dir\n",
        "for filename in os.listdir(src_dir):\n",
        "    if filename.endswith(\".txt\"):  # Ensure only label files are moved\n",
        "        shutil.move(os.path.join(src_dir, filename), os.path.join(dst_dir, filename))\n",
        "\n",
        "print(\"✅ All label files have been moved successfully!\")\n"
      ],
      "metadata": {
        "colab": {
          "base_uri": "https://localhost:8080/"
        },
        "id": "1x0Xcb7n-wI-",
        "outputId": "f2077128-b9f3-4921-e2b6-db07c3358258"
      },
      "execution_count": null,
      "outputs": [
        {
          "output_type": "stream",
          "name": "stdout",
          "text": [
            "✅ All label files have been moved successfully!\n"
          ]
        }
      ]
    },
    {
      "cell_type": "code",
      "source": [
        "!git clone https://github.com/ultralytics/yolov5.git\n",
        "%cd yolov5\n",
        "!pip install -U -r requirements.txt\n"
      ],
      "metadata": {
        "id": "lHfrShf2iapg",
        "colab": {
          "base_uri": "https://localhost:8080/",
          "height": 1000
        },
        "outputId": "8b412263-1232-4b95-c48e-16b21bb33785"
      },
      "execution_count": null,
      "outputs": [
        {
          "output_type": "stream",
          "name": "stdout",
          "text": [
            "Cloning into 'yolov5'...\n",
            "remote: Enumerating objects: 17270, done.\u001b[K\n",
            "remote: Counting objects: 100% (1/1), done.\u001b[K\n",
            "remote: Total 17270 (delta 0), reused 0 (delta 0), pack-reused 17269 (from 2)\u001b[K\n",
            "Receiving objects: 100% (17270/17270), 16.11 MiB | 27.31 MiB/s, done.\n",
            "Resolving deltas: 100% (11861/11861), done.\n",
            "/content/yolov5\n",
            "Requirement already satisfied: gitpython>=3.1.30 in /usr/local/lib/python3.11/dist-packages (from -r requirements.txt (line 5)) (3.1.44)\n",
            "Requirement already satisfied: matplotlib>=3.3 in /usr/local/lib/python3.11/dist-packages (from -r requirements.txt (line 6)) (3.10.0)\n",
            "Collecting matplotlib>=3.3 (from -r requirements.txt (line 6))\n",
            "  Downloading matplotlib-3.10.1-cp311-cp311-manylinux_2_17_x86_64.manylinux2014_x86_64.whl.metadata (11 kB)\n",
            "Requirement already satisfied: numpy>=1.23.5 in /usr/local/lib/python3.11/dist-packages (from -r requirements.txt (line 7)) (1.26.4)\n",
            "Collecting numpy>=1.23.5 (from -r requirements.txt (line 7))\n",
            "  Downloading numpy-2.2.3-cp311-cp311-manylinux_2_17_x86_64.manylinux2014_x86_64.whl.metadata (62 kB)\n",
            "\u001b[2K     \u001b[90m━━━━━━━━━━━━━━━━━━━━━━━━━━━━━━━━━━━━━━━━\u001b[0m \u001b[32m62.0/62.0 kB\u001b[0m \u001b[31m3.3 MB/s\u001b[0m eta \u001b[36m0:00:00\u001b[0m\n",
            "\u001b[?25hRequirement already satisfied: opencv-python>=4.1.1 in /usr/local/lib/python3.11/dist-packages (from -r requirements.txt (line 8)) (4.11.0.86)\n",
            "Requirement already satisfied: pillow>=10.3.0 in /usr/local/lib/python3.11/dist-packages (from -r requirements.txt (line 9)) (11.1.0)\n",
            "Requirement already satisfied: psutil in /usr/local/lib/python3.11/dist-packages (from -r requirements.txt (line 10)) (5.9.5)\n",
            "Collecting psutil (from -r requirements.txt (line 10))\n",
            "  Downloading psutil-7.0.0-cp36-abi3-manylinux_2_12_x86_64.manylinux2010_x86_64.manylinux_2_17_x86_64.manylinux2014_x86_64.whl.metadata (22 kB)\n",
            "Requirement already satisfied: PyYAML>=5.3.1 in /usr/local/lib/python3.11/dist-packages (from -r requirements.txt (line 11)) (6.0.2)\n",
            "Requirement already satisfied: requests>=2.32.2 in /usr/local/lib/python3.11/dist-packages (from -r requirements.txt (line 12)) (2.32.3)\n",
            "Requirement already satisfied: scipy>=1.4.1 in /usr/local/lib/python3.11/dist-packages (from -r requirements.txt (line 13)) (1.13.1)\n",
            "Collecting scipy>=1.4.1 (from -r requirements.txt (line 13))\n",
            "  Downloading scipy-1.15.2-cp311-cp311-manylinux_2_17_x86_64.manylinux2014_x86_64.whl.metadata (61 kB)\n",
            "\u001b[2K     \u001b[90m━━━━━━━━━━━━━━━━━━━━━━━━━━━━━━━━━━━━━━━━\u001b[0m \u001b[32m62.0/62.0 kB\u001b[0m \u001b[31m4.0 MB/s\u001b[0m eta \u001b[36m0:00:00\u001b[0m\n",
            "\u001b[?25hCollecting thop>=0.1.1 (from -r requirements.txt (line 14))\n",
            "  Downloading thop-0.1.1.post2209072238-py3-none-any.whl.metadata (2.7 kB)\n",
            "Requirement already satisfied: torch>=1.8.0 in /usr/local/lib/python3.11/dist-packages (from -r requirements.txt (line 15)) (2.5.1+cu124)\n",
            "Collecting torch>=1.8.0 (from -r requirements.txt (line 15))\n",
            "  Downloading torch-2.6.0-cp311-cp311-manylinux1_x86_64.whl.metadata (28 kB)\n",
            "Requirement already satisfied: torchvision>=0.9.0 in /usr/local/lib/python3.11/dist-packages (from -r requirements.txt (line 16)) (0.20.1+cu124)\n",
            "Collecting torchvision>=0.9.0 (from -r requirements.txt (line 16))\n",
            "  Downloading torchvision-0.21.0-cp311-cp311-manylinux1_x86_64.whl.metadata (6.1 kB)\n",
            "Requirement already satisfied: tqdm>=4.66.3 in /usr/local/lib/python3.11/dist-packages (from -r requirements.txt (line 17)) (4.67.1)\n",
            "Collecting ultralytics>=8.2.34 (from -r requirements.txt (line 18))\n",
            "  Downloading ultralytics-8.3.85-py3-none-any.whl.metadata (35 kB)\n",
            "Requirement already satisfied: pandas>=1.1.4 in /usr/local/lib/python3.11/dist-packages (from -r requirements.txt (line 27)) (2.2.2)\n",
            "Collecting pandas>=1.1.4 (from -r requirements.txt (line 27))\n",
            "  Downloading pandas-2.2.3-cp311-cp311-manylinux_2_17_x86_64.manylinux2014_x86_64.whl.metadata (89 kB)\n",
            "\u001b[2K     \u001b[90m━━━━━━━━━━━━━━━━━━━━━━━━━━━━━━━━━━━━━━━━\u001b[0m \u001b[32m89.9/89.9 kB\u001b[0m \u001b[31m7.8 MB/s\u001b[0m eta \u001b[36m0:00:00\u001b[0m\n",
            "\u001b[?25hRequirement already satisfied: seaborn>=0.11.0 in /usr/local/lib/python3.11/dist-packages (from -r requirements.txt (line 28)) (0.13.2)\n",
            "Requirement already satisfied: setuptools>=70.0.0 in /usr/local/lib/python3.11/dist-packages (from -r requirements.txt (line 42)) (75.1.0)\n",
            "Collecting setuptools>=70.0.0 (from -r requirements.txt (line 42))\n",
            "  Downloading setuptools-75.8.2-py3-none-any.whl.metadata (6.7 kB)\n",
            "Requirement already satisfied: gitdb<5,>=4.0.1 in /usr/local/lib/python3.11/dist-packages (from gitpython>=3.1.30->-r requirements.txt (line 5)) (4.0.12)\n",
            "Requirement already satisfied: contourpy>=1.0.1 in /usr/local/lib/python3.11/dist-packages (from matplotlib>=3.3->-r requirements.txt (line 6)) (1.3.1)\n",
            "Requirement already satisfied: cycler>=0.10 in /usr/local/lib/python3.11/dist-packages (from matplotlib>=3.3->-r requirements.txt (line 6)) (0.12.1)\n",
            "Requirement already satisfied: fonttools>=4.22.0 in /usr/local/lib/python3.11/dist-packages (from matplotlib>=3.3->-r requirements.txt (line 6)) (4.56.0)\n",
            "Requirement already satisfied: kiwisolver>=1.3.1 in /usr/local/lib/python3.11/dist-packages (from matplotlib>=3.3->-r requirements.txt (line 6)) (1.4.8)\n",
            "Requirement already satisfied: packaging>=20.0 in /usr/local/lib/python3.11/dist-packages (from matplotlib>=3.3->-r requirements.txt (line 6)) (24.2)\n",
            "Requirement already satisfied: pyparsing>=2.3.1 in /usr/local/lib/python3.11/dist-packages (from matplotlib>=3.3->-r requirements.txt (line 6)) (3.2.1)\n",
            "Requirement already satisfied: python-dateutil>=2.7 in /usr/local/lib/python3.11/dist-packages (from matplotlib>=3.3->-r requirements.txt (line 6)) (2.8.2)\n",
            "Requirement already satisfied: charset-normalizer<4,>=2 in /usr/local/lib/python3.11/dist-packages (from requests>=2.32.2->-r requirements.txt (line 12)) (3.4.1)\n",
            "Requirement already satisfied: idna<4,>=2.5 in /usr/local/lib/python3.11/dist-packages (from requests>=2.32.2->-r requirements.txt (line 12)) (3.10)\n",
            "Requirement already satisfied: urllib3<3,>=1.21.1 in /usr/local/lib/python3.11/dist-packages (from requests>=2.32.2->-r requirements.txt (line 12)) (2.3.0)\n",
            "Requirement already satisfied: certifi>=2017.4.17 in /usr/local/lib/python3.11/dist-packages (from requests>=2.32.2->-r requirements.txt (line 12)) (2025.1.31)\n",
            "Requirement already satisfied: filelock in /usr/local/lib/python3.11/dist-packages (from torch>=1.8.0->-r requirements.txt (line 15)) (3.17.0)\n",
            "Requirement already satisfied: typing-extensions>=4.10.0 in /usr/local/lib/python3.11/dist-packages (from torch>=1.8.0->-r requirements.txt (line 15)) (4.12.2)\n",
            "Requirement already satisfied: networkx in /usr/local/lib/python3.11/dist-packages (from torch>=1.8.0->-r requirements.txt (line 15)) (3.4.2)\n",
            "Requirement already satisfied: jinja2 in /usr/local/lib/python3.11/dist-packages (from torch>=1.8.0->-r requirements.txt (line 15)) (3.1.5)\n",
            "Requirement already satisfied: fsspec in /usr/local/lib/python3.11/dist-packages (from torch>=1.8.0->-r requirements.txt (line 15)) (2024.10.0)\n",
            "Collecting nvidia-cuda-nvrtc-cu12==12.4.127 (from torch>=1.8.0->-r requirements.txt (line 15))\n",
            "  Downloading nvidia_cuda_nvrtc_cu12-12.4.127-py3-none-manylinux2014_x86_64.whl.metadata (1.5 kB)\n",
            "Collecting nvidia-cuda-runtime-cu12==12.4.127 (from torch>=1.8.0->-r requirements.txt (line 15))\n",
            "  Downloading nvidia_cuda_runtime_cu12-12.4.127-py3-none-manylinux2014_x86_64.whl.metadata (1.5 kB)\n",
            "Collecting nvidia-cuda-cupti-cu12==12.4.127 (from torch>=1.8.0->-r requirements.txt (line 15))\n",
            "  Downloading nvidia_cuda_cupti_cu12-12.4.127-py3-none-manylinux2014_x86_64.whl.metadata (1.6 kB)\n",
            "Collecting nvidia-cudnn-cu12==9.1.0.70 (from torch>=1.8.0->-r requirements.txt (line 15))\n",
            "  Downloading nvidia_cudnn_cu12-9.1.0.70-py3-none-manylinux2014_x86_64.whl.metadata (1.6 kB)\n",
            "Collecting nvidia-cublas-cu12==12.4.5.8 (from torch>=1.8.0->-r requirements.txt (line 15))\n",
            "  Downloading nvidia_cublas_cu12-12.4.5.8-py3-none-manylinux2014_x86_64.whl.metadata (1.5 kB)\n",
            "Collecting nvidia-cufft-cu12==11.2.1.3 (from torch>=1.8.0->-r requirements.txt (line 15))\n",
            "  Downloading nvidia_cufft_cu12-11.2.1.3-py3-none-manylinux2014_x86_64.whl.metadata (1.5 kB)\n",
            "Collecting nvidia-curand-cu12==10.3.5.147 (from torch>=1.8.0->-r requirements.txt (line 15))\n",
            "  Downloading nvidia_curand_cu12-10.3.5.147-py3-none-manylinux2014_x86_64.whl.metadata (1.5 kB)\n",
            "Collecting nvidia-cusolver-cu12==11.6.1.9 (from torch>=1.8.0->-r requirements.txt (line 15))\n",
            "  Downloading nvidia_cusolver_cu12-11.6.1.9-py3-none-manylinux2014_x86_64.whl.metadata (1.6 kB)\n",
            "Collecting nvidia-cusparse-cu12==12.3.1.170 (from torch>=1.8.0->-r requirements.txt (line 15))\n",
            "  Downloading nvidia_cusparse_cu12-12.3.1.170-py3-none-manylinux2014_x86_64.whl.metadata (1.6 kB)\n",
            "Collecting nvidia-cusparselt-cu12==0.6.2 (from torch>=1.8.0->-r requirements.txt (line 15))\n",
            "  Downloading nvidia_cusparselt_cu12-0.6.2-py3-none-manylinux2014_x86_64.whl.metadata (6.8 kB)\n",
            "Requirement already satisfied: nvidia-nccl-cu12==2.21.5 in /usr/local/lib/python3.11/dist-packages (from torch>=1.8.0->-r requirements.txt (line 15)) (2.21.5)\n",
            "Requirement already satisfied: nvidia-nvtx-cu12==12.4.127 in /usr/local/lib/python3.11/dist-packages (from torch>=1.8.0->-r requirements.txt (line 15)) (12.4.127)\n",
            "Collecting nvidia-nvjitlink-cu12==12.4.127 (from torch>=1.8.0->-r requirements.txt (line 15))\n",
            "  Downloading nvidia_nvjitlink_cu12-12.4.127-py3-none-manylinux2014_x86_64.whl.metadata (1.5 kB)\n",
            "Collecting triton==3.2.0 (from torch>=1.8.0->-r requirements.txt (line 15))\n",
            "  Downloading triton-3.2.0-cp311-cp311-manylinux_2_17_x86_64.manylinux2014_x86_64.whl.metadata (1.4 kB)\n",
            "Requirement already satisfied: sympy==1.13.1 in /usr/local/lib/python3.11/dist-packages (from torch>=1.8.0->-r requirements.txt (line 15)) (1.13.1)\n",
            "Requirement already satisfied: mpmath<1.4,>=1.1.0 in /usr/local/lib/python3.11/dist-packages (from sympy==1.13.1->torch>=1.8.0->-r requirements.txt (line 15)) (1.3.0)\n",
            "Collecting numpy>=1.23.5 (from -r requirements.txt (line 7))\n",
            "  Downloading numpy-2.1.1-cp311-cp311-manylinux_2_17_x86_64.manylinux2014_x86_64.whl.metadata (60 kB)\n",
            "\u001b[2K     \u001b[90m━━━━━━━━━━━━━━━━━━━━━━━━━━━━━━━━━━━━━━━━\u001b[0m \u001b[32m60.9/60.9 kB\u001b[0m \u001b[31m5.7 MB/s\u001b[0m eta \u001b[36m0:00:00\u001b[0m\n",
            "\u001b[?25hRequirement already satisfied: py-cpuinfo in /usr/local/lib/python3.11/dist-packages (from ultralytics>=8.2.34->-r requirements.txt (line 18)) (9.0.0)\n",
            "Collecting ultralytics-thop>=2.0.0 (from ultralytics>=8.2.34->-r requirements.txt (line 18))\n",
            "  Downloading ultralytics_thop-2.0.14-py3-none-any.whl.metadata (9.4 kB)\n",
            "Requirement already satisfied: pytz>=2020.1 in /usr/local/lib/python3.11/dist-packages (from pandas>=1.1.4->-r requirements.txt (line 27)) (2025.1)\n",
            "Requirement already satisfied: tzdata>=2022.7 in /usr/local/lib/python3.11/dist-packages (from pandas>=1.1.4->-r requirements.txt (line 27)) (2025.1)\n",
            "Requirement already satisfied: smmap<6,>=3.0.1 in /usr/local/lib/python3.11/dist-packages (from gitdb<5,>=4.0.1->gitpython>=3.1.30->-r requirements.txt (line 5)) (5.0.2)\n",
            "Requirement already satisfied: six>=1.5 in /usr/local/lib/python3.11/dist-packages (from python-dateutil>=2.7->matplotlib>=3.3->-r requirements.txt (line 6)) (1.17.0)\n",
            "Requirement already satisfied: MarkupSafe>=2.0 in /usr/local/lib/python3.11/dist-packages (from jinja2->torch>=1.8.0->-r requirements.txt (line 15)) (3.0.2)\n",
            "Downloading matplotlib-3.10.1-cp311-cp311-manylinux_2_17_x86_64.manylinux2014_x86_64.whl (8.6 MB)\n",
            "\u001b[2K   \u001b[90m━━━━━━━━━━━━━━━━━━━━━━━━━━━━━━━━━━━━━━━━\u001b[0m \u001b[32m8.6/8.6 MB\u001b[0m \u001b[31m76.6 MB/s\u001b[0m eta \u001b[36m0:00:00\u001b[0m\n",
            "\u001b[?25hDownloading psutil-7.0.0-cp36-abi3-manylinux_2_12_x86_64.manylinux2010_x86_64.manylinux_2_17_x86_64.manylinux2014_x86_64.whl (277 kB)\n",
            "\u001b[2K   \u001b[90m━━━━━━━━━━━━━━━━━━━━━━━━━━━━━━━━━━━━━━━━\u001b[0m \u001b[32m278.0/278.0 kB\u001b[0m \u001b[31m22.7 MB/s\u001b[0m eta \u001b[36m0:00:00\u001b[0m\n",
            "\u001b[?25hDownloading scipy-1.15.2-cp311-cp311-manylinux_2_17_x86_64.manylinux2014_x86_64.whl (37.6 MB)\n",
            "\u001b[2K   \u001b[90m━━━━━━━━━━━━━━━━━━━━━━━━━━━━━━━━━━━━━━━━\u001b[0m \u001b[32m37.6/37.6 MB\u001b[0m \u001b[31m24.6 MB/s\u001b[0m eta \u001b[36m0:00:00\u001b[0m\n",
            "\u001b[?25hDownloading thop-0.1.1.post2209072238-py3-none-any.whl (15 kB)\n",
            "Downloading torch-2.6.0-cp311-cp311-manylinux1_x86_64.whl (766.7 MB)\n",
            "\u001b[2K   \u001b[90m━━━━━━━━━━━━━━━━━━━━━━━━━━━━━━━━━━━━━━━━\u001b[0m \u001b[32m766.7/766.7 MB\u001b[0m \u001b[31m2.5 MB/s\u001b[0m eta \u001b[36m0:00:00\u001b[0m\n",
            "\u001b[?25hDownloading nvidia_cublas_cu12-12.4.5.8-py3-none-manylinux2014_x86_64.whl (363.4 MB)\n",
            "\u001b[2K   \u001b[90m━━━━━━━━━━━━━━━━━━━━━━━━━━━━━━━━━━━━━━━━\u001b[0m \u001b[32m363.4/363.4 MB\u001b[0m \u001b[31m4.2 MB/s\u001b[0m eta \u001b[36m0:00:00\u001b[0m\n",
            "\u001b[?25hDownloading nvidia_cuda_cupti_cu12-12.4.127-py3-none-manylinux2014_x86_64.whl (13.8 MB)\n",
            "\u001b[2K   \u001b[90m━━━━━━━━━━━━━━━━━━━━━━━━━━━━━━━━━━━━━━━━\u001b[0m \u001b[32m13.8/13.8 MB\u001b[0m \u001b[31m88.3 MB/s\u001b[0m eta \u001b[36m0:00:00\u001b[0m\n",
            "\u001b[?25hDownloading nvidia_cuda_nvrtc_cu12-12.4.127-py3-none-manylinux2014_x86_64.whl (24.6 MB)\n",
            "\u001b[2K   \u001b[90m━━━━━━━━━━━━━━━━━━━━━━━━━━━━━━━━━━━━━━━━\u001b[0m \u001b[32m24.6/24.6 MB\u001b[0m \u001b[31m73.6 MB/s\u001b[0m eta \u001b[36m0:00:00\u001b[0m\n",
            "\u001b[?25hDownloading nvidia_cuda_runtime_cu12-12.4.127-py3-none-manylinux2014_x86_64.whl (883 kB)\n",
            "\u001b[2K   \u001b[90m━━━━━━━━━━━━━━━━━━━━━━━━━━━━━━━━━━━━━━━━\u001b[0m \u001b[32m883.7/883.7 kB\u001b[0m \u001b[31m55.6 MB/s\u001b[0m eta \u001b[36m0:00:00\u001b[0m\n",
            "\u001b[?25hDownloading nvidia_cudnn_cu12-9.1.0.70-py3-none-manylinux2014_x86_64.whl (664.8 MB)\n",
            "\u001b[2K   \u001b[90m━━━━━━━━━━━━━━━━━━━━━━━━━━━━━━━━━━━━━━━━\u001b[0m \u001b[32m664.8/664.8 MB\u001b[0m \u001b[31m2.1 MB/s\u001b[0m eta \u001b[36m0:00:00\u001b[0m\n",
            "\u001b[?25hDownloading nvidia_cufft_cu12-11.2.1.3-py3-none-manylinux2014_x86_64.whl (211.5 MB)\n",
            "\u001b[2K   \u001b[90m━━━━━━━━━━━━━━━━━━━━━━━━━━━━━━━━━━━━━━━━\u001b[0m \u001b[32m211.5/211.5 MB\u001b[0m \u001b[31m5.9 MB/s\u001b[0m eta \u001b[36m0:00:00\u001b[0m\n",
            "\u001b[?25hDownloading nvidia_curand_cu12-10.3.5.147-py3-none-manylinux2014_x86_64.whl (56.3 MB)\n",
            "\u001b[2K   \u001b[90m━━━━━━━━━━━━━━━━━━━━━━━━━━━━━━━━━━━━━━━━\u001b[0m \u001b[32m56.3/56.3 MB\u001b[0m \u001b[31m13.9 MB/s\u001b[0m eta \u001b[36m0:00:00\u001b[0m\n",
            "\u001b[?25hDownloading nvidia_cusolver_cu12-11.6.1.9-py3-none-manylinux2014_x86_64.whl (127.9 MB)\n",
            "\u001b[2K   \u001b[90m━━━━━━━━━━━━━━━━━━━━━━━━━━━━━━━━━━━━━━━━\u001b[0m \u001b[32m127.9/127.9 MB\u001b[0m \u001b[31m7.5 MB/s\u001b[0m eta \u001b[36m0:00:00\u001b[0m\n",
            "\u001b[?25hDownloading nvidia_cusparse_cu12-12.3.1.170-py3-none-manylinux2014_x86_64.whl (207.5 MB)\n",
            "\u001b[2K   \u001b[90m━━━━━━━━━━━━━━━━━━━━━━━━━━━━━━━━━━━━━━━━\u001b[0m \u001b[32m207.5/207.5 MB\u001b[0m \u001b[31m6.1 MB/s\u001b[0m eta \u001b[36m0:00:00\u001b[0m\n",
            "\u001b[?25hDownloading nvidia_cusparselt_cu12-0.6.2-py3-none-manylinux2014_x86_64.whl (150.1 MB)\n",
            "\u001b[2K   \u001b[90m━━━━━━━━━━━━━━━━━━━━━━━━━━━━━━━━━━━━━━━━\u001b[0m \u001b[32m150.1/150.1 MB\u001b[0m \u001b[31m7.7 MB/s\u001b[0m eta \u001b[36m0:00:00\u001b[0m\n",
            "\u001b[?25hDownloading nvidia_nvjitlink_cu12-12.4.127-py3-none-manylinux2014_x86_64.whl (21.1 MB)\n",
            "\u001b[2K   \u001b[90m━━━━━━━━━━━━━━━━━━━━━━━━━━━━━━━━━━━━━━━━\u001b[0m \u001b[32m21.1/21.1 MB\u001b[0m \u001b[31m86.0 MB/s\u001b[0m eta \u001b[36m0:00:00\u001b[0m\n",
            "\u001b[?25hDownloading triton-3.2.0-cp311-cp311-manylinux_2_17_x86_64.manylinux2014_x86_64.whl (253.2 MB)\n",
            "\u001b[2K   \u001b[90m━━━━━━━━━━━━━━━━━━━━━━━━━━━━━━━━━━━━━━━━\u001b[0m \u001b[32m253.2/253.2 MB\u001b[0m \u001b[31m5.4 MB/s\u001b[0m eta \u001b[36m0:00:00\u001b[0m\n",
            "\u001b[?25hDownloading torchvision-0.21.0-cp311-cp311-manylinux1_x86_64.whl (7.2 MB)\n",
            "\u001b[2K   \u001b[90m━━━━━━━━━━━━━━━━━━━━━━━━━━━━━━━━━━━━━━━━\u001b[0m \u001b[32m7.2/7.2 MB\u001b[0m \u001b[31m92.9 MB/s\u001b[0m eta \u001b[36m0:00:00\u001b[0m\n",
            "\u001b[?25hDownloading ultralytics-8.3.85-py3-none-any.whl (922 kB)\n",
            "\u001b[2K   \u001b[90m━━━━━━━━━━━━━━━━━━━━━━━━━━━━━━━━━━━━━━━━\u001b[0m \u001b[32m922.2/922.2 kB\u001b[0m \u001b[31m59.1 MB/s\u001b[0m eta \u001b[36m0:00:00\u001b[0m\n",
            "\u001b[?25hDownloading numpy-2.1.1-cp311-cp311-manylinux_2_17_x86_64.manylinux2014_x86_64.whl (16.3 MB)\n",
            "\u001b[2K   \u001b[90m━━━━━━━━━━━━━━━━━━━━━━━━━━━━━━━━━━━━━━━━\u001b[0m \u001b[32m16.3/16.3 MB\u001b[0m \u001b[31m54.6 MB/s\u001b[0m eta \u001b[36m0:00:00\u001b[0m\n",
            "\u001b[?25hDownloading pandas-2.2.3-cp311-cp311-manylinux_2_17_x86_64.manylinux2014_x86_64.whl (13.1 MB)\n",
            "\u001b[2K   \u001b[90m━━━━━━━━━━━━━━━━━━━━━━━━━━━━━━━━━━━━━━━━\u001b[0m \u001b[32m13.1/13.1 MB\u001b[0m \u001b[31m70.8 MB/s\u001b[0m eta \u001b[36m0:00:00\u001b[0m\n",
            "\u001b[?25hDownloading setuptools-75.8.2-py3-none-any.whl (1.2 MB)\n",
            "\u001b[2K   \u001b[90m━━━━━━━━━━━━━━━━━━━━━━━━━━━━━━━━━━━━━━━━\u001b[0m \u001b[32m1.2/1.2 MB\u001b[0m \u001b[31m58.4 MB/s\u001b[0m eta \u001b[36m0:00:00\u001b[0m\n",
            "\u001b[?25hDownloading ultralytics_thop-2.0.14-py3-none-any.whl (26 kB)\n",
            "Installing collected packages: triton, nvidia-cusparselt-cu12, setuptools, psutil, nvidia-nvjitlink-cu12, nvidia-curand-cu12, nvidia-cufft-cu12, nvidia-cuda-runtime-cu12, nvidia-cuda-nvrtc-cu12, nvidia-cuda-cupti-cu12, nvidia-cublas-cu12, numpy, scipy, pandas, nvidia-cusparse-cu12, nvidia-cudnn-cu12, nvidia-cusolver-cu12, matplotlib, torch, ultralytics-thop, torchvision, thop, ultralytics\n",
            "  Attempting uninstall: triton\n",
            "    Found existing installation: triton 3.1.0\n",
            "    Uninstalling triton-3.1.0:\n",
            "      Successfully uninstalled triton-3.1.0\n",
            "  Attempting uninstall: setuptools\n",
            "    Found existing installation: setuptools 75.1.0\n",
            "    Uninstalling setuptools-75.1.0:\n",
            "      Successfully uninstalled setuptools-75.1.0\n",
            "  Attempting uninstall: psutil\n",
            "    Found existing installation: psutil 5.9.5\n",
            "    Uninstalling psutil-5.9.5:\n",
            "      Successfully uninstalled psutil-5.9.5\n",
            "  Attempting uninstall: nvidia-nvjitlink-cu12\n",
            "    Found existing installation: nvidia-nvjitlink-cu12 12.5.82\n",
            "    Uninstalling nvidia-nvjitlink-cu12-12.5.82:\n",
            "      Successfully uninstalled nvidia-nvjitlink-cu12-12.5.82\n",
            "  Attempting uninstall: nvidia-curand-cu12\n",
            "    Found existing installation: nvidia-curand-cu12 10.3.6.82\n",
            "    Uninstalling nvidia-curand-cu12-10.3.6.82:\n",
            "      Successfully uninstalled nvidia-curand-cu12-10.3.6.82\n",
            "  Attempting uninstall: nvidia-cufft-cu12\n",
            "    Found existing installation: nvidia-cufft-cu12 11.2.3.61\n",
            "    Uninstalling nvidia-cufft-cu12-11.2.3.61:\n",
            "      Successfully uninstalled nvidia-cufft-cu12-11.2.3.61\n",
            "  Attempting uninstall: nvidia-cuda-runtime-cu12\n",
            "    Found existing installation: nvidia-cuda-runtime-cu12 12.5.82\n",
            "    Uninstalling nvidia-cuda-runtime-cu12-12.5.82:\n",
            "      Successfully uninstalled nvidia-cuda-runtime-cu12-12.5.82\n",
            "  Attempting uninstall: nvidia-cuda-nvrtc-cu12\n",
            "    Found existing installation: nvidia-cuda-nvrtc-cu12 12.5.82\n",
            "    Uninstalling nvidia-cuda-nvrtc-cu12-12.5.82:\n",
            "      Successfully uninstalled nvidia-cuda-nvrtc-cu12-12.5.82\n",
            "  Attempting uninstall: nvidia-cuda-cupti-cu12\n",
            "    Found existing installation: nvidia-cuda-cupti-cu12 12.5.82\n",
            "    Uninstalling nvidia-cuda-cupti-cu12-12.5.82:\n",
            "      Successfully uninstalled nvidia-cuda-cupti-cu12-12.5.82\n",
            "  Attempting uninstall: nvidia-cublas-cu12\n",
            "    Found existing installation: nvidia-cublas-cu12 12.5.3.2\n",
            "    Uninstalling nvidia-cublas-cu12-12.5.3.2:\n",
            "      Successfully uninstalled nvidia-cublas-cu12-12.5.3.2\n",
            "  Attempting uninstall: numpy\n",
            "    Found existing installation: numpy 1.26.4\n",
            "    Uninstalling numpy-1.26.4:\n",
            "      Successfully uninstalled numpy-1.26.4\n",
            "  Attempting uninstall: scipy\n",
            "    Found existing installation: scipy 1.13.1\n",
            "    Uninstalling scipy-1.13.1:\n",
            "      Successfully uninstalled scipy-1.13.1\n",
            "  Attempting uninstall: pandas\n",
            "    Found existing installation: pandas 2.2.2\n",
            "    Uninstalling pandas-2.2.2:\n",
            "      Successfully uninstalled pandas-2.2.2\n",
            "  Attempting uninstall: nvidia-cusparse-cu12\n",
            "    Found existing installation: nvidia-cusparse-cu12 12.5.1.3\n",
            "    Uninstalling nvidia-cusparse-cu12-12.5.1.3:\n",
            "      Successfully uninstalled nvidia-cusparse-cu12-12.5.1.3\n",
            "  Attempting uninstall: nvidia-cudnn-cu12\n",
            "    Found existing installation: nvidia-cudnn-cu12 9.3.0.75\n",
            "    Uninstalling nvidia-cudnn-cu12-9.3.0.75:\n",
            "      Successfully uninstalled nvidia-cudnn-cu12-9.3.0.75\n",
            "  Attempting uninstall: nvidia-cusolver-cu12\n",
            "    Found existing installation: nvidia-cusolver-cu12 11.6.3.83\n",
            "    Uninstalling nvidia-cusolver-cu12-11.6.3.83:\n",
            "      Successfully uninstalled nvidia-cusolver-cu12-11.6.3.83\n",
            "  Attempting uninstall: matplotlib\n",
            "    Found existing installation: matplotlib 3.10.0\n",
            "    Uninstalling matplotlib-3.10.0:\n",
            "      Successfully uninstalled matplotlib-3.10.0\n",
            "  Attempting uninstall: torch\n",
            "    Found existing installation: torch 2.5.1+cu124\n",
            "    Uninstalling torch-2.5.1+cu124:\n",
            "      Successfully uninstalled torch-2.5.1+cu124\n",
            "  Attempting uninstall: torchvision\n",
            "    Found existing installation: torchvision 0.20.1+cu124\n",
            "    Uninstalling torchvision-0.20.1+cu124:\n",
            "      Successfully uninstalled torchvision-0.20.1+cu124\n",
            "\u001b[31mERROR: pip's dependency resolver does not currently take into account all the packages that are installed. This behaviour is the source of the following dependency conflicts.\n",
            "ipython 7.34.0 requires jedi>=0.16, which is not installed.\n",
            "google-colab 1.0.0 requires pandas==2.2.2, but you have pandas 2.2.3 which is incompatible.\n",
            "langchain 0.3.19 requires numpy<2,>=1.26.4; python_version < \"3.12\", but you have numpy 2.1.1 which is incompatible.\n",
            "gensim 4.3.3 requires numpy<2.0,>=1.18.5, but you have numpy 2.1.1 which is incompatible.\n",
            "gensim 4.3.3 requires scipy<1.14.0,>=1.7.0, but you have scipy 1.15.2 which is incompatible.\n",
            "thinc 8.2.5 requires numpy<2.0.0,>=1.19.0; python_version >= \"3.9\", but you have numpy 2.1.1 which is incompatible.\n",
            "tensorflow 2.18.0 requires numpy<2.1.0,>=1.26.0, but you have numpy 2.1.1 which is incompatible.\n",
            "fastai 2.7.18 requires torch<2.6,>=1.10, but you have torch 2.6.0 which is incompatible.\n",
            "pytensor 2.27.1 requires numpy<2,>=1.17.0, but you have numpy 2.1.1 which is incompatible.\n",
            "numba 0.60.0 requires numpy<2.1,>=1.22, but you have numpy 2.1.1 which is incompatible.\n",
            "torchaudio 2.5.1+cu124 requires torch==2.5.1, but you have torch 2.6.0 which is incompatible.\u001b[0m\u001b[31m\n",
            "\u001b[0mSuccessfully installed matplotlib-3.10.1 numpy-2.1.1 nvidia-cublas-cu12-12.4.5.8 nvidia-cuda-cupti-cu12-12.4.127 nvidia-cuda-nvrtc-cu12-12.4.127 nvidia-cuda-runtime-cu12-12.4.127 nvidia-cudnn-cu12-9.1.0.70 nvidia-cufft-cu12-11.2.1.3 nvidia-curand-cu12-10.3.5.147 nvidia-cusolver-cu12-11.6.1.9 nvidia-cusparse-cu12-12.3.1.170 nvidia-cusparselt-cu12-0.6.2 nvidia-nvjitlink-cu12-12.4.127 pandas-2.2.3 psutil-7.0.0 scipy-1.15.2 setuptools-75.8.2 thop-0.1.1.post2209072238 torch-2.6.0 torchvision-0.21.0 triton-3.2.0 ultralytics-8.3.85 ultralytics-thop-2.0.14\n"
          ]
        },
        {
          "output_type": "display_data",
          "data": {
            "application/vnd.colab-display-data+json": {
              "pip_warning": {
                "packages": [
                  "_distutils_hack",
                  "psutil",
                  "torch",
                  "torchgen"
                ]
              },
              "id": "c72a2447b3c7486b95fad8569b53ca01"
            }
          },
          "metadata": {}
        }
      ]
    },
    {
      "cell_type": "code",
      "source": [
        "import torch\n",
        "print(\"Torch Version:\", torch.__version__)\n",
        "import ultralytics\n",
        "print(\"Ultralytics Version:\", ultralytics.__version__)\n"
      ],
      "metadata": {
        "colab": {
          "base_uri": "https://localhost:8080/"
        },
        "id": "fYy1BZaa4_66",
        "outputId": "6a14ae7a-d3c4-4530-b498-781e09439499"
      },
      "execution_count": null,
      "outputs": [
        {
          "output_type": "stream",
          "name": "stdout",
          "text": [
            "Torch Version: 2.6.0+cu124\n",
            "Creating new Ultralytics Settings v0.0.6 file ✅ \n",
            "View Ultralytics Settings with 'yolo settings' or at '/root/.config/Ultralytics/settings.json'\n",
            "Update Settings with 'yolo settings key=value', i.e. 'yolo settings runs_dir=path/to/dir'. For help see https://docs.ultralytics.com/quickstart/#ultralytics-settings.\n",
            "Ultralytics Version: 8.3.85\n"
          ]
        }
      ]
    },
    {
      "cell_type": "code",
      "source": [
        "import torch\n",
        "print(\"GPU Available:\", torch.cuda.is_available())\n",
        "print(\"GPU Name:\", torch.cuda.get_device_name(0) if torch.cuda.is_available() else \"No GPU\")\n"
      ],
      "metadata": {
        "colab": {
          "base_uri": "https://localhost:8080/"
        },
        "id": "qYaxYjoC58c_",
        "outputId": "19f1d49e-19a3-48f2-9bd9-548661d0dd10"
      },
      "execution_count": null,
      "outputs": [
        {
          "output_type": "stream",
          "name": "stdout",
          "text": [
            "GPU Available: True\n",
            "GPU Name: Tesla T4\n"
          ]
        }
      ]
    },
    {
      "cell_type": "code",
      "source": [
        "import os\n",
        "import shutil\n",
        "from glob import glob\n",
        "\n",
        "# Define paths\n",
        "base_path = \"/content/drive/MyDrive/oralcancerdatasets\"\n",
        "output_path = \"/content/drive/MyDrive/oralcancerdatasets/yolo_format\"\n",
        "\n",
        "# YOLO folders\n",
        "yolo_folders = [\"train/images\", \"train/labels\", \"valid/images\", \"valid/labels\", \"test/images\", \"test/labels\"]\n",
        "\n",
        "# Create necessary directories\n",
        "for folder in yolo_folders:\n",
        "    os.makedirs(os.path.join(output_path, folder), exist_ok=True)\n",
        "\n",
        "# Move cancer and non-cancer images\n",
        "for category, folder in [(\"CANCER\", \"C_A_PROCESSED\"), (\"NON_CANCER\", \"NC_A_PROCESSED\")]:\n",
        "    image_paths = glob(os.path.join(base_path, folder, \"*.jpeg\"))\n",
        "    label_paths = glob(os.path.join(base_path, \"all_labels\", \"*.txt\"))\n",
        "\n",
        "    for i, img_path in enumerate(image_paths):\n",
        "        if i < len(image_paths) * 0.7:  # 70% for training\n",
        "            dest_img = \"train/images\"\n",
        "            dest_label = \"train/labels\"\n",
        "        elif i < len(image_paths) * 0.85:  # 15% for validation\n",
        "            dest_img = \"valid/images\"\n",
        "            dest_label = \"valid/labels\"\n",
        "        else:  # 15% for testing\n",
        "            dest_img = \"test/images\"\n",
        "            dest_label = \"test/labels\"\n",
        "\n",
        "        # Move image\n",
        "        shutil.move(img_path, os.path.join(output_path, dest_img, os.path.basename(img_path)))\n",
        "\n",
        "        # Move corresponding label\n",
        "        label_file = os.path.join(base_path, \"all_labels\", os.path.basename(img_path).replace(\".jpeg\", \".txt\"))\n",
        "        if os.path.exists(label_file):\n",
        "            shutil.move(label_file, os.path.join(output_path, dest_label, os.path.basename(label_file)))\n",
        "\n",
        "print(\"✅ Dataset moved to YOLO format successfully!\")\n"
      ],
      "metadata": {
        "colab": {
          "base_uri": "https://localhost:8080/"
        },
        "id": "K7BdqSif7eiI",
        "outputId": "1d0fc0a7-2c90-4e2e-af04-3309b388b6ab"
      },
      "execution_count": null,
      "outputs": [
        {
          "output_type": "stream",
          "name": "stdout",
          "text": [
            "✅ Dataset moved to YOLO format successfully!\n"
          ]
        }
      ]
    },
    {
      "cell_type": "code",
      "source": [
        "dataset_yaml = \"\"\"\n",
        "train: /content/drive/MyDrive/oralcancerdatasets/yolo_format/train\n",
        "val: /content/drive/MyDrive/oralcancerdatasets/yolo_format/valid\n",
        "test: /content/drive/MyDrive/oralcancerdatasets/yolo_format/test\n",
        "\n",
        "nc: 2  # Number of classes\n",
        "names: [\"Cancer\", \"Non-Cancer\"]\n",
        "\"\"\"\n",
        "\n",
        "# Define file path\n",
        "yaml_path = \"/content/drive/MyDrive/oralcancerdatasets/yolo_format/dataset.yaml\"\n",
        "\n",
        "# Write YAML content to file\n",
        "with open(yaml_path, \"w\") as f:\n",
        "    f.write(dataset_yaml)\n",
        "\n",
        "print(f\"✅ dataset.yaml created at {yaml_path}\")\n"
      ],
      "metadata": {
        "colab": {
          "base_uri": "https://localhost:8080/"
        },
        "id": "OeuSSn6C8FLT",
        "outputId": "ef4c356d-1380-4a25-c764-8c2e0cc8c5f9"
      },
      "execution_count": null,
      "outputs": [
        {
          "output_type": "stream",
          "name": "stdout",
          "text": [
            "✅ dataset.yaml created at /content/drive/MyDrive/oralcancerdatasets/yolo_format/dataset.yaml\n"
          ]
        }
      ]
    },
    {
      "cell_type": "code",
      "source": [
        "from ultralytics import YOLO\n",
        "\n",
        "model = YOLO(\"yolov5s.pt\")\n",
        "model.train(data=\"/content/drive/MyDrive/oralcancerdatasets/yolo_format/dataset.yaml\", epochs=10, batch=16, imgsz=640)\n"
      ],
      "metadata": {
        "colab": {
          "base_uri": "https://localhost:8080/"
        },
        "id": "Dfl64W3i7yVy",
        "outputId": "a17ced5d-c233-486a-d4de-6baed9863e72"
      },
      "execution_count": null,
      "outputs": [
        {
          "output_type": "stream",
          "name": "stdout",
          "text": [
            "PRO TIP 💡 Replace 'model=yolov5s.pt' with new 'model=yolov5su.pt'.\n",
            "YOLOv5 'u' models are trained with https://github.com/ultralytics/ultralytics and feature improved performance vs standard YOLOv5 models trained with https://github.com/ultralytics/yolov5.\n",
            "\n",
            "Downloading https://github.com/ultralytics/assets/releases/download/v8.3.0/yolov5su.pt to 'yolov5su.pt'...\n"
          ]
        },
        {
          "output_type": "stream",
          "name": "stderr",
          "text": [
            "100%|██████████| 17.7M/17.7M [00:00<00:00, 127MB/s] \n"
          ]
        },
        {
          "output_type": "stream",
          "name": "stdout",
          "text": [
            "Ultralytics 8.3.85 🚀 Python-3.11.11 torch-2.6.0+cu124 CUDA:0 (Tesla T4, 15095MiB)\n",
            "\u001b[34m\u001b[1mengine/trainer: \u001b[0mtask=detect, mode=train, model=yolov5s.pt, data=/content/drive/MyDrive/oralcancerdatasets/yolo_format/dataset.yaml, epochs=10, time=None, patience=100, batch=16, imgsz=640, save=True, save_period=-1, cache=False, device=None, workers=8, project=None, name=train, exist_ok=False, pretrained=True, optimizer=auto, verbose=True, seed=0, deterministic=True, single_cls=False, rect=False, cos_lr=False, close_mosaic=10, resume=False, amp=True, fraction=1.0, profile=False, freeze=None, multi_scale=False, overlap_mask=True, mask_ratio=4, dropout=0.0, val=True, split=val, save_json=False, save_hybrid=False, conf=None, iou=0.7, max_det=300, half=False, dnn=False, plots=True, source=None, vid_stride=1, stream_buffer=False, visualize=False, augment=False, agnostic_nms=False, classes=None, retina_masks=False, embed=None, show=False, save_frames=False, save_txt=False, save_conf=False, save_crop=False, show_labels=True, show_conf=True, show_boxes=True, line_width=None, format=torchscript, keras=False, optimize=False, int8=False, dynamic=False, simplify=True, opset=None, workspace=None, nms=False, lr0=0.01, lrf=0.01, momentum=0.937, weight_decay=0.0005, warmup_epochs=3.0, warmup_momentum=0.8, warmup_bias_lr=0.1, box=7.5, cls=0.5, dfl=1.5, pose=12.0, kobj=1.0, nbs=64, hsv_h=0.015, hsv_s=0.7, hsv_v=0.4, degrees=0.0, translate=0.1, scale=0.5, shear=0.0, perspective=0.0, flipud=0.0, fliplr=0.5, bgr=0.0, mosaic=1.0, mixup=0.0, copy_paste=0.0, copy_paste_mode=flip, auto_augment=randaugment, erasing=0.4, crop_fraction=1.0, cfg=None, tracker=botsort.yaml, save_dir=runs/detect/train\n",
            "Downloading https://ultralytics.com/assets/Arial.ttf to '/root/.config/Ultralytics/Arial.ttf'...\n"
          ]
        },
        {
          "output_type": "stream",
          "name": "stderr",
          "text": [
            "100%|██████████| 755k/755k [00:00<00:00, 18.3MB/s]\n"
          ]
        },
        {
          "output_type": "stream",
          "name": "stdout",
          "text": [
            "Overriding model.yaml nc=80 with nc=2\n",
            "\n",
            "                   from  n    params  module                                       arguments                     \n",
            "  0                  -1  1      3520  ultralytics.nn.modules.conv.Conv             [3, 32, 6, 2, 2]              \n",
            "  1                  -1  1     18560  ultralytics.nn.modules.conv.Conv             [32, 64, 3, 2]                \n",
            "  2                  -1  1     18816  ultralytics.nn.modules.block.C3              [64, 64, 1]                   \n",
            "  3                  -1  1     73984  ultralytics.nn.modules.conv.Conv             [64, 128, 3, 2]               \n",
            "  4                  -1  2    115712  ultralytics.nn.modules.block.C3              [128, 128, 2]                 \n",
            "  5                  -1  1    295424  ultralytics.nn.modules.conv.Conv             [128, 256, 3, 2]              \n",
            "  6                  -1  3    625152  ultralytics.nn.modules.block.C3              [256, 256, 3]                 \n",
            "  7                  -1  1   1180672  ultralytics.nn.modules.conv.Conv             [256, 512, 3, 2]              \n",
            "  8                  -1  1   1182720  ultralytics.nn.modules.block.C3              [512, 512, 1]                 \n",
            "  9                  -1  1    656896  ultralytics.nn.modules.block.SPPF            [512, 512, 5]                 \n",
            " 10                  -1  1    131584  ultralytics.nn.modules.conv.Conv             [512, 256, 1, 1]              \n",
            " 11                  -1  1         0  torch.nn.modules.upsampling.Upsample         [None, 2, 'nearest']          \n",
            " 12             [-1, 6]  1         0  ultralytics.nn.modules.conv.Concat           [1]                           \n",
            " 13                  -1  1    361984  ultralytics.nn.modules.block.C3              [512, 256, 1, False]          \n",
            " 14                  -1  1     33024  ultralytics.nn.modules.conv.Conv             [256, 128, 1, 1]              \n",
            " 15                  -1  1         0  torch.nn.modules.upsampling.Upsample         [None, 2, 'nearest']          \n",
            " 16             [-1, 4]  1         0  ultralytics.nn.modules.conv.Concat           [1]                           \n",
            " 17                  -1  1     90880  ultralytics.nn.modules.block.C3              [256, 128, 1, False]          \n",
            " 18                  -1  1    147712  ultralytics.nn.modules.conv.Conv             [128, 128, 3, 2]              \n",
            " 19            [-1, 14]  1         0  ultralytics.nn.modules.conv.Concat           [1]                           \n",
            " 20                  -1  1    296448  ultralytics.nn.modules.block.C3              [256, 256, 1, False]          \n",
            " 21                  -1  1    590336  ultralytics.nn.modules.conv.Conv             [256, 256, 3, 2]              \n",
            " 22            [-1, 10]  1         0  ultralytics.nn.modules.conv.Concat           [1]                           \n",
            " 23                  -1  1   1182720  ultralytics.nn.modules.block.C3              [512, 512, 1, False]          \n",
            " 24        [17, 20, 23]  1   2116822  ultralytics.nn.modules.head.Detect           [2, [128, 256, 512]]          \n",
            "YOLOv5s summary: 153 layers, 9,122,966 parameters, 9,122,950 gradients, 24.0 GFLOPs\n",
            "\n",
            "Transferred 421/427 items from pretrained weights\n",
            "\u001b[34m\u001b[1mTensorBoard: \u001b[0mStart with 'tensorboard --logdir runs/detect/train', view at http://localhost:6006/\n",
            "Freezing layer 'model.24.dfl.conv.weight'\n",
            "\u001b[34m\u001b[1mAMP: \u001b[0mrunning Automatic Mixed Precision (AMP) checks...\n",
            "Downloading https://github.com/ultralytics/assets/releases/download/v8.3.0/yolo11n.pt to 'yolo11n.pt'...\n"
          ]
        },
        {
          "output_type": "stream",
          "name": "stderr",
          "text": [
            "100%|██████████| 5.35M/5.35M [00:00<00:00, 31.6MB/s]\n"
          ]
        },
        {
          "output_type": "stream",
          "name": "stdout",
          "text": [
            "\u001b[34m\u001b[1mAMP: \u001b[0mchecks passed ✅\n"
          ]
        },
        {
          "output_type": "stream",
          "name": "stderr",
          "text": [
            "\u001b[34m\u001b[1mtrain: \u001b[0mScanning /content/drive/MyDrive/oralcancerdatasets/yolo_format/train/labels.cache... 2177 images, 879 backgrounds, 0 corrupt: 100%|██████████| 2227/2227 [00:00<?, ?it/s]\n"
          ]
        },
        {
          "output_type": "stream",
          "name": "stdout",
          "text": [
            "\u001b[34m\u001b[1malbumentations: \u001b[0mBlur(p=0.01, blur_limit=(3, 7)), MedianBlur(p=0.01, blur_limit=(3, 7)), ToGray(p=0.01, num_output_channels=3, method='weighted_average'), CLAHE(p=0.01, clip_limit=(1.0, 4.0), tile_grid_size=(8, 8))\n"
          ]
        },
        {
          "output_type": "stream",
          "name": "stderr",
          "text": [
            "\u001b[34m\u001b[1mval: \u001b[0mScanning /content/drive/MyDrive/oralcancerdatasets/yolo_format/valid/labels.cache... 474 images, 206 backgrounds, 0 corrupt: 100%|██████████| 499/499 [00:00<?, ?it/s]\n"
          ]
        },
        {
          "output_type": "stream",
          "name": "stdout",
          "text": [
            "Plotting labels to runs/detect/train/labels.jpg... \n",
            "\u001b[34m\u001b[1moptimizer:\u001b[0m 'optimizer=auto' found, ignoring 'lr0=0.01' and 'momentum=0.937' and determining best 'optimizer', 'lr0' and 'momentum' automatically... \n",
            "\u001b[34m\u001b[1moptimizer:\u001b[0m AdamW(lr=0.001667, momentum=0.9) with parameter groups 69 weight(decay=0.0), 76 weight(decay=0.0005), 75 bias(decay=0.0)\n",
            "\u001b[34m\u001b[1mTensorBoard: \u001b[0mmodel graph visualization added ✅\n",
            "Image sizes 640 train, 640 val\n",
            "Using 2 dataloader workers\n",
            "Logging results to \u001b[1mruns/detect/train\u001b[0m\n",
            "Starting training for 10 epochs...\n",
            "Closing dataloader mosaic\n",
            "\u001b[34m\u001b[1malbumentations: \u001b[0mBlur(p=0.01, blur_limit=(3, 7)), MedianBlur(p=0.01, blur_limit=(3, 7)), ToGray(p=0.01, num_output_channels=3, method='weighted_average'), CLAHE(p=0.01, clip_limit=(1.0, 4.0), tile_grid_size=(8, 8))\n",
            "\n",
            "      Epoch    GPU_mem   box_loss   cls_loss   dfl_loss  Instances       Size\n"
          ]
        },
        {
          "output_type": "stream",
          "name": "stderr",
          "text": [
            "       1/10      3.97G      2.425      7.575      2.244          2        640: 100%|██████████| 140/140 [06:34<00:00,  2.82s/it]\n",
            "                 Class     Images  Instances      Box(P          R      mAP50  mAP50-95): 100%|██████████| 16/16 [00:06<00:00,  2.39it/s]"
          ]
        },
        {
          "output_type": "stream",
          "name": "stdout",
          "text": [
            "                   all        499        293   0.000986      0.372    0.00115   0.000549\n"
          ]
        },
        {
          "output_type": "stream",
          "name": "stderr",
          "text": [
            "\n"
          ]
        },
        {
          "output_type": "stream",
          "name": "stdout",
          "text": [
            "\n",
            "      Epoch    GPU_mem   box_loss   cls_loss   dfl_loss  Instances       Size\n"
          ]
        },
        {
          "output_type": "stream",
          "name": "stderr",
          "text": [
            "       2/10      4.07G      1.665      2.974      1.802          2        640: 100%|██████████| 140/140 [00:49<00:00,  2.85it/s]\n",
            "                 Class     Images  Instances      Box(P          R      mAP50  mAP50-95): 100%|██████████| 16/16 [00:05<00:00,  2.76it/s]"
          ]
        },
        {
          "output_type": "stream",
          "name": "stdout",
          "text": [
            "                   all        499        293    0.00331      0.942    0.00394    0.00241\n"
          ]
        },
        {
          "output_type": "stream",
          "name": "stderr",
          "text": [
            "\n"
          ]
        },
        {
          "output_type": "stream",
          "name": "stdout",
          "text": [
            "\n",
            "      Epoch    GPU_mem   box_loss   cls_loss   dfl_loss  Instances       Size\n"
          ]
        },
        {
          "output_type": "stream",
          "name": "stderr",
          "text": [
            "       3/10      3.96G      1.482      2.781      1.649          2        640: 100%|██████████| 140/140 [00:49<00:00,  2.84it/s]\n",
            "                 Class     Images  Instances      Box(P          R      mAP50  mAP50-95): 100%|██████████| 16/16 [00:05<00:00,  3.00it/s]"
          ]
        },
        {
          "output_type": "stream",
          "name": "stdout",
          "text": [
            "                   all        499        293     0.0244      0.334      0.018     0.0103\n"
          ]
        },
        {
          "output_type": "stream",
          "name": "stderr",
          "text": [
            "\n"
          ]
        },
        {
          "output_type": "stream",
          "name": "stdout",
          "text": [
            "\n",
            "      Epoch    GPU_mem   box_loss   cls_loss   dfl_loss  Instances       Size\n"
          ]
        },
        {
          "output_type": "stream",
          "name": "stderr",
          "text": [
            "       4/10      4.09G      1.289      2.622      1.513          3        640: 100%|██████████| 140/140 [00:48<00:00,  2.86it/s]\n",
            "                 Class     Images  Instances      Box(P          R      mAP50  mAP50-95): 100%|██████████| 16/16 [00:05<00:00,  3.03it/s]"
          ]
        },
        {
          "output_type": "stream",
          "name": "stdout",
          "text": [
            "                   all        499        293    0.00561          1      0.016     0.0106\n"
          ]
        },
        {
          "output_type": "stream",
          "name": "stderr",
          "text": [
            "\n"
          ]
        },
        {
          "output_type": "stream",
          "name": "stdout",
          "text": [
            "\n",
            "      Epoch    GPU_mem   box_loss   cls_loss   dfl_loss  Instances       Size\n"
          ]
        },
        {
          "output_type": "stream",
          "name": "stderr",
          "text": [
            "       5/10      4.09G      1.124      2.464      1.346          3        640: 100%|██████████| 140/140 [00:50<00:00,  2.78it/s]\n",
            "                 Class     Images  Instances      Box(P          R      mAP50  mAP50-95): 100%|██████████| 16/16 [00:05<00:00,  2.83it/s]"
          ]
        },
        {
          "output_type": "stream",
          "name": "stdout",
          "text": [
            "                   all        499        293     0.0189      0.986      0.071     0.0477\n"
          ]
        },
        {
          "output_type": "stream",
          "name": "stderr",
          "text": [
            "\n"
          ]
        },
        {
          "output_type": "stream",
          "name": "stdout",
          "text": [
            "\n",
            "      Epoch    GPU_mem   box_loss   cls_loss   dfl_loss  Instances       Size\n"
          ]
        },
        {
          "output_type": "stream",
          "name": "stderr",
          "text": [
            "       6/10      4.08G     0.9857       2.33      1.261          2        640: 100%|██████████| 140/140 [00:48<00:00,  2.89it/s]\n",
            "                 Class     Images  Instances      Box(P          R      mAP50  mAP50-95): 100%|██████████| 16/16 [00:05<00:00,  2.90it/s]"
          ]
        },
        {
          "output_type": "stream",
          "name": "stdout",
          "text": [
            "                   all        499        293     0.0482      0.969     0.0885      0.076\n"
          ]
        },
        {
          "output_type": "stream",
          "name": "stderr",
          "text": [
            "\n"
          ]
        },
        {
          "output_type": "stream",
          "name": "stdout",
          "text": [
            "\n",
            "      Epoch    GPU_mem   box_loss   cls_loss   dfl_loss  Instances       Size\n"
          ]
        },
        {
          "output_type": "stream",
          "name": "stderr",
          "text": [
            "       7/10      4.09G     0.8889      2.193      1.173          2        640: 100%|██████████| 140/140 [00:48<00:00,  2.88it/s]\n",
            "                 Class     Images  Instances      Box(P          R      mAP50  mAP50-95): 100%|██████████| 16/16 [00:05<00:00,  2.89it/s]"
          ]
        },
        {
          "output_type": "stream",
          "name": "stdout",
          "text": [
            "                   all        499        293      0.165      0.608      0.185      0.157\n"
          ]
        },
        {
          "output_type": "stream",
          "name": "stderr",
          "text": [
            "\n"
          ]
        },
        {
          "output_type": "stream",
          "name": "stdout",
          "text": [
            "\n",
            "      Epoch    GPU_mem   box_loss   cls_loss   dfl_loss  Instances       Size\n"
          ]
        },
        {
          "output_type": "stream",
          "name": "stderr",
          "text": [
            "       8/10      4.08G     0.8074      2.012      1.106          1        640: 100%|██████████| 140/140 [00:49<00:00,  2.84it/s]\n",
            "                 Class     Images  Instances      Box(P          R      mAP50  mAP50-95): 100%|██████████| 16/16 [00:05<00:00,  2.90it/s]"
          ]
        },
        {
          "output_type": "stream",
          "name": "stdout",
          "text": [
            "                   all        499        293      0.138      0.887       0.15      0.135\n"
          ]
        },
        {
          "output_type": "stream",
          "name": "stderr",
          "text": [
            "\n"
          ]
        },
        {
          "output_type": "stream",
          "name": "stdout",
          "text": [
            "\n",
            "      Epoch    GPU_mem   box_loss   cls_loss   dfl_loss  Instances       Size\n"
          ]
        },
        {
          "output_type": "stream",
          "name": "stderr",
          "text": [
            "       9/10      4.09G     0.6889      1.882      1.029          2        640: 100%|██████████| 140/140 [00:50<00:00,  2.77it/s]\n",
            "                 Class     Images  Instances      Box(P          R      mAP50  mAP50-95): 100%|██████████| 16/16 [00:05<00:00,  2.92it/s]"
          ]
        },
        {
          "output_type": "stream",
          "name": "stdout",
          "text": [
            "                   all        499        293      0.173       0.73      0.198       0.17\n"
          ]
        },
        {
          "output_type": "stream",
          "name": "stderr",
          "text": [
            "\n"
          ]
        },
        {
          "output_type": "stream",
          "name": "stdout",
          "text": [
            "\n",
            "      Epoch    GPU_mem   box_loss   cls_loss   dfl_loss  Instances       Size\n"
          ]
        },
        {
          "output_type": "stream",
          "name": "stderr",
          "text": [
            "      10/10      4.08G     0.6333      1.833      1.006          1        640: 100%|██████████| 140/140 [00:48<00:00,  2.86it/s]\n",
            "                 Class     Images  Instances      Box(P          R      mAP50  mAP50-95): 100%|██████████| 16/16 [00:05<00:00,  2.79it/s]"
          ]
        },
        {
          "output_type": "stream",
          "name": "stdout",
          "text": [
            "                   all        499        293      0.266      0.751      0.324      0.294\n"
          ]
        },
        {
          "output_type": "stream",
          "name": "stderr",
          "text": [
            "\n"
          ]
        },
        {
          "output_type": "stream",
          "name": "stdout",
          "text": [
            "\n",
            "10 epochs completed in 0.255 hours.\n",
            "Optimizer stripped from runs/detect/train/weights/last.pt, 18.5MB\n",
            "Optimizer stripped from runs/detect/train/weights/best.pt, 18.5MB\n",
            "\n",
            "Validating runs/detect/train/weights/best.pt...\n",
            "Ultralytics 8.3.85 🚀 Python-3.11.11 torch-2.6.0+cu124 CUDA:0 (Tesla T4, 15095MiB)\n",
            "YOLOv5s summary (fused): 84 layers, 9,112,310 parameters, 0 gradients, 23.8 GFLOPs\n"
          ]
        },
        {
          "output_type": "stream",
          "name": "stderr",
          "text": [
            "                 Class     Images  Instances      Box(P          R      mAP50  mAP50-95): 100%|██████████| 16/16 [00:07<00:00,  2.01it/s]\n"
          ]
        },
        {
          "output_type": "stream",
          "name": "stdout",
          "text": [
            "                   all        499        293      0.267      0.754      0.324      0.294\n",
            "                Cancer        293        293      0.267      0.754      0.324      0.294\n",
            "Speed: 0.3ms preprocess, 4.2ms inference, 0.0ms loss, 4.7ms postprocess per image\n",
            "Results saved to \u001b[1mruns/detect/train\u001b[0m\n"
          ]
        },
        {
          "output_type": "execute_result",
          "data": {
            "text/plain": [
              "ultralytics.utils.metrics.DetMetrics object with attributes:\n",
              "\n",
              "ap_class_index: array([0])\n",
              "box: ultralytics.utils.metrics.Metric object\n",
              "confusion_matrix: <ultralytics.utils.metrics.ConfusionMatrix object at 0x7d50e9002510>\n",
              "curves: ['Precision-Recall(B)', 'F1-Confidence(B)', 'Precision-Confidence(B)', 'Recall-Confidence(B)']\n",
              "curves_results: [[array([          0,    0.001001,    0.002002,    0.003003,    0.004004,    0.005005,    0.006006,    0.007007,    0.008008,    0.009009,     0.01001,    0.011011,    0.012012,    0.013013,    0.014014,    0.015015,    0.016016,    0.017017,    0.018018,    0.019019,     0.02002,    0.021021,    0.022022,    0.023023,\n",
              "          0.024024,    0.025025,    0.026026,    0.027027,    0.028028,    0.029029,     0.03003,    0.031031,    0.032032,    0.033033,    0.034034,    0.035035,    0.036036,    0.037037,    0.038038,    0.039039,     0.04004,    0.041041,    0.042042,    0.043043,    0.044044,    0.045045,    0.046046,    0.047047,\n",
              "          0.048048,    0.049049,     0.05005,    0.051051,    0.052052,    0.053053,    0.054054,    0.055055,    0.056056,    0.057057,    0.058058,    0.059059,     0.06006,    0.061061,    0.062062,    0.063063,    0.064064,    0.065065,    0.066066,    0.067067,    0.068068,    0.069069,     0.07007,    0.071071,\n",
              "          0.072072,    0.073073,    0.074074,    0.075075,    0.076076,    0.077077,    0.078078,    0.079079,     0.08008,    0.081081,    0.082082,    0.083083,    0.084084,    0.085085,    0.086086,    0.087087,    0.088088,    0.089089,     0.09009,    0.091091,    0.092092,    0.093093,    0.094094,    0.095095,\n",
              "          0.096096,    0.097097,    0.098098,    0.099099,      0.1001,      0.1011,      0.1021,      0.1031,      0.1041,     0.10511,     0.10611,     0.10711,     0.10811,     0.10911,     0.11011,     0.11111,     0.11211,     0.11311,     0.11411,     0.11512,     0.11612,     0.11712,     0.11812,     0.11912,\n",
              "           0.12012,     0.12112,     0.12212,     0.12312,     0.12412,     0.12513,     0.12613,     0.12713,     0.12813,     0.12913,     0.13013,     0.13113,     0.13213,     0.13313,     0.13413,     0.13514,     0.13614,     0.13714,     0.13814,     0.13914,     0.14014,     0.14114,     0.14214,     0.14314,\n",
              "           0.14414,     0.14515,     0.14615,     0.14715,     0.14815,     0.14915,     0.15015,     0.15115,     0.15215,     0.15315,     0.15415,     0.15516,     0.15616,     0.15716,     0.15816,     0.15916,     0.16016,     0.16116,     0.16216,     0.16316,     0.16416,     0.16517,     0.16617,     0.16717,\n",
              "           0.16817,     0.16917,     0.17017,     0.17117,     0.17217,     0.17317,     0.17417,     0.17518,     0.17618,     0.17718,     0.17818,     0.17918,     0.18018,     0.18118,     0.18218,     0.18318,     0.18418,     0.18519,     0.18619,     0.18719,     0.18819,     0.18919,     0.19019,     0.19119,\n",
              "           0.19219,     0.19319,     0.19419,      0.1952,      0.1962,      0.1972,      0.1982,      0.1992,      0.2002,      0.2012,      0.2022,      0.2032,      0.2042,     0.20521,     0.20621,     0.20721,     0.20821,     0.20921,     0.21021,     0.21121,     0.21221,     0.21321,     0.21421,     0.21522,\n",
              "           0.21622,     0.21722,     0.21822,     0.21922,     0.22022,     0.22122,     0.22222,     0.22322,     0.22422,     0.22523,     0.22623,     0.22723,     0.22823,     0.22923,     0.23023,     0.23123,     0.23223,     0.23323,     0.23423,     0.23524,     0.23624,     0.23724,     0.23824,     0.23924,\n",
              "           0.24024,     0.24124,     0.24224,     0.24324,     0.24424,     0.24525,     0.24625,     0.24725,     0.24825,     0.24925,     0.25025,     0.25125,     0.25225,     0.25325,     0.25425,     0.25526,     0.25626,     0.25726,     0.25826,     0.25926,     0.26026,     0.26126,     0.26226,     0.26326,\n",
              "           0.26426,     0.26527,     0.26627,     0.26727,     0.26827,     0.26927,     0.27027,     0.27127,     0.27227,     0.27327,     0.27427,     0.27528,     0.27628,     0.27728,     0.27828,     0.27928,     0.28028,     0.28128,     0.28228,     0.28328,     0.28428,     0.28529,     0.28629,     0.28729,\n",
              "           0.28829,     0.28929,     0.29029,     0.29129,     0.29229,     0.29329,     0.29429,      0.2953,      0.2963,      0.2973,      0.2983,      0.2993,      0.3003,      0.3013,      0.3023,      0.3033,      0.3043,     0.30531,     0.30631,     0.30731,     0.30831,     0.30931,     0.31031,     0.31131,\n",
              "           0.31231,     0.31331,     0.31431,     0.31532,     0.31632,     0.31732,     0.31832,     0.31932,     0.32032,     0.32132,     0.32232,     0.32332,     0.32432,     0.32533,     0.32633,     0.32733,     0.32833,     0.32933,     0.33033,     0.33133,     0.33233,     0.33333,     0.33433,     0.33534,\n",
              "           0.33634,     0.33734,     0.33834,     0.33934,     0.34034,     0.34134,     0.34234,     0.34334,     0.34434,     0.34535,     0.34635,     0.34735,     0.34835,     0.34935,     0.35035,     0.35135,     0.35235,     0.35335,     0.35435,     0.35536,     0.35636,     0.35736,     0.35836,     0.35936,\n",
              "           0.36036,     0.36136,     0.36236,     0.36336,     0.36436,     0.36537,     0.36637,     0.36737,     0.36837,     0.36937,     0.37037,     0.37137,     0.37237,     0.37337,     0.37437,     0.37538,     0.37638,     0.37738,     0.37838,     0.37938,     0.38038,     0.38138,     0.38238,     0.38338,\n",
              "           0.38438,     0.38539,     0.38639,     0.38739,     0.38839,     0.38939,     0.39039,     0.39139,     0.39239,     0.39339,     0.39439,      0.3954,      0.3964,      0.3974,      0.3984,      0.3994,      0.4004,      0.4014,      0.4024,      0.4034,      0.4044,     0.40541,     0.40641,     0.40741,\n",
              "           0.40841,     0.40941,     0.41041,     0.41141,     0.41241,     0.41341,     0.41441,     0.41542,     0.41642,     0.41742,     0.41842,     0.41942,     0.42042,     0.42142,     0.42242,     0.42342,     0.42442,     0.42543,     0.42643,     0.42743,     0.42843,     0.42943,     0.43043,     0.43143,\n",
              "           0.43243,     0.43343,     0.43443,     0.43544,     0.43644,     0.43744,     0.43844,     0.43944,     0.44044,     0.44144,     0.44244,     0.44344,     0.44444,     0.44545,     0.44645,     0.44745,     0.44845,     0.44945,     0.45045,     0.45145,     0.45245,     0.45345,     0.45445,     0.45546,\n",
              "           0.45646,     0.45746,     0.45846,     0.45946,     0.46046,     0.46146,     0.46246,     0.46346,     0.46446,     0.46547,     0.46647,     0.46747,     0.46847,     0.46947,     0.47047,     0.47147,     0.47247,     0.47347,     0.47447,     0.47548,     0.47648,     0.47748,     0.47848,     0.47948,\n",
              "           0.48048,     0.48148,     0.48248,     0.48348,     0.48448,     0.48549,     0.48649,     0.48749,     0.48849,     0.48949,     0.49049,     0.49149,     0.49249,     0.49349,     0.49449,      0.4955,      0.4965,      0.4975,      0.4985,      0.4995,      0.5005,      0.5015,      0.5025,      0.5035,\n",
              "            0.5045,     0.50551,     0.50651,     0.50751,     0.50851,     0.50951,     0.51051,     0.51151,     0.51251,     0.51351,     0.51451,     0.51552,     0.51652,     0.51752,     0.51852,     0.51952,     0.52052,     0.52152,     0.52252,     0.52352,     0.52452,     0.52553,     0.52653,     0.52753,\n",
              "           0.52853,     0.52953,     0.53053,     0.53153,     0.53253,     0.53353,     0.53453,     0.53554,     0.53654,     0.53754,     0.53854,     0.53954,     0.54054,     0.54154,     0.54254,     0.54354,     0.54454,     0.54555,     0.54655,     0.54755,     0.54855,     0.54955,     0.55055,     0.55155,\n",
              "           0.55255,     0.55355,     0.55455,     0.55556,     0.55656,     0.55756,     0.55856,     0.55956,     0.56056,     0.56156,     0.56256,     0.56356,     0.56456,     0.56557,     0.56657,     0.56757,     0.56857,     0.56957,     0.57057,     0.57157,     0.57257,     0.57357,     0.57457,     0.57558,\n",
              "           0.57658,     0.57758,     0.57858,     0.57958,     0.58058,     0.58158,     0.58258,     0.58358,     0.58458,     0.58559,     0.58659,     0.58759,     0.58859,     0.58959,     0.59059,     0.59159,     0.59259,     0.59359,     0.59459,      0.5956,      0.5966,      0.5976,      0.5986,      0.5996,\n",
              "            0.6006,      0.6016,      0.6026,      0.6036,      0.6046,     0.60561,     0.60661,     0.60761,     0.60861,     0.60961,     0.61061,     0.61161,     0.61261,     0.61361,     0.61461,     0.61562,     0.61662,     0.61762,     0.61862,     0.61962,     0.62062,     0.62162,     0.62262,     0.62362,\n",
              "           0.62462,     0.62563,     0.62663,     0.62763,     0.62863,     0.62963,     0.63063,     0.63163,     0.63263,     0.63363,     0.63463,     0.63564,     0.63664,     0.63764,     0.63864,     0.63964,     0.64064,     0.64164,     0.64264,     0.64364,     0.64464,     0.64565,     0.64665,     0.64765,\n",
              "           0.64865,     0.64965,     0.65065,     0.65165,     0.65265,     0.65365,     0.65465,     0.65566,     0.65666,     0.65766,     0.65866,     0.65966,     0.66066,     0.66166,     0.66266,     0.66366,     0.66466,     0.66567,     0.66667,     0.66767,     0.66867,     0.66967,     0.67067,     0.67167,\n",
              "           0.67267,     0.67367,     0.67467,     0.67568,     0.67668,     0.67768,     0.67868,     0.67968,     0.68068,     0.68168,     0.68268,     0.68368,     0.68468,     0.68569,     0.68669,     0.68769,     0.68869,     0.68969,     0.69069,     0.69169,     0.69269,     0.69369,     0.69469,      0.6957,\n",
              "            0.6967,      0.6977,      0.6987,      0.6997,      0.7007,      0.7017,      0.7027,      0.7037,      0.7047,     0.70571,     0.70671,     0.70771,     0.70871,     0.70971,     0.71071,     0.71171,     0.71271,     0.71371,     0.71471,     0.71572,     0.71672,     0.71772,     0.71872,     0.71972,\n",
              "           0.72072,     0.72172,     0.72272,     0.72372,     0.72472,     0.72573,     0.72673,     0.72773,     0.72873,     0.72973,     0.73073,     0.73173,     0.73273,     0.73373,     0.73473,     0.73574,     0.73674,     0.73774,     0.73874,     0.73974,     0.74074,     0.74174,     0.74274,     0.74374,\n",
              "           0.74474,     0.74575,     0.74675,     0.74775,     0.74875,     0.74975,     0.75075,     0.75175,     0.75275,     0.75375,     0.75475,     0.75576,     0.75676,     0.75776,     0.75876,     0.75976,     0.76076,     0.76176,     0.76276,     0.76376,     0.76476,     0.76577,     0.76677,     0.76777,\n",
              "           0.76877,     0.76977,     0.77077,     0.77177,     0.77277,     0.77377,     0.77477,     0.77578,     0.77678,     0.77778,     0.77878,     0.77978,     0.78078,     0.78178,     0.78278,     0.78378,     0.78478,     0.78579,     0.78679,     0.78779,     0.78879,     0.78979,     0.79079,     0.79179,\n",
              "           0.79279,     0.79379,     0.79479,      0.7958,      0.7968,      0.7978,      0.7988,      0.7998,      0.8008,      0.8018,      0.8028,      0.8038,      0.8048,     0.80581,     0.80681,     0.80781,     0.80881,     0.80981,     0.81081,     0.81181,     0.81281,     0.81381,     0.81481,     0.81582,\n",
              "           0.81682,     0.81782,     0.81882,     0.81982,     0.82082,     0.82182,     0.82282,     0.82382,     0.82482,     0.82583,     0.82683,     0.82783,     0.82883,     0.82983,     0.83083,     0.83183,     0.83283,     0.83383,     0.83483,     0.83584,     0.83684,     0.83784,     0.83884,     0.83984,\n",
              "           0.84084,     0.84184,     0.84284,     0.84384,     0.84484,     0.84585,     0.84685,     0.84785,     0.84885,     0.84985,     0.85085,     0.85185,     0.85285,     0.85385,     0.85485,     0.85586,     0.85686,     0.85786,     0.85886,     0.85986,     0.86086,     0.86186,     0.86286,     0.86386,\n",
              "           0.86486,     0.86587,     0.86687,     0.86787,     0.86887,     0.86987,     0.87087,     0.87187,     0.87287,     0.87387,     0.87487,     0.87588,     0.87688,     0.87788,     0.87888,     0.87988,     0.88088,     0.88188,     0.88288,     0.88388,     0.88488,     0.88589,     0.88689,     0.88789,\n",
              "           0.88889,     0.88989,     0.89089,     0.89189,     0.89289,     0.89389,     0.89489,      0.8959,      0.8969,      0.8979,      0.8989,      0.8999,      0.9009,      0.9019,      0.9029,      0.9039,      0.9049,     0.90591,     0.90691,     0.90791,     0.90891,     0.90991,     0.91091,     0.91191,\n",
              "           0.91291,     0.91391,     0.91491,     0.91592,     0.91692,     0.91792,     0.91892,     0.91992,     0.92092,     0.92192,     0.92292,     0.92392,     0.92492,     0.92593,     0.92693,     0.92793,     0.92893,     0.92993,     0.93093,     0.93193,     0.93293,     0.93393,     0.93493,     0.93594,\n",
              "           0.93694,     0.93794,     0.93894,     0.93994,     0.94094,     0.94194,     0.94294,     0.94394,     0.94494,     0.94595,     0.94695,     0.94795,     0.94895,     0.94995,     0.95095,     0.95195,     0.95295,     0.95395,     0.95495,     0.95596,     0.95696,     0.95796,     0.95896,     0.95996,\n",
              "           0.96096,     0.96196,     0.96296,     0.96396,     0.96496,     0.96597,     0.96697,     0.96797,     0.96897,     0.96997,     0.97097,     0.97197,     0.97297,     0.97397,     0.97497,     0.97598,     0.97698,     0.97798,     0.97898,     0.97998,     0.98098,     0.98198,     0.98298,     0.98398,\n",
              "           0.98498,     0.98599,     0.98699,     0.98799,     0.98899,     0.98999,     0.99099,     0.99199,     0.99299,     0.99399,     0.99499,       0.996,       0.997,       0.998,       0.999,           1]), array([[          1,           1,           1,           1,         0.5,         0.5,         0.5,     0.41447,     0.41447,     0.41447,     0.41447,     0.41447,     0.41447,     0.41447,     0.41447,     0.41447,     0.41447,     0.41447,     0.41447,     0.41447,     0.41447,     0.41447,     0.41447,\n",
              "            0.41447,     0.41447,     0.41447,     0.41447,     0.41447,     0.41447,     0.41447,     0.41447,     0.41447,     0.41447,     0.41447,     0.41447,     0.41447,     0.41447,     0.41447,     0.41447,     0.41447,     0.41447,     0.41447,     0.41447,     0.41447,     0.41447,     0.41447,\n",
              "            0.41447,     0.41447,     0.41447,     0.41447,     0.41447,     0.41447,     0.41447,     0.41447,     0.41447,     0.41447,     0.41447,     0.41447,     0.41447,     0.41447,     0.41447,     0.41447,     0.41447,     0.41447,     0.41447,     0.41447,     0.41447,     0.41447,     0.41447,\n",
              "            0.41447,     0.41447,     0.41447,     0.41447,     0.41447,     0.41447,     0.41447,     0.41447,     0.41447,     0.41447,     0.41447,     0.41447,     0.41447,     0.41447,     0.41447,     0.41447,     0.41447,     0.41447,     0.41447,     0.41447,     0.41447,     0.41447,     0.41447,\n",
              "            0.41447,     0.41447,     0.41447,     0.41447,     0.41447,     0.41447,     0.41447,     0.41447,     0.41447,     0.41447,     0.41447,     0.41447,     0.41447,     0.41447,     0.41447,     0.41447,     0.41447,     0.41447,     0.41447,     0.41447,     0.41447,     0.41447,     0.41447,\n",
              "            0.41447,     0.41447,     0.41447,     0.41447,     0.41447,     0.41447,     0.41447,     0.41447,     0.41447,     0.41447,     0.41447,     0.41447,     0.41447,     0.41447,     0.41447,     0.41447,     0.41447,     0.41447,     0.41447,     0.41447,     0.41447,     0.41447,     0.41447,\n",
              "            0.41447,     0.41447,     0.41447,     0.41447,     0.41447,     0.41447,     0.41447,     0.41447,     0.41447,     0.41447,     0.41447,     0.41447,     0.41447,     0.41447,     0.41447,     0.41447,     0.41447,     0.41447,     0.41447,     0.41447,     0.41447,     0.41447,     0.41447,\n",
              "            0.41447,     0.41447,     0.41447,     0.41447,     0.41447,     0.41447,     0.41447,     0.41447,     0.41447,     0.41447,     0.41447,     0.41447,     0.41447,     0.41447,     0.41447,     0.41447,     0.41447,     0.41447,     0.41447,     0.41447,     0.41447,     0.41447,     0.41447,\n",
              "            0.41447,     0.41447,     0.41447,     0.41447,     0.41447,     0.41447,     0.41447,     0.41447,     0.41447,     0.41447,     0.41447,     0.41447,     0.41447,     0.41447,     0.41447,     0.41447,     0.41447,     0.41447,     0.41447,     0.41447,     0.41447,     0.41447,     0.41447,\n",
              "            0.41447,     0.41447,     0.41447,     0.41447,     0.41447,     0.41447,     0.41447,     0.41447,     0.41379,     0.41379,     0.41379,     0.41379,     0.41379,     0.41379,     0.41379,     0.41379,     0.41379,     0.41379,     0.41379,     0.41379,     0.41379,     0.41379,     0.41379,\n",
              "            0.41379,     0.41379,     0.41379,     0.41379,     0.41379,     0.41379,     0.41379,     0.41379,     0.41379,     0.41379,     0.41379,     0.41379,     0.41379,     0.41379,     0.41379,     0.41379,     0.41243,     0.41243,     0.41243,     0.40437,     0.40437,     0.40437,     0.40437,\n",
              "            0.39791,     0.39791,     0.39791,     0.39791,     0.39791,     0.39791,     0.39791,     0.38525,     0.38525,     0.38525,     0.38525,     0.38525,     0.38525,     0.38525,     0.38525,     0.38525,     0.38525,     0.38525,     0.38525,     0.38525,     0.38525,     0.38525,     0.38525,\n",
              "            0.38525,     0.38525,     0.38525,     0.38525,     0.38525,     0.38525,     0.38525,     0.38525,     0.38525,     0.38525,     0.38525,     0.38525,     0.38525,     0.38525,     0.38525,     0.38525,     0.38525,     0.38525,     0.38525,     0.38525,     0.38525,     0.38525,     0.38525,\n",
              "            0.38525,     0.38525,     0.38525,     0.38525,     0.38525,     0.38525,     0.38525,     0.38525,     0.38525,     0.38525,     0.38525,     0.38525,     0.38525,     0.38525,     0.38525,     0.38525,     0.38525,     0.38525,     0.38525,     0.38525,     0.38525,     0.38525,       0.384,\n",
              "              0.384,       0.384,       0.384,       0.384,       0.384,       0.384,     0.37165,     0.37165,     0.37165,     0.36704,     0.36704,     0.36704,     0.36704,      0.3662,      0.3662,      0.3662,      0.3662,      0.3662,      0.3662,      0.3662,      0.3662,      0.3662,      0.3662,\n",
              "             0.3662,      0.3662,      0.3662,      0.3662,      0.3662,      0.3662,      0.3662,      0.3662,      0.3662,      0.3662,     0.36332,     0.36332,     0.36332,     0.36332,     0.36271,     0.36271,     0.36271,     0.36271,     0.36271,     0.36271,      0.3612,      0.3612,      0.3612,\n",
              "             0.3612,     0.36061,     0.36061,     0.36061,     0.36061,     0.36061,     0.36061,     0.36061,     0.36061,     0.36061,     0.36061,     0.36061,     0.36061,     0.36061,     0.36061,     0.36061,     0.36061,     0.36061,     0.36061,     0.36061,     0.36061,     0.36061,     0.36061,\n",
              "            0.36061,     0.36061,     0.36061,     0.36061,     0.36061,     0.36061,     0.36061,     0.36061,     0.36061,     0.36061,     0.36061,     0.36061,     0.36061,     0.36061,     0.36061,     0.36047,     0.36047,     0.36047,     0.36047,     0.36047,     0.36047,     0.36047,     0.36047,\n",
              "            0.36047,     0.36047,     0.36047,     0.36047,     0.36047,     0.36047,     0.36047,     0.36047,     0.36047,     0.35817,     0.35817,     0.35817,     0.35817,     0.34711,     0.34711,     0.34711,     0.34127,     0.34127,     0.34127,     0.34127,     0.34127,     0.34127,     0.34127,\n",
              "            0.34127,     0.34127,     0.34127,     0.34031,     0.34031,     0.34031,     0.34031,     0.33835,     0.33835,     0.33835,     0.33835,     0.33835,     0.33835,     0.33835,     0.33835,     0.33835,     0.33835,     0.33835,     0.33835,     0.33835,     0.33835,     0.33835,     0.33835,\n",
              "            0.33835,     0.33747,     0.33747,     0.33747,     0.33741,     0.33741,     0.33741,     0.33741,     0.33741,     0.33741,     0.33741,     0.33333,     0.33333,     0.33333,     0.33333,     0.33333,     0.33333,     0.33333,     0.33333,     0.33333,     0.33333,     0.33333,     0.33333,\n",
              "            0.33333,     0.33333,     0.33333,     0.33333,     0.33333,     0.33028,     0.33028,     0.33028,     0.32438,     0.32438,     0.32438,     0.32438,     0.32056,     0.32056,     0.32056,     0.32056,     0.32056,     0.32056,     0.32056,     0.32056,     0.32056,     0.32056,     0.32056,\n",
              "            0.32056,     0.32056,     0.32056,     0.32056,     0.32056,     0.32056,     0.32056,     0.32056,     0.32056,     0.32056,     0.32056,     0.32056,     0.32056,     0.32056,     0.32056,     0.32056,     0.32056,     0.32056,     0.32056,     0.32056,     0.32056,     0.32056,     0.32056,\n",
              "            0.32056,     0.32056,     0.32056,     0.32056,     0.32056,     0.32056,     0.32056,     0.32056,     0.32056,     0.32056,     0.32056,     0.32056,     0.32056,     0.32056,     0.31712,     0.31712,     0.31712,     0.31712,     0.31712,     0.31712,     0.31712,     0.31712,     0.31712,\n",
              "            0.31712,     0.31712,     0.31712,     0.31712,      0.3166,      0.3166,      0.3166,      0.3166,     0.31608,     0.31608,     0.31608,     0.31608,     0.31608,     0.31608,     0.31608,     0.31608,     0.31608,     0.31608,     0.31608,     0.31608,     0.31608,     0.31608,     0.31608,\n",
              "            0.31608,     0.31608,     0.31608,     0.31608,     0.31608,     0.31608,     0.31608,     0.31608,     0.31608,     0.31444,     0.31444,     0.31444,     0.31171,     0.31171,     0.31171,     0.31016,     0.31016,     0.31016,     0.31016,      0.3101,      0.3101,      0.3101,      0.3101,\n",
              "             0.3101,      0.3101,      0.3101,      0.3101,      0.3101,      0.3101,      0.3101,      0.3101,      0.3101,     0.30809,     0.30809,     0.30809,     0.30809,     0.30782,     0.30782,     0.30782,     0.30782,     0.30782,     0.30782,     0.30782,     0.30579,     0.30579,     0.30579,\n",
              "            0.30579,     0.30579,     0.30579,     0.30579,     0.30579,     0.30579,     0.30579,     0.30579,     0.30579,     0.30579,     0.30542,     0.30542,     0.30542,     0.30542,     0.30161,     0.30161,     0.30161,     0.30128,     0.30128,     0.30128,     0.29709,     0.29709,     0.29709,\n",
              "            0.29709,     0.29709,     0.29709,     0.29709,     0.29709,     0.29709,     0.29709,     0.29709,     0.29709,     0.29709,     0.29709,     0.29709,     0.29709,     0.29709,     0.29709,     0.29709,     0.29709,     0.29709,     0.29456,     0.29456,     0.29456,     0.29447,     0.29447,\n",
              "            0.29447,     0.29447,     0.29447,     0.29447,     0.29447,     0.29118,     0.29118,     0.29118,     0.29118,     0.28797,     0.28797,     0.28797,     0.28797,     0.28797,     0.28797,     0.28797,     0.28797,     0.28797,     0.28797,     0.27869,     0.27869,     0.27869,     0.27869,\n",
              "            0.27869,     0.27869,     0.27869,     0.27869,     0.27869,     0.27869,     0.27725,     0.27725,     0.27725,     0.27725,     0.27725,     0.27725,     0.27725,     0.27682,     0.27682,     0.27682,     0.27682,     0.27682,     0.27682,     0.27682,     0.27682,     0.27682,     0.27682,\n",
              "            0.27595,     0.27595,     0.27595,     0.27595,     0.27438,     0.27438,     0.27438,     0.27331,     0.27331,     0.27331,     0.27331,     0.27331,     0.27331,     0.27331,     0.27331,     0.27331,     0.27331,     0.27215,     0.27215,     0.27215,     0.27215,     0.27104,     0.27104,\n",
              "            0.27104,     0.27104,     0.27104,     0.27104,     0.27104,     0.27104,     0.27104,     0.27104,     0.27104,     0.27104,     0.27104,     0.26853,     0.26853,     0.26853,     0.26853,     0.26853,     0.26853,     0.26853,     0.26683,     0.26683,     0.26683,     0.26603,     0.26603,\n",
              "            0.26603,     0.26603,     0.26603,     0.26603,     0.26603,     0.26224,     0.26224,     0.26224,     0.26224,     0.26188,     0.26188,     0.26188,     0.26177,     0.26177,     0.26177,     0.26177,     0.26177,     0.26177,     0.26177,     0.25934,     0.25934,     0.25934,     0.25893,\n",
              "            0.25893,     0.25893,     0.25893,     0.25893,     0.25893,     0.25893,     0.25893,     0.25893,     0.25893,     0.25893,     0.25889,     0.25889,     0.25889,     0.25856,     0.25856,     0.25856,     0.25543,     0.25543,     0.25543,     0.25543,        0.25,        0.25,        0.25,\n",
              "            0.24947,     0.24947,     0.24947,     0.24947,     0.24513,     0.24513,     0.24513,     0.24513,     0.24513,     0.24513,     0.24469,     0.24469,     0.24469,     0.24469,     0.24469,     0.24469,     0.24469,     0.24469,     0.24469,     0.24469,     0.24469,     0.23824,     0.23824,\n",
              "            0.23824,     0.23598,     0.23598,     0.23598,     0.23378,     0.23378,     0.23378,     0.23378,     0.22778,     0.22778,     0.22778,     0.22681,     0.22681,     0.22681,     0.22681,     0.22484,     0.22484,     0.22484,     0.22458,     0.22458,     0.22458,     0.22458,     0.22458,\n",
              "            0.22458,     0.22458,     0.22458,     0.22458,     0.22458,     0.22458,     0.22458,     0.22458,     0.22458,     0.22458,     0.22458,     0.22458,     0.22458,     0.22458,     0.22458,     0.22458,     0.22271,     0.22271,     0.22271,     0.22107,     0.22107,     0.22107,     0.21976,\n",
              "            0.21976,     0.21976,     0.21976,     0.21976,     0.21976,     0.21976,     0.21299,     0.21299,     0.21299,     0.21299,      0.2119,      0.2119,      0.2119,     0.21134,     0.21134,     0.21134,      0.2101,      0.2101,      0.2101,      0.2101,     0.20791,     0.20791,     0.20791,\n",
              "             0.2037,      0.2037,      0.2037,      0.2037,     0.20183,     0.20183,     0.20183,     0.19444,     0.19444,     0.19444,     0.19126,     0.19126,     0.19126,     0.19126,     0.19048,     0.19048,     0.19048,     0.18324,     0.18324,     0.18324,     0.18324,     0.17952,     0.17952,\n",
              "            0.17952,     0.17685,     0.17685,     0.17685,     0.17685,     0.17685,     0.17685,     0.17685,     0.17685,     0.17685,     0.17685,     0.17685,     0.17685,     0.17685,     0.17685,     0.17685,     0.17685,     0.17685,     0.17602,     0.17602,     0.17602,     0.17602,      0.1712,\n",
              "             0.1712,      0.1712,     0.17087,     0.17087,     0.17087,     0.17002,     0.17002,     0.17002,     0.17002,      0.1699,      0.1699,      0.1699,     0.16928,     0.16928,     0.16928,     0.16928,     0.16462,     0.16462,     0.16462,     0.16349,     0.16349,     0.16349,     0.15857,\n",
              "            0.15857,     0.15857,     0.15857,     0.15789,     0.15789,     0.15789,     0.15577,     0.15577,     0.15577,     0.15577,     0.15547,     0.15547,     0.15547,     0.15517,     0.15517,     0.15517,     0.15504,     0.15504,     0.15504,     0.15504,     0.14995,     0.14995,     0.14995,\n",
              "            0.14195,     0.14195,     0.14195,     0.14195,     0.11817,     0.11817,     0.11817,    0.080605,    0.080605,    0.080605,           0]]), 'Recall', 'Precision'], [array([          0,    0.001001,    0.002002,    0.003003,    0.004004,    0.005005,    0.006006,    0.007007,    0.008008,    0.009009,     0.01001,    0.011011,    0.012012,    0.013013,    0.014014,    0.015015,    0.016016,    0.017017,    0.018018,    0.019019,     0.02002,    0.021021,    0.022022,    0.023023,\n",
              "          0.024024,    0.025025,    0.026026,    0.027027,    0.028028,    0.029029,     0.03003,    0.031031,    0.032032,    0.033033,    0.034034,    0.035035,    0.036036,    0.037037,    0.038038,    0.039039,     0.04004,    0.041041,    0.042042,    0.043043,    0.044044,    0.045045,    0.046046,    0.047047,\n",
              "          0.048048,    0.049049,     0.05005,    0.051051,    0.052052,    0.053053,    0.054054,    0.055055,    0.056056,    0.057057,    0.058058,    0.059059,     0.06006,    0.061061,    0.062062,    0.063063,    0.064064,    0.065065,    0.066066,    0.067067,    0.068068,    0.069069,     0.07007,    0.071071,\n",
              "          0.072072,    0.073073,    0.074074,    0.075075,    0.076076,    0.077077,    0.078078,    0.079079,     0.08008,    0.081081,    0.082082,    0.083083,    0.084084,    0.085085,    0.086086,    0.087087,    0.088088,    0.089089,     0.09009,    0.091091,    0.092092,    0.093093,    0.094094,    0.095095,\n",
              "          0.096096,    0.097097,    0.098098,    0.099099,      0.1001,      0.1011,      0.1021,      0.1031,      0.1041,     0.10511,     0.10611,     0.10711,     0.10811,     0.10911,     0.11011,     0.11111,     0.11211,     0.11311,     0.11411,     0.11512,     0.11612,     0.11712,     0.11812,     0.11912,\n",
              "           0.12012,     0.12112,     0.12212,     0.12312,     0.12412,     0.12513,     0.12613,     0.12713,     0.12813,     0.12913,     0.13013,     0.13113,     0.13213,     0.13313,     0.13413,     0.13514,     0.13614,     0.13714,     0.13814,     0.13914,     0.14014,     0.14114,     0.14214,     0.14314,\n",
              "           0.14414,     0.14515,     0.14615,     0.14715,     0.14815,     0.14915,     0.15015,     0.15115,     0.15215,     0.15315,     0.15415,     0.15516,     0.15616,     0.15716,     0.15816,     0.15916,     0.16016,     0.16116,     0.16216,     0.16316,     0.16416,     0.16517,     0.16617,     0.16717,\n",
              "           0.16817,     0.16917,     0.17017,     0.17117,     0.17217,     0.17317,     0.17417,     0.17518,     0.17618,     0.17718,     0.17818,     0.17918,     0.18018,     0.18118,     0.18218,     0.18318,     0.18418,     0.18519,     0.18619,     0.18719,     0.18819,     0.18919,     0.19019,     0.19119,\n",
              "           0.19219,     0.19319,     0.19419,      0.1952,      0.1962,      0.1972,      0.1982,      0.1992,      0.2002,      0.2012,      0.2022,      0.2032,      0.2042,     0.20521,     0.20621,     0.20721,     0.20821,     0.20921,     0.21021,     0.21121,     0.21221,     0.21321,     0.21421,     0.21522,\n",
              "           0.21622,     0.21722,     0.21822,     0.21922,     0.22022,     0.22122,     0.22222,     0.22322,     0.22422,     0.22523,     0.22623,     0.22723,     0.22823,     0.22923,     0.23023,     0.23123,     0.23223,     0.23323,     0.23423,     0.23524,     0.23624,     0.23724,     0.23824,     0.23924,\n",
              "           0.24024,     0.24124,     0.24224,     0.24324,     0.24424,     0.24525,     0.24625,     0.24725,     0.24825,     0.24925,     0.25025,     0.25125,     0.25225,     0.25325,     0.25425,     0.25526,     0.25626,     0.25726,     0.25826,     0.25926,     0.26026,     0.26126,     0.26226,     0.26326,\n",
              "           0.26426,     0.26527,     0.26627,     0.26727,     0.26827,     0.26927,     0.27027,     0.27127,     0.27227,     0.27327,     0.27427,     0.27528,     0.27628,     0.27728,     0.27828,     0.27928,     0.28028,     0.28128,     0.28228,     0.28328,     0.28428,     0.28529,     0.28629,     0.28729,\n",
              "           0.28829,     0.28929,     0.29029,     0.29129,     0.29229,     0.29329,     0.29429,      0.2953,      0.2963,      0.2973,      0.2983,      0.2993,      0.3003,      0.3013,      0.3023,      0.3033,      0.3043,     0.30531,     0.30631,     0.30731,     0.30831,     0.30931,     0.31031,     0.31131,\n",
              "           0.31231,     0.31331,     0.31431,     0.31532,     0.31632,     0.31732,     0.31832,     0.31932,     0.32032,     0.32132,     0.32232,     0.32332,     0.32432,     0.32533,     0.32633,     0.32733,     0.32833,     0.32933,     0.33033,     0.33133,     0.33233,     0.33333,     0.33433,     0.33534,\n",
              "           0.33634,     0.33734,     0.33834,     0.33934,     0.34034,     0.34134,     0.34234,     0.34334,     0.34434,     0.34535,     0.34635,     0.34735,     0.34835,     0.34935,     0.35035,     0.35135,     0.35235,     0.35335,     0.35435,     0.35536,     0.35636,     0.35736,     0.35836,     0.35936,\n",
              "           0.36036,     0.36136,     0.36236,     0.36336,     0.36436,     0.36537,     0.36637,     0.36737,     0.36837,     0.36937,     0.37037,     0.37137,     0.37237,     0.37337,     0.37437,     0.37538,     0.37638,     0.37738,     0.37838,     0.37938,     0.38038,     0.38138,     0.38238,     0.38338,\n",
              "           0.38438,     0.38539,     0.38639,     0.38739,     0.38839,     0.38939,     0.39039,     0.39139,     0.39239,     0.39339,     0.39439,      0.3954,      0.3964,      0.3974,      0.3984,      0.3994,      0.4004,      0.4014,      0.4024,      0.4034,      0.4044,     0.40541,     0.40641,     0.40741,\n",
              "           0.40841,     0.40941,     0.41041,     0.41141,     0.41241,     0.41341,     0.41441,     0.41542,     0.41642,     0.41742,     0.41842,     0.41942,     0.42042,     0.42142,     0.42242,     0.42342,     0.42442,     0.42543,     0.42643,     0.42743,     0.42843,     0.42943,     0.43043,     0.43143,\n",
              "           0.43243,     0.43343,     0.43443,     0.43544,     0.43644,     0.43744,     0.43844,     0.43944,     0.44044,     0.44144,     0.44244,     0.44344,     0.44444,     0.44545,     0.44645,     0.44745,     0.44845,     0.44945,     0.45045,     0.45145,     0.45245,     0.45345,     0.45445,     0.45546,\n",
              "           0.45646,     0.45746,     0.45846,     0.45946,     0.46046,     0.46146,     0.46246,     0.46346,     0.46446,     0.46547,     0.46647,     0.46747,     0.46847,     0.46947,     0.47047,     0.47147,     0.47247,     0.47347,     0.47447,     0.47548,     0.47648,     0.47748,     0.47848,     0.47948,\n",
              "           0.48048,     0.48148,     0.48248,     0.48348,     0.48448,     0.48549,     0.48649,     0.48749,     0.48849,     0.48949,     0.49049,     0.49149,     0.49249,     0.49349,     0.49449,      0.4955,      0.4965,      0.4975,      0.4985,      0.4995,      0.5005,      0.5015,      0.5025,      0.5035,\n",
              "            0.5045,     0.50551,     0.50651,     0.50751,     0.50851,     0.50951,     0.51051,     0.51151,     0.51251,     0.51351,     0.51451,     0.51552,     0.51652,     0.51752,     0.51852,     0.51952,     0.52052,     0.52152,     0.52252,     0.52352,     0.52452,     0.52553,     0.52653,     0.52753,\n",
              "           0.52853,     0.52953,     0.53053,     0.53153,     0.53253,     0.53353,     0.53453,     0.53554,     0.53654,     0.53754,     0.53854,     0.53954,     0.54054,     0.54154,     0.54254,     0.54354,     0.54454,     0.54555,     0.54655,     0.54755,     0.54855,     0.54955,     0.55055,     0.55155,\n",
              "           0.55255,     0.55355,     0.55455,     0.55556,     0.55656,     0.55756,     0.55856,     0.55956,     0.56056,     0.56156,     0.56256,     0.56356,     0.56456,     0.56557,     0.56657,     0.56757,     0.56857,     0.56957,     0.57057,     0.57157,     0.57257,     0.57357,     0.57457,     0.57558,\n",
              "           0.57658,     0.57758,     0.57858,     0.57958,     0.58058,     0.58158,     0.58258,     0.58358,     0.58458,     0.58559,     0.58659,     0.58759,     0.58859,     0.58959,     0.59059,     0.59159,     0.59259,     0.59359,     0.59459,      0.5956,      0.5966,      0.5976,      0.5986,      0.5996,\n",
              "            0.6006,      0.6016,      0.6026,      0.6036,      0.6046,     0.60561,     0.60661,     0.60761,     0.60861,     0.60961,     0.61061,     0.61161,     0.61261,     0.61361,     0.61461,     0.61562,     0.61662,     0.61762,     0.61862,     0.61962,     0.62062,     0.62162,     0.62262,     0.62362,\n",
              "           0.62462,     0.62563,     0.62663,     0.62763,     0.62863,     0.62963,     0.63063,     0.63163,     0.63263,     0.63363,     0.63463,     0.63564,     0.63664,     0.63764,     0.63864,     0.63964,     0.64064,     0.64164,     0.64264,     0.64364,     0.64464,     0.64565,     0.64665,     0.64765,\n",
              "           0.64865,     0.64965,     0.65065,     0.65165,     0.65265,     0.65365,     0.65465,     0.65566,     0.65666,     0.65766,     0.65866,     0.65966,     0.66066,     0.66166,     0.66266,     0.66366,     0.66466,     0.66567,     0.66667,     0.66767,     0.66867,     0.66967,     0.67067,     0.67167,\n",
              "           0.67267,     0.67367,     0.67467,     0.67568,     0.67668,     0.67768,     0.67868,     0.67968,     0.68068,     0.68168,     0.68268,     0.68368,     0.68468,     0.68569,     0.68669,     0.68769,     0.68869,     0.68969,     0.69069,     0.69169,     0.69269,     0.69369,     0.69469,      0.6957,\n",
              "            0.6967,      0.6977,      0.6987,      0.6997,      0.7007,      0.7017,      0.7027,      0.7037,      0.7047,     0.70571,     0.70671,     0.70771,     0.70871,     0.70971,     0.71071,     0.71171,     0.71271,     0.71371,     0.71471,     0.71572,     0.71672,     0.71772,     0.71872,     0.71972,\n",
              "           0.72072,     0.72172,     0.72272,     0.72372,     0.72472,     0.72573,     0.72673,     0.72773,     0.72873,     0.72973,     0.73073,     0.73173,     0.73273,     0.73373,     0.73473,     0.73574,     0.73674,     0.73774,     0.73874,     0.73974,     0.74074,     0.74174,     0.74274,     0.74374,\n",
              "           0.74474,     0.74575,     0.74675,     0.74775,     0.74875,     0.74975,     0.75075,     0.75175,     0.75275,     0.75375,     0.75475,     0.75576,     0.75676,     0.75776,     0.75876,     0.75976,     0.76076,     0.76176,     0.76276,     0.76376,     0.76476,     0.76577,     0.76677,     0.76777,\n",
              "           0.76877,     0.76977,     0.77077,     0.77177,     0.77277,     0.77377,     0.77477,     0.77578,     0.77678,     0.77778,     0.77878,     0.77978,     0.78078,     0.78178,     0.78278,     0.78378,     0.78478,     0.78579,     0.78679,     0.78779,     0.78879,     0.78979,     0.79079,     0.79179,\n",
              "           0.79279,     0.79379,     0.79479,      0.7958,      0.7968,      0.7978,      0.7988,      0.7998,      0.8008,      0.8018,      0.8028,      0.8038,      0.8048,     0.80581,     0.80681,     0.80781,     0.80881,     0.80981,     0.81081,     0.81181,     0.81281,     0.81381,     0.81481,     0.81582,\n",
              "           0.81682,     0.81782,     0.81882,     0.81982,     0.82082,     0.82182,     0.82282,     0.82382,     0.82482,     0.82583,     0.82683,     0.82783,     0.82883,     0.82983,     0.83083,     0.83183,     0.83283,     0.83383,     0.83483,     0.83584,     0.83684,     0.83784,     0.83884,     0.83984,\n",
              "           0.84084,     0.84184,     0.84284,     0.84384,     0.84484,     0.84585,     0.84685,     0.84785,     0.84885,     0.84985,     0.85085,     0.85185,     0.85285,     0.85385,     0.85485,     0.85586,     0.85686,     0.85786,     0.85886,     0.85986,     0.86086,     0.86186,     0.86286,     0.86386,\n",
              "           0.86486,     0.86587,     0.86687,     0.86787,     0.86887,     0.86987,     0.87087,     0.87187,     0.87287,     0.87387,     0.87487,     0.87588,     0.87688,     0.87788,     0.87888,     0.87988,     0.88088,     0.88188,     0.88288,     0.88388,     0.88488,     0.88589,     0.88689,     0.88789,\n",
              "           0.88889,     0.88989,     0.89089,     0.89189,     0.89289,     0.89389,     0.89489,      0.8959,      0.8969,      0.8979,      0.8989,      0.8999,      0.9009,      0.9019,      0.9029,      0.9039,      0.9049,     0.90591,     0.90691,     0.90791,     0.90891,     0.90991,     0.91091,     0.91191,\n",
              "           0.91291,     0.91391,     0.91491,     0.91592,     0.91692,     0.91792,     0.91892,     0.91992,     0.92092,     0.92192,     0.92292,     0.92392,     0.92492,     0.92593,     0.92693,     0.92793,     0.92893,     0.92993,     0.93093,     0.93193,     0.93293,     0.93393,     0.93493,     0.93594,\n",
              "           0.93694,     0.93794,     0.93894,     0.93994,     0.94094,     0.94194,     0.94294,     0.94394,     0.94494,     0.94595,     0.94695,     0.94795,     0.94895,     0.94995,     0.95095,     0.95195,     0.95295,     0.95395,     0.95495,     0.95596,     0.95696,     0.95796,     0.95896,     0.95996,\n",
              "           0.96096,     0.96196,     0.96296,     0.96396,     0.96496,     0.96597,     0.96697,     0.96797,     0.96897,     0.96997,     0.97097,     0.97197,     0.97297,     0.97397,     0.97497,     0.97598,     0.97698,     0.97798,     0.97898,     0.97998,     0.98098,     0.98198,     0.98298,     0.98398,\n",
              "           0.98498,     0.98599,     0.98699,     0.98799,     0.98899,     0.98999,     0.99099,     0.99199,     0.99299,     0.99399,     0.99499,       0.996,       0.997,       0.998,       0.999,           1]), array([[    0.05664,     0.05664,    0.062983,    0.066696,    0.069168,    0.071535,    0.073674,    0.075631,    0.077566,    0.079627,    0.081798,    0.083829,    0.086279,    0.088197,    0.090128,    0.092081,    0.094317,    0.096295,    0.098403,     0.10071,      0.1027,     0.10484,     0.10736,\n",
              "            0.10968,     0.11223,     0.11505,     0.11771,     0.12042,     0.12306,     0.12599,     0.12852,     0.13178,     0.13533,     0.13782,     0.14102,     0.14374,     0.14656,     0.14917,     0.15154,      0.1536,     0.15576,     0.15832,     0.16041,     0.16236,      0.1647,     0.16706,\n",
              "            0.16895,     0.17085,     0.17343,     0.17517,     0.17689,     0.17919,     0.18199,     0.18379,     0.18565,      0.1875,     0.18949,     0.19122,      0.1938,     0.19549,     0.19702,     0.19914,     0.20067,     0.20243,     0.20447,     0.20625,     0.20803,     0.20999,     0.21133,\n",
              "            0.21359,     0.21548,     0.21709,     0.21855,     0.22021,     0.22166,      0.2249,     0.22698,     0.22972,     0.23253,     0.23558,     0.23755,     0.23946,     0.24109,     0.24344,     0.24502,     0.24798,     0.24896,     0.25092,     0.25335,     0.25652,     0.26009,     0.26167,\n",
              "            0.26407,     0.26701,     0.26738,     0.26794,      0.2689,     0.27101,     0.27396,     0.27676,      0.2788,      0.2808,     0.28405,     0.28735,     0.28821,     0.28911,     0.29306,     0.29748,     0.29549,     0.29858,     0.30225,     0.30552,     0.31258,     0.31443,     0.31787,\n",
              "            0.32119,     0.32745,       0.331,     0.33467,      0.3389,     0.34266,     0.34622,     0.34983,     0.35462,     0.35398,     0.35741,     0.36173,     0.36729,     0.37636,     0.37642,     0.38116,     0.38645,     0.38784,     0.39013,     0.39113,     0.39385,     0.39415,     0.39573,\n",
              "            0.39786,     0.39476,     0.39665,     0.40351,     0.40402,     0.40952,     0.40426,     0.40924,     0.40942,     0.40779,     0.40712,      0.4062,     0.40958,     0.40428,     0.40311,     0.40058,     0.39236,     0.39226,     0.38973,     0.39295,     0.39498,     0.39147,     0.38414,\n",
              "            0.38441,     0.38333,     0.38545,     0.38586,      0.3781,     0.36706,     0.36538,     0.36347,     0.35994,     0.35155,     0.34735,     0.35333,     0.34749,     0.32831,     0.31005,     0.30804,     0.30887,     0.31005,     0.30702,     0.29514,     0.28566,     0.28547,     0.27021,\n",
              "              0.261,     0.25273,     0.24343,     0.23506,     0.22932,     0.22079,     0.21404,     0.21045,     0.19923,     0.18641,     0.17526,       0.156,     0.14715,     0.14748,      0.1422,     0.13325,     0.12778,     0.12483,     0.12525,     0.11965,     0.11507,     0.10996,     0.10012,\n",
              "           0.099926,    0.089581,    0.086561,    0.084382,    0.071045,    0.067329,     0.06777,    0.067316,    0.062829,    0.056437,    0.056508,    0.056576,    0.051656,    0.048963,    0.046642,    0.043057,    0.038683,    0.038875,    0.036614,    0.031846,    0.027053,    0.023615,    0.020493,\n",
              "            0.01802,     0.01569,    0.013359,    0.013252,    0.013285,    0.013338,    0.013369,    0.013394,    0.013415,    0.013444,    0.013421,    0.013052,    0.012683,    0.012314,    0.011945,    0.011576,    0.011207,    0.010837,    0.010468,    0.010099,   0.0097295,   0.0093602,   0.0089907,\n",
              "          0.0086212,   0.0082516,    0.007882,   0.0075122,   0.0071424,   0.0067725,   0.0067664,    0.006774,   0.0067797,   0.0067818,   0.0067837,   0.0067855,   0.0067871,   0.0067886,   0.0067899,   0.0067912,   0.0067924,   0.0067935,   0.0067946,   0.0067955,   0.0067965,   0.0067973,   0.0067981,\n",
              "          0.0067989,   0.0067996,   0.0068003,    0.006801,   0.0068016,   0.0068022,           0,           0,           0,           0,           0,           0,           0,           0,           0,           0,           0,           0,           0,           0,           0,           0,           0,\n",
              "                  0,           0,           0,           0,           0,           0,           0,           0,           0,           0,           0,           0,           0,           0,           0,           0,           0,           0,           0,           0,           0,           0,           0,\n",
              "                  0,           0,           0,           0,           0,           0,           0,           0,           0,           0,           0,           0,           0,           0,           0,           0,           0,           0,           0,           0,           0,           0,           0,\n",
              "                  0,           0,           0,           0,           0,           0,           0,           0,           0,           0,           0,           0,           0,           0,           0,           0,           0,           0,           0,           0,           0,           0,           0,\n",
              "                  0,           0,           0,           0,           0,           0,           0,           0,           0,           0,           0,           0,           0,           0,           0,           0,           0,           0,           0,           0,           0,           0,           0,\n",
              "                  0,           0,           0,           0,           0,           0,           0,           0,           0,           0,           0,           0,           0,           0,           0,           0,           0,           0,           0,           0,           0,           0,           0,\n",
              "                  0,           0,           0,           0,           0,           0,           0,           0,           0,           0,           0,           0,           0,           0,           0,           0,           0,           0,           0,           0,           0,           0,           0,\n",
              "                  0,           0,           0,           0,           0,           0,           0,           0,           0,           0,           0,           0,           0,           0,           0,           0,           0,           0,           0,           0,           0,           0,           0,\n",
              "                  0,           0,           0,           0,           0,           0,           0,           0,           0,           0,           0,           0,           0,           0,           0,           0,           0,           0,           0,           0,           0,           0,           0,\n",
              "                  0,           0,           0,           0,           0,           0,           0,           0,           0,           0,           0,           0,           0,           0,           0,           0,           0,           0,           0,           0,           0,           0,           0,\n",
              "                  0,           0,           0,           0,           0,           0,           0,           0,           0,           0,           0,           0,           0,           0,           0,           0,           0,           0,           0,           0,           0,           0,           0,\n",
              "                  0,           0,           0,           0,           0,           0,           0,           0,           0,           0,           0,           0,           0,           0,           0,           0,           0,           0,           0,           0,           0,           0,           0,\n",
              "                  0,           0,           0,           0,           0,           0,           0,           0,           0,           0,           0,           0,           0,           0,           0,           0,           0,           0,           0,           0,           0,           0,           0,\n",
              "                  0,           0,           0,           0,           0,           0,           0,           0,           0,           0,           0,           0,           0,           0,           0,           0,           0,           0,           0,           0,           0,           0,           0,\n",
              "                  0,           0,           0,           0,           0,           0,           0,           0,           0,           0,           0,           0,           0,           0,           0,           0,           0,           0,           0,           0,           0,           0,           0,\n",
              "                  0,           0,           0,           0,           0,           0,           0,           0,           0,           0,           0,           0,           0,           0,           0,           0,           0,           0,           0,           0,           0,           0,           0,\n",
              "                  0,           0,           0,           0,           0,           0,           0,           0,           0,           0,           0,           0,           0,           0,           0,           0,           0,           0,           0,           0,           0,           0,           0,\n",
              "                  0,           0,           0,           0,           0,           0,           0,           0,           0,           0,           0,           0,           0,           0,           0,           0,           0,           0,           0,           0,           0,           0,           0,\n",
              "                  0,           0,           0,           0,           0,           0,           0,           0,           0,           0,           0,           0,           0,           0,           0,           0,           0,           0,           0,           0,           0,           0,           0,\n",
              "                  0,           0,           0,           0,           0,           0,           0,           0,           0,           0,           0,           0,           0,           0,           0,           0,           0,           0,           0,           0,           0,           0,           0,\n",
              "                  0,           0,           0,           0,           0,           0,           0,           0,           0,           0,           0,           0,           0,           0,           0,           0,           0,           0,           0,           0,           0,           0,           0,\n",
              "                  0,           0,           0,           0,           0,           0,           0,           0,           0,           0,           0,           0,           0,           0,           0,           0,           0,           0,           0,           0,           0,           0,           0,\n",
              "                  0,           0,           0,           0,           0,           0,           0,           0,           0,           0,           0,           0,           0,           0,           0,           0,           0,           0,           0,           0,           0,           0,           0,\n",
              "                  0,           0,           0,           0,           0,           0,           0,           0,           0,           0,           0,           0,           0,           0,           0,           0,           0,           0,           0,           0,           0,           0,           0,\n",
              "                  0,           0,           0,           0,           0,           0,           0,           0,           0,           0,           0,           0,           0,           0,           0,           0,           0,           0,           0,           0,           0,           0,           0,\n",
              "                  0,           0,           0,           0,           0,           0,           0,           0,           0,           0,           0,           0,           0,           0,           0,           0,           0,           0,           0,           0,           0,           0,           0,\n",
              "                  0,           0,           0,           0,           0,           0,           0,           0,           0,           0,           0,           0,           0,           0,           0,           0,           0,           0,           0,           0,           0,           0,           0,\n",
              "                  0,           0,           0,           0,           0,           0,           0,           0,           0,           0,           0,           0,           0,           0,           0,           0,           0,           0,           0,           0,           0,           0,           0,\n",
              "                  0,           0,           0,           0,           0,           0,           0,           0,           0,           0,           0,           0,           0,           0,           0,           0,           0,           0,           0,           0,           0,           0,           0,\n",
              "                  0,           0,           0,           0,           0,           0,           0,           0,           0,           0,           0,           0,           0,           0,           0,           0,           0,           0,           0,           0,           0,           0,           0,\n",
              "                  0,           0,           0,           0,           0,           0,           0,           0,           0,           0,           0,           0,           0,           0,           0,           0,           0,           0,           0,           0,           0,           0,           0,\n",
              "                  0,           0,           0,           0,           0,           0,           0,           0,           0,           0,           0]]), 'Confidence', 'F1'], [array([          0,    0.001001,    0.002002,    0.003003,    0.004004,    0.005005,    0.006006,    0.007007,    0.008008,    0.009009,     0.01001,    0.011011,    0.012012,    0.013013,    0.014014,    0.015015,    0.016016,    0.017017,    0.018018,    0.019019,     0.02002,    0.021021,    0.022022,    0.023023,\n",
              "          0.024024,    0.025025,    0.026026,    0.027027,    0.028028,    0.029029,     0.03003,    0.031031,    0.032032,    0.033033,    0.034034,    0.035035,    0.036036,    0.037037,    0.038038,    0.039039,     0.04004,    0.041041,    0.042042,    0.043043,    0.044044,    0.045045,    0.046046,    0.047047,\n",
              "          0.048048,    0.049049,     0.05005,    0.051051,    0.052052,    0.053053,    0.054054,    0.055055,    0.056056,    0.057057,    0.058058,    0.059059,     0.06006,    0.061061,    0.062062,    0.063063,    0.064064,    0.065065,    0.066066,    0.067067,    0.068068,    0.069069,     0.07007,    0.071071,\n",
              "          0.072072,    0.073073,    0.074074,    0.075075,    0.076076,    0.077077,    0.078078,    0.079079,     0.08008,    0.081081,    0.082082,    0.083083,    0.084084,    0.085085,    0.086086,    0.087087,    0.088088,    0.089089,     0.09009,    0.091091,    0.092092,    0.093093,    0.094094,    0.095095,\n",
              "          0.096096,    0.097097,    0.098098,    0.099099,      0.1001,      0.1011,      0.1021,      0.1031,      0.1041,     0.10511,     0.10611,     0.10711,     0.10811,     0.10911,     0.11011,     0.11111,     0.11211,     0.11311,     0.11411,     0.11512,     0.11612,     0.11712,     0.11812,     0.11912,\n",
              "           0.12012,     0.12112,     0.12212,     0.12312,     0.12412,     0.12513,     0.12613,     0.12713,     0.12813,     0.12913,     0.13013,     0.13113,     0.13213,     0.13313,     0.13413,     0.13514,     0.13614,     0.13714,     0.13814,     0.13914,     0.14014,     0.14114,     0.14214,     0.14314,\n",
              "           0.14414,     0.14515,     0.14615,     0.14715,     0.14815,     0.14915,     0.15015,     0.15115,     0.15215,     0.15315,     0.15415,     0.15516,     0.15616,     0.15716,     0.15816,     0.15916,     0.16016,     0.16116,     0.16216,     0.16316,     0.16416,     0.16517,     0.16617,     0.16717,\n",
              "           0.16817,     0.16917,     0.17017,     0.17117,     0.17217,     0.17317,     0.17417,     0.17518,     0.17618,     0.17718,     0.17818,     0.17918,     0.18018,     0.18118,     0.18218,     0.18318,     0.18418,     0.18519,     0.18619,     0.18719,     0.18819,     0.18919,     0.19019,     0.19119,\n",
              "           0.19219,     0.19319,     0.19419,      0.1952,      0.1962,      0.1972,      0.1982,      0.1992,      0.2002,      0.2012,      0.2022,      0.2032,      0.2042,     0.20521,     0.20621,     0.20721,     0.20821,     0.20921,     0.21021,     0.21121,     0.21221,     0.21321,     0.21421,     0.21522,\n",
              "           0.21622,     0.21722,     0.21822,     0.21922,     0.22022,     0.22122,     0.22222,     0.22322,     0.22422,     0.22523,     0.22623,     0.22723,     0.22823,     0.22923,     0.23023,     0.23123,     0.23223,     0.23323,     0.23423,     0.23524,     0.23624,     0.23724,     0.23824,     0.23924,\n",
              "           0.24024,     0.24124,     0.24224,     0.24324,     0.24424,     0.24525,     0.24625,     0.24725,     0.24825,     0.24925,     0.25025,     0.25125,     0.25225,     0.25325,     0.25425,     0.25526,     0.25626,     0.25726,     0.25826,     0.25926,     0.26026,     0.26126,     0.26226,     0.26326,\n",
              "           0.26426,     0.26527,     0.26627,     0.26727,     0.26827,     0.26927,     0.27027,     0.27127,     0.27227,     0.27327,     0.27427,     0.27528,     0.27628,     0.27728,     0.27828,     0.27928,     0.28028,     0.28128,     0.28228,     0.28328,     0.28428,     0.28529,     0.28629,     0.28729,\n",
              "           0.28829,     0.28929,     0.29029,     0.29129,     0.29229,     0.29329,     0.29429,      0.2953,      0.2963,      0.2973,      0.2983,      0.2993,      0.3003,      0.3013,      0.3023,      0.3033,      0.3043,     0.30531,     0.30631,     0.30731,     0.30831,     0.30931,     0.31031,     0.31131,\n",
              "           0.31231,     0.31331,     0.31431,     0.31532,     0.31632,     0.31732,     0.31832,     0.31932,     0.32032,     0.32132,     0.32232,     0.32332,     0.32432,     0.32533,     0.32633,     0.32733,     0.32833,     0.32933,     0.33033,     0.33133,     0.33233,     0.33333,     0.33433,     0.33534,\n",
              "           0.33634,     0.33734,     0.33834,     0.33934,     0.34034,     0.34134,     0.34234,     0.34334,     0.34434,     0.34535,     0.34635,     0.34735,     0.34835,     0.34935,     0.35035,     0.35135,     0.35235,     0.35335,     0.35435,     0.35536,     0.35636,     0.35736,     0.35836,     0.35936,\n",
              "           0.36036,     0.36136,     0.36236,     0.36336,     0.36436,     0.36537,     0.36637,     0.36737,     0.36837,     0.36937,     0.37037,     0.37137,     0.37237,     0.37337,     0.37437,     0.37538,     0.37638,     0.37738,     0.37838,     0.37938,     0.38038,     0.38138,     0.38238,     0.38338,\n",
              "           0.38438,     0.38539,     0.38639,     0.38739,     0.38839,     0.38939,     0.39039,     0.39139,     0.39239,     0.39339,     0.39439,      0.3954,      0.3964,      0.3974,      0.3984,      0.3994,      0.4004,      0.4014,      0.4024,      0.4034,      0.4044,     0.40541,     0.40641,     0.40741,\n",
              "           0.40841,     0.40941,     0.41041,     0.41141,     0.41241,     0.41341,     0.41441,     0.41542,     0.41642,     0.41742,     0.41842,     0.41942,     0.42042,     0.42142,     0.42242,     0.42342,     0.42442,     0.42543,     0.42643,     0.42743,     0.42843,     0.42943,     0.43043,     0.43143,\n",
              "           0.43243,     0.43343,     0.43443,     0.43544,     0.43644,     0.43744,     0.43844,     0.43944,     0.44044,     0.44144,     0.44244,     0.44344,     0.44444,     0.44545,     0.44645,     0.44745,     0.44845,     0.44945,     0.45045,     0.45145,     0.45245,     0.45345,     0.45445,     0.45546,\n",
              "           0.45646,     0.45746,     0.45846,     0.45946,     0.46046,     0.46146,     0.46246,     0.46346,     0.46446,     0.46547,     0.46647,     0.46747,     0.46847,     0.46947,     0.47047,     0.47147,     0.47247,     0.47347,     0.47447,     0.47548,     0.47648,     0.47748,     0.47848,     0.47948,\n",
              "           0.48048,     0.48148,     0.48248,     0.48348,     0.48448,     0.48549,     0.48649,     0.48749,     0.48849,     0.48949,     0.49049,     0.49149,     0.49249,     0.49349,     0.49449,      0.4955,      0.4965,      0.4975,      0.4985,      0.4995,      0.5005,      0.5015,      0.5025,      0.5035,\n",
              "            0.5045,     0.50551,     0.50651,     0.50751,     0.50851,     0.50951,     0.51051,     0.51151,     0.51251,     0.51351,     0.51451,     0.51552,     0.51652,     0.51752,     0.51852,     0.51952,     0.52052,     0.52152,     0.52252,     0.52352,     0.52452,     0.52553,     0.52653,     0.52753,\n",
              "           0.52853,     0.52953,     0.53053,     0.53153,     0.53253,     0.53353,     0.53453,     0.53554,     0.53654,     0.53754,     0.53854,     0.53954,     0.54054,     0.54154,     0.54254,     0.54354,     0.54454,     0.54555,     0.54655,     0.54755,     0.54855,     0.54955,     0.55055,     0.55155,\n",
              "           0.55255,     0.55355,     0.55455,     0.55556,     0.55656,     0.55756,     0.55856,     0.55956,     0.56056,     0.56156,     0.56256,     0.56356,     0.56456,     0.56557,     0.56657,     0.56757,     0.56857,     0.56957,     0.57057,     0.57157,     0.57257,     0.57357,     0.57457,     0.57558,\n",
              "           0.57658,     0.57758,     0.57858,     0.57958,     0.58058,     0.58158,     0.58258,     0.58358,     0.58458,     0.58559,     0.58659,     0.58759,     0.58859,     0.58959,     0.59059,     0.59159,     0.59259,     0.59359,     0.59459,      0.5956,      0.5966,      0.5976,      0.5986,      0.5996,\n",
              "            0.6006,      0.6016,      0.6026,      0.6036,      0.6046,     0.60561,     0.60661,     0.60761,     0.60861,     0.60961,     0.61061,     0.61161,     0.61261,     0.61361,     0.61461,     0.61562,     0.61662,     0.61762,     0.61862,     0.61962,     0.62062,     0.62162,     0.62262,     0.62362,\n",
              "           0.62462,     0.62563,     0.62663,     0.62763,     0.62863,     0.62963,     0.63063,     0.63163,     0.63263,     0.63363,     0.63463,     0.63564,     0.63664,     0.63764,     0.63864,     0.63964,     0.64064,     0.64164,     0.64264,     0.64364,     0.64464,     0.64565,     0.64665,     0.64765,\n",
              "           0.64865,     0.64965,     0.65065,     0.65165,     0.65265,     0.65365,     0.65465,     0.65566,     0.65666,     0.65766,     0.65866,     0.65966,     0.66066,     0.66166,     0.66266,     0.66366,     0.66466,     0.66567,     0.66667,     0.66767,     0.66867,     0.66967,     0.67067,     0.67167,\n",
              "           0.67267,     0.67367,     0.67467,     0.67568,     0.67668,     0.67768,     0.67868,     0.67968,     0.68068,     0.68168,     0.68268,     0.68368,     0.68468,     0.68569,     0.68669,     0.68769,     0.68869,     0.68969,     0.69069,     0.69169,     0.69269,     0.69369,     0.69469,      0.6957,\n",
              "            0.6967,      0.6977,      0.6987,      0.6997,      0.7007,      0.7017,      0.7027,      0.7037,      0.7047,     0.70571,     0.70671,     0.70771,     0.70871,     0.70971,     0.71071,     0.71171,     0.71271,     0.71371,     0.71471,     0.71572,     0.71672,     0.71772,     0.71872,     0.71972,\n",
              "           0.72072,     0.72172,     0.72272,     0.72372,     0.72472,     0.72573,     0.72673,     0.72773,     0.72873,     0.72973,     0.73073,     0.73173,     0.73273,     0.73373,     0.73473,     0.73574,     0.73674,     0.73774,     0.73874,     0.73974,     0.74074,     0.74174,     0.74274,     0.74374,\n",
              "           0.74474,     0.74575,     0.74675,     0.74775,     0.74875,     0.74975,     0.75075,     0.75175,     0.75275,     0.75375,     0.75475,     0.75576,     0.75676,     0.75776,     0.75876,     0.75976,     0.76076,     0.76176,     0.76276,     0.76376,     0.76476,     0.76577,     0.76677,     0.76777,\n",
              "           0.76877,     0.76977,     0.77077,     0.77177,     0.77277,     0.77377,     0.77477,     0.77578,     0.77678,     0.77778,     0.77878,     0.77978,     0.78078,     0.78178,     0.78278,     0.78378,     0.78478,     0.78579,     0.78679,     0.78779,     0.78879,     0.78979,     0.79079,     0.79179,\n",
              "           0.79279,     0.79379,     0.79479,      0.7958,      0.7968,      0.7978,      0.7988,      0.7998,      0.8008,      0.8018,      0.8028,      0.8038,      0.8048,     0.80581,     0.80681,     0.80781,     0.80881,     0.80981,     0.81081,     0.81181,     0.81281,     0.81381,     0.81481,     0.81582,\n",
              "           0.81682,     0.81782,     0.81882,     0.81982,     0.82082,     0.82182,     0.82282,     0.82382,     0.82482,     0.82583,     0.82683,     0.82783,     0.82883,     0.82983,     0.83083,     0.83183,     0.83283,     0.83383,     0.83483,     0.83584,     0.83684,     0.83784,     0.83884,     0.83984,\n",
              "           0.84084,     0.84184,     0.84284,     0.84384,     0.84484,     0.84585,     0.84685,     0.84785,     0.84885,     0.84985,     0.85085,     0.85185,     0.85285,     0.85385,     0.85485,     0.85586,     0.85686,     0.85786,     0.85886,     0.85986,     0.86086,     0.86186,     0.86286,     0.86386,\n",
              "           0.86486,     0.86587,     0.86687,     0.86787,     0.86887,     0.86987,     0.87087,     0.87187,     0.87287,     0.87387,     0.87487,     0.87588,     0.87688,     0.87788,     0.87888,     0.87988,     0.88088,     0.88188,     0.88288,     0.88388,     0.88488,     0.88589,     0.88689,     0.88789,\n",
              "           0.88889,     0.88989,     0.89089,     0.89189,     0.89289,     0.89389,     0.89489,      0.8959,      0.8969,      0.8979,      0.8989,      0.8999,      0.9009,      0.9019,      0.9029,      0.9039,      0.9049,     0.90591,     0.90691,     0.90791,     0.90891,     0.90991,     0.91091,     0.91191,\n",
              "           0.91291,     0.91391,     0.91491,     0.91592,     0.91692,     0.91792,     0.91892,     0.91992,     0.92092,     0.92192,     0.92292,     0.92392,     0.92492,     0.92593,     0.92693,     0.92793,     0.92893,     0.92993,     0.93093,     0.93193,     0.93293,     0.93393,     0.93493,     0.93594,\n",
              "           0.93694,     0.93794,     0.93894,     0.93994,     0.94094,     0.94194,     0.94294,     0.94394,     0.94494,     0.94595,     0.94695,     0.94795,     0.94895,     0.94995,     0.95095,     0.95195,     0.95295,     0.95395,     0.95495,     0.95596,     0.95696,     0.95796,     0.95896,     0.95996,\n",
              "           0.96096,     0.96196,     0.96296,     0.96396,     0.96496,     0.96597,     0.96697,     0.96797,     0.96897,     0.96997,     0.97097,     0.97197,     0.97297,     0.97397,     0.97497,     0.97598,     0.97698,     0.97798,     0.97898,     0.97998,     0.98098,     0.98198,     0.98298,     0.98398,\n",
              "           0.98498,     0.98599,     0.98699,     0.98799,     0.98899,     0.98999,     0.99099,     0.99199,     0.99299,     0.99399,     0.99499,       0.996,       0.997,       0.998,       0.999,           1]), array([[   0.029146,    0.029146,    0.032515,    0.034499,    0.035823,    0.037094,    0.038246,    0.039302,    0.040348,    0.041464,    0.042643,    0.043748,    0.045084,    0.046133,     0.04719,    0.048262,    0.049492,    0.050583,    0.051748,    0.053023,    0.054129,    0.055318,    0.056727,\n",
              "           0.058019,    0.059453,    0.061038,    0.062536,    0.064066,    0.065567,    0.067231,    0.068673,    0.070536,    0.072575,    0.074013,    0.075859,    0.077435,    0.079076,    0.080617,    0.082003,    0.083211,    0.084481,    0.085993,    0.087225,    0.088382,    0.089769,    0.091169,\n",
              "           0.092296,    0.093433,    0.094977,    0.096022,    0.097059,    0.098443,     0.10014,     0.10123,     0.10236,     0.10348,      0.1047,     0.10576,     0.10734,     0.10837,     0.10932,     0.11062,     0.11157,     0.11266,     0.11392,     0.11503,     0.11614,     0.11736,     0.11825,\n",
              "            0.11966,     0.12085,     0.12186,     0.12278,     0.12384,     0.12475,     0.12681,     0.12813,     0.12988,     0.13168,     0.13364,     0.13491,     0.13614,      0.1372,     0.13872,     0.13975,     0.14168,     0.14239,     0.14367,     0.14526,     0.14735,     0.14972,     0.15084,\n",
              "            0.15244,      0.1544,     0.15482,     0.15528,     0.15601,     0.15753,     0.15962,     0.16152,     0.16291,     0.16448,     0.16671,     0.16899,     0.16969,     0.17076,     0.17352,     0.17675,     0.17583,     0.17815,      0.1809,     0.18339,      0.1885,     0.18997,     0.19267,\n",
              "            0.19526,     0.19991,     0.20274,     0.20568,     0.20907,     0.21252,     0.21547,     0.21827,      0.2229,     0.22379,     0.22727,     0.23079,     0.23588,     0.24405,     0.24497,     0.24965,     0.25455,     0.25791,     0.26109,     0.26279,     0.26651,     0.26944,     0.27239,\n",
              "            0.27557,     0.27547,     0.27898,     0.28581,     0.28815,     0.29443,     0.29437,     0.30195,     0.30452,     0.30604,     0.30804,      0.3096,     0.31576,     0.31459,     0.31607,     0.31747,     0.31549,     0.31794,     0.32009,     0.32734,     0.33172,     0.33492,     0.33482,\n",
              "            0.33911,     0.34578,     0.35153,     0.35791,     0.35959,     0.35319,     0.35586,     0.35848,     0.36153,     0.36402,     0.36958,     0.38379,     0.38387,     0.37564,     0.36474,     0.37209,     0.38169,     0.40143,     0.41255,     0.40526,     0.39933,     0.41187,     0.40136,\n",
              "            0.39597,     0.39812,     0.39487,     0.39544,     0.39633,     0.39257,     0.39525,     0.39566,      0.3959,     0.39045,     0.38537,     0.36805,     0.36498,     0.36908,     0.36504,     0.35699,     0.37281,     0.36992,     0.37731,     0.37354,     0.36622,      0.3613,     0.34859,\n",
              "            0.35977,     0.35807,     0.35684,     0.36062,     0.32716,     0.32589,     0.34779,      0.3756,     0.35907,     0.34697,     0.35238,     0.35779,     0.33847,     0.37104,      0.3595,     0.35828,     0.34851,     0.38269,     0.38424,     0.35154,     0.31468,     0.28514,     0.25731,\n",
              "            0.25361,     0.22768,     0.20175,     0.22638,     0.24709,     0.28987,     0.32241,      0.3547,     0.38685,      0.4404,     0.49883,     0.48966,     0.48048,     0.47131,     0.46214,     0.45297,     0.44379,     0.43462,     0.42545,     0.41628,      0.4071,     0.39793,     0.38876,\n",
              "            0.37959,     0.37041,     0.36124,     0.35207,      0.3429,     0.33372,     0.38786,     0.44481,     0.50073,     0.52457,     0.54841,     0.57225,     0.59608,     0.61992,     0.64376,      0.6676,     0.69144,     0.71527,     0.73911,     0.76295,     0.78679,     0.81062,     0.83446,\n",
              "             0.8583,     0.88214,     0.90598,     0.92981,     0.95365,     0.97749,           1,           1,           1,           1,           1,           1,           1,           1,           1,           1,           1,           1,           1,           1,           1,           1,           1,\n",
              "                  1,           1,           1,           1,           1,           1,           1,           1,           1,           1,           1,           1,           1,           1,           1,           1,           1,           1,           1,           1,           1,           1,           1,\n",
              "                  1,           1,           1,           1,           1,           1,           1,           1,           1,           1,           1,           1,           1,           1,           1,           1,           1,           1,           1,           1,           1,           1,           1,\n",
              "                  1,           1,           1,           1,           1,           1,           1,           1,           1,           1,           1,           1,           1,           1,           1,           1,           1,           1,           1,           1,           1,           1,           1,\n",
              "                  1,           1,           1,           1,           1,           1,           1,           1,           1,           1,           1,           1,           1,           1,           1,           1,           1,           1,           1,           1,           1,           1,           1,\n",
              "                  1,           1,           1,           1,           1,           1,           1,           1,           1,           1,           1,           1,           1,           1,           1,           1,           1,           1,           1,           1,           1,           1,           1,\n",
              "                  1,           1,           1,           1,           1,           1,           1,           1,           1,           1,           1,           1,           1,           1,           1,           1,           1,           1,           1,           1,           1,           1,           1,\n",
              "                  1,           1,           1,           1,           1,           1,           1,           1,           1,           1,           1,           1,           1,           1,           1,           1,           1,           1,           1,           1,           1,           1,           1,\n",
              "                  1,           1,           1,           1,           1,           1,           1,           1,           1,           1,           1,           1,           1,           1,           1,           1,           1,           1,           1,           1,           1,           1,           1,\n",
              "                  1,           1,           1,           1,           1,           1,           1,           1,           1,           1,           1,           1,           1,           1,           1,           1,           1,           1,           1,           1,           1,           1,           1,\n",
              "                  1,           1,           1,           1,           1,           1,           1,           1,           1,           1,           1,           1,           1,           1,           1,           1,           1,           1,           1,           1,           1,           1,           1,\n",
              "                  1,           1,           1,           1,           1,           1,           1,           1,           1,           1,           1,           1,           1,           1,           1,           1,           1,           1,           1,           1,           1,           1,           1,\n",
              "                  1,           1,           1,           1,           1,           1,           1,           1,           1,           1,           1,           1,           1,           1,           1,           1,           1,           1,           1,           1,           1,           1,           1,\n",
              "                  1,           1,           1,           1,           1,           1,           1,           1,           1,           1,           1,           1,           1,           1,           1,           1,           1,           1,           1,           1,           1,           1,           1,\n",
              "                  1,           1,           1,           1,           1,           1,           1,           1,           1,           1,           1,           1,           1,           1,           1,           1,           1,           1,           1,           1,           1,           1,           1,\n",
              "                  1,           1,           1,           1,           1,           1,           1,           1,           1,           1,           1,           1,           1,           1,           1,           1,           1,           1,           1,           1,           1,           1,           1,\n",
              "                  1,           1,           1,           1,           1,           1,           1,           1,           1,           1,           1,           1,           1,           1,           1,           1,           1,           1,           1,           1,           1,           1,           1,\n",
              "                  1,           1,           1,           1,           1,           1,           1,           1,           1,           1,           1,           1,           1,           1,           1,           1,           1,           1,           1,           1,           1,           1,           1,\n",
              "                  1,           1,           1,           1,           1,           1,           1,           1,           1,           1,           1,           1,           1,           1,           1,           1,           1,           1,           1,           1,           1,           1,           1,\n",
              "                  1,           1,           1,           1,           1,           1,           1,           1,           1,           1,           1,           1,           1,           1,           1,           1,           1,           1,           1,           1,           1,           1,           1,\n",
              "                  1,           1,           1,           1,           1,           1,           1,           1,           1,           1,           1,           1,           1,           1,           1,           1,           1,           1,           1,           1,           1,           1,           1,\n",
              "                  1,           1,           1,           1,           1,           1,           1,           1,           1,           1,           1,           1,           1,           1,           1,           1,           1,           1,           1,           1,           1,           1,           1,\n",
              "                  1,           1,           1,           1,           1,           1,           1,           1,           1,           1,           1,           1,           1,           1,           1,           1,           1,           1,           1,           1,           1,           1,           1,\n",
              "                  1,           1,           1,           1,           1,           1,           1,           1,           1,           1,           1,           1,           1,           1,           1,           1,           1,           1,           1,           1,           1,           1,           1,\n",
              "                  1,           1,           1,           1,           1,           1,           1,           1,           1,           1,           1,           1,           1,           1,           1,           1,           1,           1,           1,           1,           1,           1,           1,\n",
              "                  1,           1,           1,           1,           1,           1,           1,           1,           1,           1,           1,           1,           1,           1,           1,           1,           1,           1,           1,           1,           1,           1,           1,\n",
              "                  1,           1,           1,           1,           1,           1,           1,           1,           1,           1,           1,           1,           1,           1,           1,           1,           1,           1,           1,           1,           1,           1,           1,\n",
              "                  1,           1,           1,           1,           1,           1,           1,           1,           1,           1,           1,           1,           1,           1,           1,           1,           1,           1,           1,           1,           1,           1,           1,\n",
              "                  1,           1,           1,           1,           1,           1,           1,           1,           1,           1,           1,           1,           1,           1,           1,           1,           1,           1,           1,           1,           1,           1,           1,\n",
              "                  1,           1,           1,           1,           1,           1,           1,           1,           1,           1,           1,           1,           1,           1,           1,           1,           1,           1,           1,           1,           1,           1,           1,\n",
              "                  1,           1,           1,           1,           1,           1,           1,           1,           1,           1,           1,           1,           1,           1,           1,           1,           1,           1,           1,           1,           1,           1,           1,\n",
              "                  1,           1,           1,           1,           1,           1,           1,           1,           1,           1,           1]]), 'Confidence', 'Precision'], [array([          0,    0.001001,    0.002002,    0.003003,    0.004004,    0.005005,    0.006006,    0.007007,    0.008008,    0.009009,     0.01001,    0.011011,    0.012012,    0.013013,    0.014014,    0.015015,    0.016016,    0.017017,    0.018018,    0.019019,     0.02002,    0.021021,    0.022022,    0.023023,\n",
              "          0.024024,    0.025025,    0.026026,    0.027027,    0.028028,    0.029029,     0.03003,    0.031031,    0.032032,    0.033033,    0.034034,    0.035035,    0.036036,    0.037037,    0.038038,    0.039039,     0.04004,    0.041041,    0.042042,    0.043043,    0.044044,    0.045045,    0.046046,    0.047047,\n",
              "          0.048048,    0.049049,     0.05005,    0.051051,    0.052052,    0.053053,    0.054054,    0.055055,    0.056056,    0.057057,    0.058058,    0.059059,     0.06006,    0.061061,    0.062062,    0.063063,    0.064064,    0.065065,    0.066066,    0.067067,    0.068068,    0.069069,     0.07007,    0.071071,\n",
              "          0.072072,    0.073073,    0.074074,    0.075075,    0.076076,    0.077077,    0.078078,    0.079079,     0.08008,    0.081081,    0.082082,    0.083083,    0.084084,    0.085085,    0.086086,    0.087087,    0.088088,    0.089089,     0.09009,    0.091091,    0.092092,    0.093093,    0.094094,    0.095095,\n",
              "          0.096096,    0.097097,    0.098098,    0.099099,      0.1001,      0.1011,      0.1021,      0.1031,      0.1041,     0.10511,     0.10611,     0.10711,     0.10811,     0.10911,     0.11011,     0.11111,     0.11211,     0.11311,     0.11411,     0.11512,     0.11612,     0.11712,     0.11812,     0.11912,\n",
              "           0.12012,     0.12112,     0.12212,     0.12312,     0.12412,     0.12513,     0.12613,     0.12713,     0.12813,     0.12913,     0.13013,     0.13113,     0.13213,     0.13313,     0.13413,     0.13514,     0.13614,     0.13714,     0.13814,     0.13914,     0.14014,     0.14114,     0.14214,     0.14314,\n",
              "           0.14414,     0.14515,     0.14615,     0.14715,     0.14815,     0.14915,     0.15015,     0.15115,     0.15215,     0.15315,     0.15415,     0.15516,     0.15616,     0.15716,     0.15816,     0.15916,     0.16016,     0.16116,     0.16216,     0.16316,     0.16416,     0.16517,     0.16617,     0.16717,\n",
              "           0.16817,     0.16917,     0.17017,     0.17117,     0.17217,     0.17317,     0.17417,     0.17518,     0.17618,     0.17718,     0.17818,     0.17918,     0.18018,     0.18118,     0.18218,     0.18318,     0.18418,     0.18519,     0.18619,     0.18719,     0.18819,     0.18919,     0.19019,     0.19119,\n",
              "           0.19219,     0.19319,     0.19419,      0.1952,      0.1962,      0.1972,      0.1982,      0.1992,      0.2002,      0.2012,      0.2022,      0.2032,      0.2042,     0.20521,     0.20621,     0.20721,     0.20821,     0.20921,     0.21021,     0.21121,     0.21221,     0.21321,     0.21421,     0.21522,\n",
              "           0.21622,     0.21722,     0.21822,     0.21922,     0.22022,     0.22122,     0.22222,     0.22322,     0.22422,     0.22523,     0.22623,     0.22723,     0.22823,     0.22923,     0.23023,     0.23123,     0.23223,     0.23323,     0.23423,     0.23524,     0.23624,     0.23724,     0.23824,     0.23924,\n",
              "           0.24024,     0.24124,     0.24224,     0.24324,     0.24424,     0.24525,     0.24625,     0.24725,     0.24825,     0.24925,     0.25025,     0.25125,     0.25225,     0.25325,     0.25425,     0.25526,     0.25626,     0.25726,     0.25826,     0.25926,     0.26026,     0.26126,     0.26226,     0.26326,\n",
              "           0.26426,     0.26527,     0.26627,     0.26727,     0.26827,     0.26927,     0.27027,     0.27127,     0.27227,     0.27327,     0.27427,     0.27528,     0.27628,     0.27728,     0.27828,     0.27928,     0.28028,     0.28128,     0.28228,     0.28328,     0.28428,     0.28529,     0.28629,     0.28729,\n",
              "           0.28829,     0.28929,     0.29029,     0.29129,     0.29229,     0.29329,     0.29429,      0.2953,      0.2963,      0.2973,      0.2983,      0.2993,      0.3003,      0.3013,      0.3023,      0.3033,      0.3043,     0.30531,     0.30631,     0.30731,     0.30831,     0.30931,     0.31031,     0.31131,\n",
              "           0.31231,     0.31331,     0.31431,     0.31532,     0.31632,     0.31732,     0.31832,     0.31932,     0.32032,     0.32132,     0.32232,     0.32332,     0.32432,     0.32533,     0.32633,     0.32733,     0.32833,     0.32933,     0.33033,     0.33133,     0.33233,     0.33333,     0.33433,     0.33534,\n",
              "           0.33634,     0.33734,     0.33834,     0.33934,     0.34034,     0.34134,     0.34234,     0.34334,     0.34434,     0.34535,     0.34635,     0.34735,     0.34835,     0.34935,     0.35035,     0.35135,     0.35235,     0.35335,     0.35435,     0.35536,     0.35636,     0.35736,     0.35836,     0.35936,\n",
              "           0.36036,     0.36136,     0.36236,     0.36336,     0.36436,     0.36537,     0.36637,     0.36737,     0.36837,     0.36937,     0.37037,     0.37137,     0.37237,     0.37337,     0.37437,     0.37538,     0.37638,     0.37738,     0.37838,     0.37938,     0.38038,     0.38138,     0.38238,     0.38338,\n",
              "           0.38438,     0.38539,     0.38639,     0.38739,     0.38839,     0.38939,     0.39039,     0.39139,     0.39239,     0.39339,     0.39439,      0.3954,      0.3964,      0.3974,      0.3984,      0.3994,      0.4004,      0.4014,      0.4024,      0.4034,      0.4044,     0.40541,     0.40641,     0.40741,\n",
              "           0.40841,     0.40941,     0.41041,     0.41141,     0.41241,     0.41341,     0.41441,     0.41542,     0.41642,     0.41742,     0.41842,     0.41942,     0.42042,     0.42142,     0.42242,     0.42342,     0.42442,     0.42543,     0.42643,     0.42743,     0.42843,     0.42943,     0.43043,     0.43143,\n",
              "           0.43243,     0.43343,     0.43443,     0.43544,     0.43644,     0.43744,     0.43844,     0.43944,     0.44044,     0.44144,     0.44244,     0.44344,     0.44444,     0.44545,     0.44645,     0.44745,     0.44845,     0.44945,     0.45045,     0.45145,     0.45245,     0.45345,     0.45445,     0.45546,\n",
              "           0.45646,     0.45746,     0.45846,     0.45946,     0.46046,     0.46146,     0.46246,     0.46346,     0.46446,     0.46547,     0.46647,     0.46747,     0.46847,     0.46947,     0.47047,     0.47147,     0.47247,     0.47347,     0.47447,     0.47548,     0.47648,     0.47748,     0.47848,     0.47948,\n",
              "           0.48048,     0.48148,     0.48248,     0.48348,     0.48448,     0.48549,     0.48649,     0.48749,     0.48849,     0.48949,     0.49049,     0.49149,     0.49249,     0.49349,     0.49449,      0.4955,      0.4965,      0.4975,      0.4985,      0.4995,      0.5005,      0.5015,      0.5025,      0.5035,\n",
              "            0.5045,     0.50551,     0.50651,     0.50751,     0.50851,     0.50951,     0.51051,     0.51151,     0.51251,     0.51351,     0.51451,     0.51552,     0.51652,     0.51752,     0.51852,     0.51952,     0.52052,     0.52152,     0.52252,     0.52352,     0.52452,     0.52553,     0.52653,     0.52753,\n",
              "           0.52853,     0.52953,     0.53053,     0.53153,     0.53253,     0.53353,     0.53453,     0.53554,     0.53654,     0.53754,     0.53854,     0.53954,     0.54054,     0.54154,     0.54254,     0.54354,     0.54454,     0.54555,     0.54655,     0.54755,     0.54855,     0.54955,     0.55055,     0.55155,\n",
              "           0.55255,     0.55355,     0.55455,     0.55556,     0.55656,     0.55756,     0.55856,     0.55956,     0.56056,     0.56156,     0.56256,     0.56356,     0.56456,     0.56557,     0.56657,     0.56757,     0.56857,     0.56957,     0.57057,     0.57157,     0.57257,     0.57357,     0.57457,     0.57558,\n",
              "           0.57658,     0.57758,     0.57858,     0.57958,     0.58058,     0.58158,     0.58258,     0.58358,     0.58458,     0.58559,     0.58659,     0.58759,     0.58859,     0.58959,     0.59059,     0.59159,     0.59259,     0.59359,     0.59459,      0.5956,      0.5966,      0.5976,      0.5986,      0.5996,\n",
              "            0.6006,      0.6016,      0.6026,      0.6036,      0.6046,     0.60561,     0.60661,     0.60761,     0.60861,     0.60961,     0.61061,     0.61161,     0.61261,     0.61361,     0.61461,     0.61562,     0.61662,     0.61762,     0.61862,     0.61962,     0.62062,     0.62162,     0.62262,     0.62362,\n",
              "           0.62462,     0.62563,     0.62663,     0.62763,     0.62863,     0.62963,     0.63063,     0.63163,     0.63263,     0.63363,     0.63463,     0.63564,     0.63664,     0.63764,     0.63864,     0.63964,     0.64064,     0.64164,     0.64264,     0.64364,     0.64464,     0.64565,     0.64665,     0.64765,\n",
              "           0.64865,     0.64965,     0.65065,     0.65165,     0.65265,     0.65365,     0.65465,     0.65566,     0.65666,     0.65766,     0.65866,     0.65966,     0.66066,     0.66166,     0.66266,     0.66366,     0.66466,     0.66567,     0.66667,     0.66767,     0.66867,     0.66967,     0.67067,     0.67167,\n",
              "           0.67267,     0.67367,     0.67467,     0.67568,     0.67668,     0.67768,     0.67868,     0.67968,     0.68068,     0.68168,     0.68268,     0.68368,     0.68468,     0.68569,     0.68669,     0.68769,     0.68869,     0.68969,     0.69069,     0.69169,     0.69269,     0.69369,     0.69469,      0.6957,\n",
              "            0.6967,      0.6977,      0.6987,      0.6997,      0.7007,      0.7017,      0.7027,      0.7037,      0.7047,     0.70571,     0.70671,     0.70771,     0.70871,     0.70971,     0.71071,     0.71171,     0.71271,     0.71371,     0.71471,     0.71572,     0.71672,     0.71772,     0.71872,     0.71972,\n",
              "           0.72072,     0.72172,     0.72272,     0.72372,     0.72472,     0.72573,     0.72673,     0.72773,     0.72873,     0.72973,     0.73073,     0.73173,     0.73273,     0.73373,     0.73473,     0.73574,     0.73674,     0.73774,     0.73874,     0.73974,     0.74074,     0.74174,     0.74274,     0.74374,\n",
              "           0.74474,     0.74575,     0.74675,     0.74775,     0.74875,     0.74975,     0.75075,     0.75175,     0.75275,     0.75375,     0.75475,     0.75576,     0.75676,     0.75776,     0.75876,     0.75976,     0.76076,     0.76176,     0.76276,     0.76376,     0.76476,     0.76577,     0.76677,     0.76777,\n",
              "           0.76877,     0.76977,     0.77077,     0.77177,     0.77277,     0.77377,     0.77477,     0.77578,     0.77678,     0.77778,     0.77878,     0.77978,     0.78078,     0.78178,     0.78278,     0.78378,     0.78478,     0.78579,     0.78679,     0.78779,     0.78879,     0.78979,     0.79079,     0.79179,\n",
              "           0.79279,     0.79379,     0.79479,      0.7958,      0.7968,      0.7978,      0.7988,      0.7998,      0.8008,      0.8018,      0.8028,      0.8038,      0.8048,     0.80581,     0.80681,     0.80781,     0.80881,     0.80981,     0.81081,     0.81181,     0.81281,     0.81381,     0.81481,     0.81582,\n",
              "           0.81682,     0.81782,     0.81882,     0.81982,     0.82082,     0.82182,     0.82282,     0.82382,     0.82482,     0.82583,     0.82683,     0.82783,     0.82883,     0.82983,     0.83083,     0.83183,     0.83283,     0.83383,     0.83483,     0.83584,     0.83684,     0.83784,     0.83884,     0.83984,\n",
              "           0.84084,     0.84184,     0.84284,     0.84384,     0.84484,     0.84585,     0.84685,     0.84785,     0.84885,     0.84985,     0.85085,     0.85185,     0.85285,     0.85385,     0.85485,     0.85586,     0.85686,     0.85786,     0.85886,     0.85986,     0.86086,     0.86186,     0.86286,     0.86386,\n",
              "           0.86486,     0.86587,     0.86687,     0.86787,     0.86887,     0.86987,     0.87087,     0.87187,     0.87287,     0.87387,     0.87487,     0.87588,     0.87688,     0.87788,     0.87888,     0.87988,     0.88088,     0.88188,     0.88288,     0.88388,     0.88488,     0.88589,     0.88689,     0.88789,\n",
              "           0.88889,     0.88989,     0.89089,     0.89189,     0.89289,     0.89389,     0.89489,      0.8959,      0.8969,      0.8979,      0.8989,      0.8999,      0.9009,      0.9019,      0.9029,      0.9039,      0.9049,     0.90591,     0.90691,     0.90791,     0.90891,     0.90991,     0.91091,     0.91191,\n",
              "           0.91291,     0.91391,     0.91491,     0.91592,     0.91692,     0.91792,     0.91892,     0.91992,     0.92092,     0.92192,     0.92292,     0.92392,     0.92492,     0.92593,     0.92693,     0.92793,     0.92893,     0.92993,     0.93093,     0.93193,     0.93293,     0.93393,     0.93493,     0.93594,\n",
              "           0.93694,     0.93794,     0.93894,     0.93994,     0.94094,     0.94194,     0.94294,     0.94394,     0.94494,     0.94595,     0.94695,     0.94795,     0.94895,     0.94995,     0.95095,     0.95195,     0.95295,     0.95395,     0.95495,     0.95596,     0.95696,     0.95796,     0.95896,     0.95996,\n",
              "           0.96096,     0.96196,     0.96296,     0.96396,     0.96496,     0.96597,     0.96697,     0.96797,     0.96897,     0.96997,     0.97097,     0.97197,     0.97297,     0.97397,     0.97497,     0.97598,     0.97698,     0.97798,     0.97898,     0.97998,     0.98098,     0.98198,     0.98298,     0.98398,\n",
              "           0.98498,     0.98599,     0.98699,     0.98799,     0.98899,     0.98999,     0.99099,     0.99199,     0.99299,     0.99399,     0.99499,       0.996,       0.997,       0.998,       0.999,           1]), array([[          1,           1,           1,           1,           1,           1,           1,           1,           1,           1,           1,           1,           1,           1,           1,           1,           1,           1,           1,           1,           1,           1,           1,\n",
              "                  1,           1,           1,           1,           1,           1,           1,           1,           1,           1,           1,           1,           1,           1,     0.99659,     0.99659,     0.99659,     0.99659,     0.99659,     0.99659,     0.99659,     0.99659,     0.99659,\n",
              "            0.99659,     0.99659,     0.99659,     0.99659,     0.99659,     0.99659,     0.99659,     0.99659,     0.99659,     0.99659,     0.99659,     0.99659,     0.99659,     0.99659,     0.99659,     0.99659,     0.99659,     0.99659,     0.99659,     0.99659,     0.99659,     0.99659,     0.99317,\n",
              "            0.99317,     0.99317,     0.99317,     0.99317,     0.99317,     0.99317,     0.99317,     0.99317,     0.99317,     0.99317,     0.99317,     0.99317,     0.99317,     0.99317,     0.99317,     0.99317,     0.99317,     0.98976,     0.98976,     0.98976,     0.98976,     0.98976,     0.98635,\n",
              "            0.98635,     0.98635,     0.97952,     0.97611,      0.9727,     0.96928,     0.96587,     0.96587,     0.96587,     0.95904,     0.95904,     0.95904,     0.95563,     0.94198,     0.94198,     0.93857,     0.92491,      0.9215,     0.91809,     0.91468,     0.91468,     0.91169,     0.90785,\n",
              "            0.90444,     0.90444,     0.90102,     0.89761,      0.8942,     0.88396,     0.88055,     0.88055,     0.86689,     0.84642,     0.83618,     0.83618,     0.82935,     0.82199,     0.81229,     0.80546,     0.80205,     0.78157,     0.77133,     0.76451,     0.75427,     0.73379,     0.72318,\n",
              "            0.71533,     0.69625,     0.68601,     0.68601,     0.67577,     0.67235,     0.64505,     0.63481,     0.62457,     0.61092,     0.60015,     0.59044,     0.58274,      0.5655,     0.55631,     0.54266,     0.51877,     0.51195,      0.4981,     0.49147,     0.48805,     0.47099,     0.45051,\n",
              "            0.44369,     0.43003,     0.42662,     0.41854,     0.39861,     0.38205,     0.37543,      0.3686,     0.35836,     0.33991,     0.32765,     0.32735,     0.31741,     0.29158,     0.26962,      0.2628,     0.25939,     0.25256,     0.24448,     0.23208,     0.22236,     0.21843,     0.20366,\n",
              "            0.19465,     0.18512,     0.17595,     0.16724,     0.16134,     0.15358,     0.14676,     0.14334,     0.13311,     0.12243,     0.11342,    0.098976,     0.09215,     0.09215,    0.088301,    0.081911,    0.077106,    0.075085,    0.075085,    0.071235,    0.068259,    0.064846,    0.058452,\n",
              "            0.05802,    0.051195,    0.049255,    0.047782,    0.039849,    0.037543,    0.037543,    0.036971,    0.034427,    0.030717,    0.030717,    0.030717,    0.027961,    0.026211,    0.024939,    0.022905,    0.020478,    0.020478,    0.019223,    0.016678,    0.014134,    0.012318,    0.010671,\n",
              "          0.0093417,   0.0081249,   0.0069081,   0.0068259,   0.0068259,   0.0068259,   0.0068259,   0.0068259,   0.0068259,   0.0068259,   0.0068019,   0.0066141,   0.0064263,   0.0062384,   0.0060506,   0.0058628,   0.0056749,   0.0054871,   0.0052993,   0.0051114,   0.0049236,   0.0047358,   0.0045479,\n",
              "          0.0043601,   0.0041723,   0.0039844,   0.0037966,   0.0036088,   0.0034209,    0.003413,    0.003413,    0.003413,    0.003413,    0.003413,    0.003413,    0.003413,    0.003413,    0.003413,    0.003413,    0.003413,    0.003413,    0.003413,    0.003413,    0.003413,    0.003413,    0.003413,\n",
              "           0.003413,    0.003413,    0.003413,    0.003413,    0.003413,    0.003413,           0,           0,           0,           0,           0,           0,           0,           0,           0,           0,           0,           0,           0,           0,           0,           0,           0,\n",
              "                  0,           0,           0,           0,           0,           0,           0,           0,           0,           0,           0,           0,           0,           0,           0,           0,           0,           0,           0,           0,           0,           0,           0,\n",
              "                  0,           0,           0,           0,           0,           0,           0,           0,           0,           0,           0,           0,           0,           0,           0,           0,           0,           0,           0,           0,           0,           0,           0,\n",
              "                  0,           0,           0,           0,           0,           0,           0,           0,           0,           0,           0,           0,           0,           0,           0,           0,           0,           0,           0,           0,           0,           0,           0,\n",
              "                  0,           0,           0,           0,           0,           0,           0,           0,           0,           0,           0,           0,           0,           0,           0,           0,           0,           0,           0,           0,           0,           0,           0,\n",
              "                  0,           0,           0,           0,           0,           0,           0,           0,           0,           0,           0,           0,           0,           0,           0,           0,           0,           0,           0,           0,           0,           0,           0,\n",
              "                  0,           0,           0,           0,           0,           0,           0,           0,           0,           0,           0,           0,           0,           0,           0,           0,           0,           0,           0,           0,           0,           0,           0,\n",
              "                  0,           0,           0,           0,           0,           0,           0,           0,           0,           0,           0,           0,           0,           0,           0,           0,           0,           0,           0,           0,           0,           0,           0,\n",
              "                  0,           0,           0,           0,           0,           0,           0,           0,           0,           0,           0,           0,           0,           0,           0,           0,           0,           0,           0,           0,           0,           0,           0,\n",
              "                  0,           0,           0,           0,           0,           0,           0,           0,           0,           0,           0,           0,           0,           0,           0,           0,           0,           0,           0,           0,           0,           0,           0,\n",
              "                  0,           0,           0,           0,           0,           0,           0,           0,           0,           0,           0,           0,           0,           0,           0,           0,           0,           0,           0,           0,           0,           0,           0,\n",
              "                  0,           0,           0,           0,           0,           0,           0,           0,           0,           0,           0,           0,           0,           0,           0,           0,           0,           0,           0,           0,           0,           0,           0,\n",
              "                  0,           0,           0,           0,           0,           0,           0,           0,           0,           0,           0,           0,           0,           0,           0,           0,           0,           0,           0,           0,           0,           0,           0,\n",
              "                  0,           0,           0,           0,           0,           0,           0,           0,           0,           0,           0,           0,           0,           0,           0,           0,           0,           0,           0,           0,           0,           0,           0,\n",
              "                  0,           0,           0,           0,           0,           0,           0,           0,           0,           0,           0,           0,           0,           0,           0,           0,           0,           0,           0,           0,           0,           0,           0,\n",
              "                  0,           0,           0,           0,           0,           0,           0,           0,           0,           0,           0,           0,           0,           0,           0,           0,           0,           0,           0,           0,           0,           0,           0,\n",
              "                  0,           0,           0,           0,           0,           0,           0,           0,           0,           0,           0,           0,           0,           0,           0,           0,           0,           0,           0,           0,           0,           0,           0,\n",
              "                  0,           0,           0,           0,           0,           0,           0,           0,           0,           0,           0,           0,           0,           0,           0,           0,           0,           0,           0,           0,           0,           0,           0,\n",
              "                  0,           0,           0,           0,           0,           0,           0,           0,           0,           0,           0,           0,           0,           0,           0,           0,           0,           0,           0,           0,           0,           0,           0,\n",
              "                  0,           0,           0,           0,           0,           0,           0,           0,           0,           0,           0,           0,           0,           0,           0,           0,           0,           0,           0,           0,           0,           0,           0,\n",
              "                  0,           0,           0,           0,           0,           0,           0,           0,           0,           0,           0,           0,           0,           0,           0,           0,           0,           0,           0,           0,           0,           0,           0,\n",
              "                  0,           0,           0,           0,           0,           0,           0,           0,           0,           0,           0,           0,           0,           0,           0,           0,           0,           0,           0,           0,           0,           0,           0,\n",
              "                  0,           0,           0,           0,           0,           0,           0,           0,           0,           0,           0,           0,           0,           0,           0,           0,           0,           0,           0,           0,           0,           0,           0,\n",
              "                  0,           0,           0,           0,           0,           0,           0,           0,           0,           0,           0,           0,           0,           0,           0,           0,           0,           0,           0,           0,           0,           0,           0,\n",
              "                  0,           0,           0,           0,           0,           0,           0,           0,           0,           0,           0,           0,           0,           0,           0,           0,           0,           0,           0,           0,           0,           0,           0,\n",
              "                  0,           0,           0,           0,           0,           0,           0,           0,           0,           0,           0,           0,           0,           0,           0,           0,           0,           0,           0,           0,           0,           0,           0,\n",
              "                  0,           0,           0,           0,           0,           0,           0,           0,           0,           0,           0,           0,           0,           0,           0,           0,           0,           0,           0,           0,           0,           0,           0,\n",
              "                  0,           0,           0,           0,           0,           0,           0,           0,           0,           0,           0,           0,           0,           0,           0,           0,           0,           0,           0,           0,           0,           0,           0,\n",
              "                  0,           0,           0,           0,           0,           0,           0,           0,           0,           0,           0,           0,           0,           0,           0,           0,           0,           0,           0,           0,           0,           0,           0,\n",
              "                  0,           0,           0,           0,           0,           0,           0,           0,           0,           0,           0,           0,           0,           0,           0,           0,           0,           0,           0,           0,           0,           0,           0,\n",
              "                  0,           0,           0,           0,           0,           0,           0,           0,           0,           0,           0,           0,           0,           0,           0,           0,           0,           0,           0,           0,           0,           0,           0,\n",
              "                  0,           0,           0,           0,           0,           0,           0,           0,           0,           0,           0]]), 'Confidence', 'Recall']]\n",
              "fitness: np.float64(0.2968302092766102)\n",
              "keys: ['metrics/precision(B)', 'metrics/recall(B)', 'metrics/mAP50(B)', 'metrics/mAP50-95(B)']\n",
              "maps: array([    0.29378,     0.29378])\n",
              "names: {0: 'Cancer', 1: 'Non-Cancer'}\n",
              "plot: True\n",
              "results_dict: {'metrics/precision(B)': np.float64(0.26650812162024684), 'metrics/recall(B)': np.float64(0.7542662116040956), 'metrics/mAP50(B)': np.float64(0.32424405397920325), 'metrics/mAP50-95(B)': np.float64(0.29378422653187763), 'fitness': np.float64(0.2968302092766102)}\n",
              "save_dir: PosixPath('runs/detect/train')\n",
              "speed: {'preprocess': 0.28388288978065335, 'inference': 4.192860583166905, 'loss': 0.0006661282577898056, 'postprocess': 4.678966935872671}\n",
              "task: 'detect'"
            ]
          },
          "metadata": {},
          "execution_count": 5
        }
      ]
    },
    {
      "cell_type": "code",
      "source": [
        "import torch\n",
        "\n",
        "# List your model files\n",
        "model_files = [\"yolo11n.pt\", \"yolov5su.pt\"]\n",
        "\n",
        "for file in model_files:\n",
        "    try:\n",
        "        print(f\"\\nChecking {file}...\")\n",
        "        model = torch.load(file, map_location=\"cpu\")  # Load model file\n",
        "\n",
        "        # If it's a YOLO model, it should contain \"names\" or \"model\" keys\n",
        "        if isinstance(model, dict) and \"names\" in model:\n",
        "            print(f\"✅ {file} contains a trained YOLO model with {len(model['names'])} classes.\")\n",
        "        elif hasattr(model, 'names'):\n",
        "            print(f\"✅ {file} contains a trained YOLO model with {len(model.names)} classes.\")\n",
        "        else:\n",
        "            print(f\"❌ {file} is not a valid YOLO trained model.\")\n",
        "\n",
        "    except Exception as e:\n",
        "        print(f\"⚠️ Could not load {file}: {e}\")\n"
      ],
      "metadata": {
        "colab": {
          "base_uri": "https://localhost:8080/"
        },
        "id": "4VhEZnSHbuX8",
        "outputId": "34e1af9d-306a-4950-d71b-3121c14e2225"
      },
      "execution_count": null,
      "outputs": [
        {
          "output_type": "stream",
          "name": "stdout",
          "text": [
            "\n",
            "Checking yolo11n.pt...\n",
            "❌ yolo11n.pt is not a valid YOLO trained model.\n",
            "\n",
            "Checking yolov5su.pt...\n",
            "❌ yolov5su.pt is not a valid YOLO trained model.\n"
          ]
        }
      ]
    },
    {
      "cell_type": "code",
      "source": [
        "from ultralytics import YOLO\n",
        "\n",
        "# Train the YOLO model\n",
        "model = YOLO(\"yolov5s.pt\")\n",
        "model.train(data=\"/content/drive/MyDrive/oralcancerdatasets/yolo_format/dataset.yaml\", epochs=50, batch=16, imgsz=640)\n",
        "\n",
        "# Save the trained model\n",
        "model_path = \"best.pt\"  # YOLO saves the best model automatically\n"
      ],
      "metadata": {
        "colab": {
          "base_uri": "https://localhost:8080/"
        },
        "id": "BKla53ugbYJ7",
        "outputId": "a455fc03-dc8a-4f55-90c8-45239080679a"
      },
      "execution_count": null,
      "outputs": [
        {
          "output_type": "stream",
          "name": "stdout",
          "text": [
            "PRO TIP 💡 Replace 'model=yolov5s.pt' with new 'model=yolov5su.pt'.\n",
            "YOLOv5 'u' models are trained with https://github.com/ultralytics/ultralytics and feature improved performance vs standard YOLOv5 models trained with https://github.com/ultralytics/yolov5.\n",
            "\n",
            "Ultralytics 8.3.85 🚀 Python-3.11.11 torch-2.6.0+cu124 CUDA:0 (Tesla T4, 15095MiB)\n",
            "\u001b[34m\u001b[1mengine/trainer: \u001b[0mtask=detect, mode=train, model=yolov5s.pt, data=/content/drive/MyDrive/oralcancerdatasets/yolo_format/dataset.yaml, epochs=50, time=None, patience=100, batch=16, imgsz=640, save=True, save_period=-1, cache=False, device=None, workers=8, project=None, name=train2, exist_ok=False, pretrained=True, optimizer=auto, verbose=True, seed=0, deterministic=True, single_cls=False, rect=False, cos_lr=False, close_mosaic=10, resume=False, amp=True, fraction=1.0, profile=False, freeze=None, multi_scale=False, overlap_mask=True, mask_ratio=4, dropout=0.0, val=True, split=val, save_json=False, save_hybrid=False, conf=None, iou=0.7, max_det=300, half=False, dnn=False, plots=True, source=None, vid_stride=1, stream_buffer=False, visualize=False, augment=False, agnostic_nms=False, classes=None, retina_masks=False, embed=None, show=False, save_frames=False, save_txt=False, save_conf=False, save_crop=False, show_labels=True, show_conf=True, show_boxes=True, line_width=None, format=torchscript, keras=False, optimize=False, int8=False, dynamic=False, simplify=True, opset=None, workspace=None, nms=False, lr0=0.01, lrf=0.01, momentum=0.937, weight_decay=0.0005, warmup_epochs=3.0, warmup_momentum=0.8, warmup_bias_lr=0.1, box=7.5, cls=0.5, dfl=1.5, pose=12.0, kobj=1.0, nbs=64, hsv_h=0.015, hsv_s=0.7, hsv_v=0.4, degrees=0.0, translate=0.1, scale=0.5, shear=0.0, perspective=0.0, flipud=0.0, fliplr=0.5, bgr=0.0, mosaic=1.0, mixup=0.0, copy_paste=0.0, copy_paste_mode=flip, auto_augment=randaugment, erasing=0.4, crop_fraction=1.0, cfg=None, tracker=botsort.yaml, save_dir=runs/detect/train2\n",
            "Overriding model.yaml nc=80 with nc=2\n",
            "\n",
            "                   from  n    params  module                                       arguments                     \n",
            "  0                  -1  1      3520  ultralytics.nn.modules.conv.Conv             [3, 32, 6, 2, 2]              \n",
            "  1                  -1  1     18560  ultralytics.nn.modules.conv.Conv             [32, 64, 3, 2]                \n",
            "  2                  -1  1     18816  ultralytics.nn.modules.block.C3              [64, 64, 1]                   \n",
            "  3                  -1  1     73984  ultralytics.nn.modules.conv.Conv             [64, 128, 3, 2]               \n",
            "  4                  -1  2    115712  ultralytics.nn.modules.block.C3              [128, 128, 2]                 \n",
            "  5                  -1  1    295424  ultralytics.nn.modules.conv.Conv             [128, 256, 3, 2]              \n",
            "  6                  -1  3    625152  ultralytics.nn.modules.block.C3              [256, 256, 3]                 \n",
            "  7                  -1  1   1180672  ultralytics.nn.modules.conv.Conv             [256, 512, 3, 2]              \n",
            "  8                  -1  1   1182720  ultralytics.nn.modules.block.C3              [512, 512, 1]                 \n",
            "  9                  -1  1    656896  ultralytics.nn.modules.block.SPPF            [512, 512, 5]                 \n",
            " 10                  -1  1    131584  ultralytics.nn.modules.conv.Conv             [512, 256, 1, 1]              \n",
            " 11                  -1  1         0  torch.nn.modules.upsampling.Upsample         [None, 2, 'nearest']          \n",
            " 12             [-1, 6]  1         0  ultralytics.nn.modules.conv.Concat           [1]                           \n",
            " 13                  -1  1    361984  ultralytics.nn.modules.block.C3              [512, 256, 1, False]          \n",
            " 14                  -1  1     33024  ultralytics.nn.modules.conv.Conv             [256, 128, 1, 1]              \n",
            " 15                  -1  1         0  torch.nn.modules.upsampling.Upsample         [None, 2, 'nearest']          \n",
            " 16             [-1, 4]  1         0  ultralytics.nn.modules.conv.Concat           [1]                           \n",
            " 17                  -1  1     90880  ultralytics.nn.modules.block.C3              [256, 128, 1, False]          \n",
            " 18                  -1  1    147712  ultralytics.nn.modules.conv.Conv             [128, 128, 3, 2]              \n",
            " 19            [-1, 14]  1         0  ultralytics.nn.modules.conv.Concat           [1]                           \n",
            " 20                  -1  1    296448  ultralytics.nn.modules.block.C3              [256, 256, 1, False]          \n",
            " 21                  -1  1    590336  ultralytics.nn.modules.conv.Conv             [256, 256, 3, 2]              \n",
            " 22            [-1, 10]  1         0  ultralytics.nn.modules.conv.Concat           [1]                           \n",
            " 23                  -1  1   1182720  ultralytics.nn.modules.block.C3              [512, 512, 1, False]          \n",
            " 24        [17, 20, 23]  1   2116822  ultralytics.nn.modules.head.Detect           [2, [128, 256, 512]]          \n",
            "YOLOv5s summary: 153 layers, 9,122,966 parameters, 9,122,950 gradients, 24.0 GFLOPs\n",
            "\n",
            "Transferred 421/427 items from pretrained weights\n",
            "\u001b[34m\u001b[1mTensorBoard: \u001b[0mStart with 'tensorboard --logdir runs/detect/train2', view at http://localhost:6006/\n",
            "Freezing layer 'model.24.dfl.conv.weight'\n",
            "\u001b[34m\u001b[1mAMP: \u001b[0mrunning Automatic Mixed Precision (AMP) checks...\n",
            "\u001b[34m\u001b[1mAMP: \u001b[0mchecks passed ✅\n"
          ]
        },
        {
          "output_type": "stream",
          "name": "stderr",
          "text": [
            "\u001b[34m\u001b[1mtrain: \u001b[0mScanning /content/drive/MyDrive/oralcancerdatasets/yolo_format/train/labels.cache... 2177 images, 879 backgrounds, 0 corrupt: 100%|██████████| 2227/2227 [00:00<?, ?it/s]"
          ]
        },
        {
          "output_type": "stream",
          "name": "stdout",
          "text": [
            "\u001b[34m\u001b[1malbumentations: \u001b[0mBlur(p=0.01, blur_limit=(3, 7)), MedianBlur(p=0.01, blur_limit=(3, 7)), ToGray(p=0.01, num_output_channels=3, method='weighted_average'), CLAHE(p=0.01, clip_limit=(1.0, 4.0), tile_grid_size=(8, 8))\n"
          ]
        },
        {
          "output_type": "stream",
          "name": "stderr",
          "text": [
            "\n",
            "\u001b[34m\u001b[1mval: \u001b[0mScanning /content/drive/MyDrive/oralcancerdatasets/yolo_format/valid/labels.cache... 474 images, 206 backgrounds, 0 corrupt: 100%|██████████| 499/499 [00:00<?, ?it/s]\n"
          ]
        },
        {
          "output_type": "stream",
          "name": "stdout",
          "text": [
            "Plotting labels to runs/detect/train2/labels.jpg... \n",
            "\u001b[34m\u001b[1moptimizer:\u001b[0m 'optimizer=auto' found, ignoring 'lr0=0.01' and 'momentum=0.937' and determining best 'optimizer', 'lr0' and 'momentum' automatically... \n",
            "\u001b[34m\u001b[1moptimizer:\u001b[0m AdamW(lr=0.001667, momentum=0.9) with parameter groups 69 weight(decay=0.0), 76 weight(decay=0.0005), 75 bias(decay=0.0)\n",
            "\u001b[34m\u001b[1mTensorBoard: \u001b[0mmodel graph visualization added ✅\n",
            "Image sizes 640 train, 640 val\n",
            "Using 2 dataloader workers\n",
            "Logging results to \u001b[1mruns/detect/train2\u001b[0m\n",
            "Starting training for 50 epochs...\n",
            "\n",
            "      Epoch    GPU_mem   box_loss   cls_loss   dfl_loss  Instances       Size\n"
          ]
        },
        {
          "output_type": "stream",
          "name": "stderr",
          "text": [
            "       1/50      4.26G      2.668      7.455      2.166          2        640: 100%|██████████| 140/140 [00:59<00:00,  2.33it/s]\n",
            "                 Class     Images  Instances      Box(P          R      mAP50  mAP50-95): 100%|██████████| 16/16 [00:05<00:00,  2.72it/s]\n"
          ]
        },
        {
          "output_type": "stream",
          "name": "stdout",
          "text": [
            "                   all        499        293   0.000509      0.246   0.000319   0.000124\n",
            "\n",
            "      Epoch    GPU_mem   box_loss   cls_loss   dfl_loss  Instances       Size\n"
          ]
        },
        {
          "output_type": "stream",
          "name": "stderr",
          "text": [
            "       2/50      3.94G      2.112      4.024      1.767          5        640: 100%|██████████| 140/140 [00:50<00:00,  2.75it/s]\n",
            "                 Class     Images  Instances      Box(P          R      mAP50  mAP50-95): 100%|██████████| 16/16 [00:06<00:00,  2.41it/s]"
          ]
        },
        {
          "output_type": "stream",
          "name": "stdout",
          "text": [
            "                   all        499        293   0.000567       0.27   0.000393   0.000184\n"
          ]
        },
        {
          "output_type": "stream",
          "name": "stderr",
          "text": [
            "\n"
          ]
        },
        {
          "output_type": "stream",
          "name": "stdout",
          "text": [
            "\n",
            "      Epoch    GPU_mem   box_loss   cls_loss   dfl_loss  Instances       Size\n"
          ]
        },
        {
          "output_type": "stream",
          "name": "stderr",
          "text": [
            "       3/50      3.96G      1.855      3.831      1.679          4        640: 100%|██████████| 140/140 [00:50<00:00,  2.79it/s]\n",
            "                 Class     Images  Instances      Box(P          R      mAP50  mAP50-95): 100%|██████████| 16/16 [00:05<00:00,  3.15it/s]"
          ]
        },
        {
          "output_type": "stream",
          "name": "stdout",
          "text": [
            "                   all        499        293     0.0106      0.143    0.00606    0.00204\n"
          ]
        },
        {
          "output_type": "stream",
          "name": "stderr",
          "text": [
            "\n"
          ]
        },
        {
          "output_type": "stream",
          "name": "stdout",
          "text": [
            "\n",
            "      Epoch    GPU_mem   box_loss   cls_loss   dfl_loss  Instances       Size\n"
          ]
        },
        {
          "output_type": "stream",
          "name": "stderr",
          "text": [
            "       4/50      4.08G      1.741      3.678      1.618          2        640: 100%|██████████| 140/140 [00:50<00:00,  2.76it/s]\n",
            "                 Class     Images  Instances      Box(P          R      mAP50  mAP50-95): 100%|██████████| 16/16 [00:04<00:00,  3.20it/s]"
          ]
        },
        {
          "output_type": "stream",
          "name": "stdout",
          "text": [
            "                   all        499        293    0.00248      0.287    0.00175    0.00109\n"
          ]
        },
        {
          "output_type": "stream",
          "name": "stderr",
          "text": [
            "\n"
          ]
        },
        {
          "output_type": "stream",
          "name": "stdout",
          "text": [
            "\n",
            "      Epoch    GPU_mem   box_loss   cls_loss   dfl_loss  Instances       Size\n"
          ]
        },
        {
          "output_type": "stream",
          "name": "stderr",
          "text": [
            "       5/50      3.94G      1.571      3.512      1.512          1        640: 100%|██████████| 140/140 [00:51<00:00,  2.73it/s]\n",
            "                 Class     Images  Instances      Box(P          R      mAP50  mAP50-95): 100%|██████████| 16/16 [00:06<00:00,  2.66it/s]"
          ]
        },
        {
          "output_type": "stream",
          "name": "stdout",
          "text": [
            "                   all        499        293     0.0111      0.771     0.0144    0.00996\n"
          ]
        },
        {
          "output_type": "stream",
          "name": "stderr",
          "text": [
            "\n"
          ]
        },
        {
          "output_type": "stream",
          "name": "stdout",
          "text": [
            "\n",
            "      Epoch    GPU_mem   box_loss   cls_loss   dfl_loss  Instances       Size\n"
          ]
        },
        {
          "output_type": "stream",
          "name": "stderr",
          "text": [
            "       6/50      3.94G      1.414      3.346      1.418          2        640: 100%|██████████| 140/140 [00:49<00:00,  2.84it/s]\n",
            "                 Class     Images  Instances      Box(P          R      mAP50  mAP50-95): 100%|██████████| 16/16 [00:06<00:00,  2.48it/s]"
          ]
        },
        {
          "output_type": "stream",
          "name": "stdout",
          "text": [
            "                   all        499        293    0.00489      0.843     0.0154     0.0112\n"
          ]
        },
        {
          "output_type": "stream",
          "name": "stderr",
          "text": [
            "\n"
          ]
        },
        {
          "output_type": "stream",
          "name": "stdout",
          "text": [
            "\n",
            "      Epoch    GPU_mem   box_loss   cls_loss   dfl_loss  Instances       Size\n"
          ]
        },
        {
          "output_type": "stream",
          "name": "stderr",
          "text": [
            "       7/50      4.08G      1.286      3.236      1.335          0        640: 100%|██████████| 140/140 [00:49<00:00,  2.84it/s]\n",
            "                 Class     Images  Instances      Box(P          R      mAP50  mAP50-95): 100%|██████████| 16/16 [00:06<00:00,  2.47it/s]"
          ]
        },
        {
          "output_type": "stream",
          "name": "stdout",
          "text": [
            "                   all        499        293    0.00692      0.928     0.0247     0.0183\n"
          ]
        },
        {
          "output_type": "stream",
          "name": "stderr",
          "text": [
            "\n"
          ]
        },
        {
          "output_type": "stream",
          "name": "stdout",
          "text": [
            "\n",
            "      Epoch    GPU_mem   box_loss   cls_loss   dfl_loss  Instances       Size\n"
          ]
        },
        {
          "output_type": "stream",
          "name": "stderr",
          "text": [
            "       8/50      3.94G      1.201      3.077      1.274          4        640: 100%|██████████| 140/140 [00:50<00:00,  2.79it/s]\n",
            "                 Class     Images  Instances      Box(P          R      mAP50  mAP50-95): 100%|██████████| 16/16 [00:05<00:00,  2.70it/s]"
          ]
        },
        {
          "output_type": "stream",
          "name": "stdout",
          "text": [
            "                   all        499        293     0.0712      0.358       0.06     0.0498\n"
          ]
        },
        {
          "output_type": "stream",
          "name": "stderr",
          "text": [
            "\n"
          ]
        },
        {
          "output_type": "stream",
          "name": "stdout",
          "text": [
            "\n",
            "      Epoch    GPU_mem   box_loss   cls_loss   dfl_loss  Instances       Size\n"
          ]
        },
        {
          "output_type": "stream",
          "name": "stderr",
          "text": [
            "       9/50      4.08G      1.164      2.986      1.242          2        640: 100%|██████████| 140/140 [00:51<00:00,  2.71it/s]\n",
            "                 Class     Images  Instances      Box(P          R      mAP50  mAP50-95): 100%|██████████| 16/16 [00:05<00:00,  2.90it/s]"
          ]
        },
        {
          "output_type": "stream",
          "name": "stdout",
          "text": [
            "                   all        499        293      0.113      0.799      0.159      0.134\n"
          ]
        },
        {
          "output_type": "stream",
          "name": "stderr",
          "text": [
            "\n"
          ]
        },
        {
          "output_type": "stream",
          "name": "stdout",
          "text": [
            "\n",
            "      Epoch    GPU_mem   box_loss   cls_loss   dfl_loss  Instances       Size\n"
          ]
        },
        {
          "output_type": "stream",
          "name": "stderr",
          "text": [
            "      10/50      3.94G      1.164      3.022      1.246          2        640: 100%|██████████| 140/140 [00:52<00:00,  2.65it/s]\n",
            "                 Class     Images  Instances      Box(P          R      mAP50  mAP50-95): 100%|██████████| 16/16 [00:06<00:00,  2.41it/s]"
          ]
        },
        {
          "output_type": "stream",
          "name": "stdout",
          "text": [
            "                   all        499        293     0.0122      0.201    0.00784    0.00499\n"
          ]
        },
        {
          "output_type": "stream",
          "name": "stderr",
          "text": [
            "\n"
          ]
        },
        {
          "output_type": "stream",
          "name": "stdout",
          "text": [
            "\n",
            "      Epoch    GPU_mem   box_loss   cls_loss   dfl_loss  Instances       Size\n"
          ]
        },
        {
          "output_type": "stream",
          "name": "stderr",
          "text": [
            "      11/50      3.94G      1.073      2.811      1.183          2        640: 100%|██████████| 140/140 [00:49<00:00,  2.85it/s]\n",
            "                 Class     Images  Instances      Box(P          R      mAP50  mAP50-95): 100%|██████████| 16/16 [00:06<00:00,  2.50it/s]"
          ]
        },
        {
          "output_type": "stream",
          "name": "stdout",
          "text": [
            "                   all        499        293      0.195       0.28      0.145      0.126\n"
          ]
        },
        {
          "output_type": "stream",
          "name": "stderr",
          "text": [
            "\n"
          ]
        },
        {
          "output_type": "stream",
          "name": "stdout",
          "text": [
            "\n",
            "      Epoch    GPU_mem   box_loss   cls_loss   dfl_loss  Instances       Size\n"
          ]
        },
        {
          "output_type": "stream",
          "name": "stderr",
          "text": [
            "      12/50      4.08G     0.9643      2.653       1.12          2        640: 100%|██████████| 140/140 [00:50<00:00,  2.78it/s]\n",
            "                 Class     Images  Instances      Box(P          R      mAP50  mAP50-95): 100%|██████████| 16/16 [00:05<00:00,  2.88it/s]"
          ]
        },
        {
          "output_type": "stream",
          "name": "stdout",
          "text": [
            "                   all        499        293      0.297      0.451      0.345      0.303\n"
          ]
        },
        {
          "output_type": "stream",
          "name": "stderr",
          "text": [
            "\n"
          ]
        },
        {
          "output_type": "stream",
          "name": "stdout",
          "text": [
            "\n",
            "      Epoch    GPU_mem   box_loss   cls_loss   dfl_loss  Instances       Size\n"
          ]
        },
        {
          "output_type": "stream",
          "name": "stderr",
          "text": [
            "      13/50      4.08G     0.9763      2.581      1.117          1        640: 100%|██████████| 140/140 [00:52<00:00,  2.67it/s]\n",
            "                 Class     Images  Instances      Box(P          R      mAP50  mAP50-95): 100%|██████████| 16/16 [00:05<00:00,  2.87it/s]"
          ]
        },
        {
          "output_type": "stream",
          "name": "stdout",
          "text": [
            "                   all        499        293      0.382      0.717      0.442      0.343\n"
          ]
        },
        {
          "output_type": "stream",
          "name": "stderr",
          "text": [
            "\n"
          ]
        },
        {
          "output_type": "stream",
          "name": "stdout",
          "text": [
            "\n",
            "      Epoch    GPU_mem   box_loss   cls_loss   dfl_loss  Instances       Size\n"
          ]
        },
        {
          "output_type": "stream",
          "name": "stderr",
          "text": [
            "      14/50      3.93G     0.9302      2.519      1.092          2        640: 100%|██████████| 140/140 [00:50<00:00,  2.77it/s]\n",
            "                 Class     Images  Instances      Box(P          R      mAP50  mAP50-95): 100%|██████████| 16/16 [00:05<00:00,  2.76it/s]"
          ]
        },
        {
          "output_type": "stream",
          "name": "stdout",
          "text": [
            "                   all        499        293       0.29      0.724      0.321      0.272\n"
          ]
        },
        {
          "output_type": "stream",
          "name": "stderr",
          "text": [
            "\n"
          ]
        },
        {
          "output_type": "stream",
          "name": "stdout",
          "text": [
            "\n",
            "      Epoch    GPU_mem   box_loss   cls_loss   dfl_loss  Instances       Size\n"
          ]
        },
        {
          "output_type": "stream",
          "name": "stderr",
          "text": [
            "      15/50      4.08G     0.8964      2.506      1.085          3        640: 100%|██████████| 140/140 [00:49<00:00,  2.83it/s]\n",
            "                 Class     Images  Instances      Box(P          R      mAP50  mAP50-95): 100%|██████████| 16/16 [00:06<00:00,  2.50it/s]"
          ]
        },
        {
          "output_type": "stream",
          "name": "stdout",
          "text": [
            "                   all        499        293      0.104      0.642     0.0951     0.0774\n"
          ]
        },
        {
          "output_type": "stream",
          "name": "stderr",
          "text": [
            "\n"
          ]
        },
        {
          "output_type": "stream",
          "name": "stdout",
          "text": [
            "\n",
            "      Epoch    GPU_mem   box_loss   cls_loss   dfl_loss  Instances       Size\n"
          ]
        },
        {
          "output_type": "stream",
          "name": "stderr",
          "text": [
            "      16/50      4.08G     0.8551      2.376      1.056          2        640: 100%|██████████| 140/140 [00:49<00:00,  2.83it/s]\n",
            "                 Class     Images  Instances      Box(P          R      mAP50  mAP50-95): 100%|██████████| 16/16 [00:06<00:00,  2.42it/s]"
          ]
        },
        {
          "output_type": "stream",
          "name": "stdout",
          "text": [
            "                   all        499        293      0.572      0.952       0.63      0.479\n"
          ]
        },
        {
          "output_type": "stream",
          "name": "stderr",
          "text": [
            "\n"
          ]
        },
        {
          "output_type": "stream",
          "name": "stdout",
          "text": [
            "\n",
            "      Epoch    GPU_mem   box_loss   cls_loss   dfl_loss  Instances       Size\n"
          ]
        },
        {
          "output_type": "stream",
          "name": "stderr",
          "text": [
            "      17/50      4.08G     0.8211      2.243      1.037          3        640: 100%|██████████| 140/140 [00:51<00:00,  2.71it/s]\n",
            "                 Class     Images  Instances      Box(P          R      mAP50  mAP50-95): 100%|██████████| 16/16 [00:05<00:00,  2.97it/s]"
          ]
        },
        {
          "output_type": "stream",
          "name": "stdout",
          "text": [
            "                   all        499        293      0.316      0.877      0.332      0.287\n"
          ]
        },
        {
          "output_type": "stream",
          "name": "stderr",
          "text": [
            "\n"
          ]
        },
        {
          "output_type": "stream",
          "name": "stdout",
          "text": [
            "\n",
            "      Epoch    GPU_mem   box_loss   cls_loss   dfl_loss  Instances       Size\n"
          ]
        },
        {
          "output_type": "stream",
          "name": "stderr",
          "text": [
            "      18/50      3.94G     0.8022      2.257      1.034          1        640: 100%|██████████| 140/140 [00:49<00:00,  2.81it/s]\n",
            "                 Class     Images  Instances      Box(P          R      mAP50  mAP50-95): 100%|██████████| 16/16 [00:05<00:00,  2.97it/s]"
          ]
        },
        {
          "output_type": "stream",
          "name": "stdout",
          "text": [
            "                   all        499        293      0.601      0.928      0.685      0.587\n"
          ]
        },
        {
          "output_type": "stream",
          "name": "stderr",
          "text": [
            "\n"
          ]
        },
        {
          "output_type": "stream",
          "name": "stdout",
          "text": [
            "\n",
            "      Epoch    GPU_mem   box_loss   cls_loss   dfl_loss  Instances       Size\n"
          ]
        },
        {
          "output_type": "stream",
          "name": "stderr",
          "text": [
            "      19/50      4.08G     0.7618      2.162      1.018          1        640: 100%|██████████| 140/140 [00:49<00:00,  2.81it/s]\n",
            "                 Class     Images  Instances      Box(P          R      mAP50  mAP50-95): 100%|██████████| 16/16 [00:06<00:00,  2.48it/s]"
          ]
        },
        {
          "output_type": "stream",
          "name": "stdout",
          "text": [
            "                   all        499        293      0.503      0.857      0.588      0.499\n"
          ]
        },
        {
          "output_type": "stream",
          "name": "stderr",
          "text": [
            "\n"
          ]
        },
        {
          "output_type": "stream",
          "name": "stdout",
          "text": [
            "\n",
            "      Epoch    GPU_mem   box_loss   cls_loss   dfl_loss  Instances       Size\n"
          ]
        },
        {
          "output_type": "stream",
          "name": "stderr",
          "text": [
            "      20/50      4.08G     0.7568      2.114      1.011          3        640: 100%|██████████| 140/140 [00:49<00:00,  2.85it/s]\n",
            "                 Class     Images  Instances      Box(P          R      mAP50  mAP50-95): 100%|██████████| 16/16 [00:06<00:00,  2.50it/s]"
          ]
        },
        {
          "output_type": "stream",
          "name": "stdout",
          "text": [
            "                   all        499        293      0.501      0.812      0.554      0.453\n"
          ]
        },
        {
          "output_type": "stream",
          "name": "stderr",
          "text": [
            "\n"
          ]
        },
        {
          "output_type": "stream",
          "name": "stdout",
          "text": [
            "\n",
            "      Epoch    GPU_mem   box_loss   cls_loss   dfl_loss  Instances       Size\n"
          ]
        },
        {
          "output_type": "stream",
          "name": "stderr",
          "text": [
            "      21/50      4.08G      0.696      2.043     0.9865          5        640: 100%|██████████| 140/140 [00:50<00:00,  2.77it/s]\n",
            "                 Class     Images  Instances      Box(P          R      mAP50  mAP50-95): 100%|██████████| 16/16 [00:06<00:00,  2.40it/s]"
          ]
        },
        {
          "output_type": "stream",
          "name": "stdout",
          "text": [
            "                   all        499        293      0.641      0.784       0.63      0.567\n"
          ]
        },
        {
          "output_type": "stream",
          "name": "stderr",
          "text": [
            "\n"
          ]
        },
        {
          "output_type": "stream",
          "name": "stdout",
          "text": [
            "\n",
            "      Epoch    GPU_mem   box_loss   cls_loss   dfl_loss  Instances       Size\n"
          ]
        },
        {
          "output_type": "stream",
          "name": "stderr",
          "text": [
            "      22/50      4.08G     0.7077      2.057     0.9803          1        640: 100%|██████████| 140/140 [00:50<00:00,  2.78it/s]\n",
            "                 Class     Images  Instances      Box(P          R      mAP50  mAP50-95): 100%|██████████| 16/16 [00:05<00:00,  2.99it/s]"
          ]
        },
        {
          "output_type": "stream",
          "name": "stdout",
          "text": [
            "                   all        499        293       0.57      0.843      0.592      0.557\n"
          ]
        },
        {
          "output_type": "stream",
          "name": "stderr",
          "text": [
            "\n"
          ]
        },
        {
          "output_type": "stream",
          "name": "stdout",
          "text": [
            "\n",
            "      Epoch    GPU_mem   box_loss   cls_loss   dfl_loss  Instances       Size\n"
          ]
        },
        {
          "output_type": "stream",
          "name": "stderr",
          "text": [
            "      23/50      3.93G     0.6704      1.922     0.9588          0        640: 100%|██████████| 140/140 [00:50<00:00,  2.76it/s]\n",
            "                 Class     Images  Instances      Box(P          R      mAP50  mAP50-95): 100%|██████████| 16/16 [00:05<00:00,  2.93it/s]"
          ]
        },
        {
          "output_type": "stream",
          "name": "stdout",
          "text": [
            "                   all        499        293       0.59      0.945      0.604      0.577\n"
          ]
        },
        {
          "output_type": "stream",
          "name": "stderr",
          "text": [
            "\n"
          ]
        },
        {
          "output_type": "stream",
          "name": "stdout",
          "text": [
            "\n",
            "      Epoch    GPU_mem   box_loss   cls_loss   dfl_loss  Instances       Size\n"
          ]
        },
        {
          "output_type": "stream",
          "name": "stderr",
          "text": [
            "      24/50      3.94G     0.6655      1.896     0.9683          5        640: 100%|██████████| 140/140 [00:50<00:00,  2.78it/s]\n",
            "                 Class     Images  Instances      Box(P          R      mAP50  mAP50-95): 100%|██████████| 16/16 [00:05<00:00,  2.80it/s]"
          ]
        },
        {
          "output_type": "stream",
          "name": "stdout",
          "text": [
            "                   all        499        293      0.578      0.927      0.646      0.583\n"
          ]
        },
        {
          "output_type": "stream",
          "name": "stderr",
          "text": [
            "\n"
          ]
        },
        {
          "output_type": "stream",
          "name": "stdout",
          "text": [
            "\n",
            "      Epoch    GPU_mem   box_loss   cls_loss   dfl_loss  Instances       Size\n"
          ]
        },
        {
          "output_type": "stream",
          "name": "stderr",
          "text": [
            "      25/50      3.94G     0.6595      1.835     0.9515          1        640: 100%|██████████| 140/140 [00:50<00:00,  2.77it/s]\n",
            "                 Class     Images  Instances      Box(P          R      mAP50  mAP50-95): 100%|██████████| 16/16 [00:06<00:00,  2.38it/s]"
          ]
        },
        {
          "output_type": "stream",
          "name": "stdout",
          "text": [
            "                   all        499        293      0.597      0.973      0.698      0.657\n"
          ]
        },
        {
          "output_type": "stream",
          "name": "stderr",
          "text": [
            "\n"
          ]
        },
        {
          "output_type": "stream",
          "name": "stdout",
          "text": [
            "\n",
            "      Epoch    GPU_mem   box_loss   cls_loss   dfl_loss  Instances       Size\n"
          ]
        },
        {
          "output_type": "stream",
          "name": "stderr",
          "text": [
            "      26/50      4.08G     0.6148      1.772     0.9354          1        640: 100%|██████████| 140/140 [00:50<00:00,  2.77it/s]\n",
            "                 Class     Images  Instances      Box(P          R      mAP50  mAP50-95): 100%|██████████| 16/16 [00:05<00:00,  2.86it/s]"
          ]
        },
        {
          "output_type": "stream",
          "name": "stdout",
          "text": [
            "                   all        499        293      0.627      0.889      0.687      0.609\n"
          ]
        },
        {
          "output_type": "stream",
          "name": "stderr",
          "text": [
            "\n"
          ]
        },
        {
          "output_type": "stream",
          "name": "stdout",
          "text": [
            "\n",
            "      Epoch    GPU_mem   box_loss   cls_loss   dfl_loss  Instances       Size\n"
          ]
        },
        {
          "output_type": "stream",
          "name": "stderr",
          "text": [
            "      27/50      3.94G     0.6139      1.745     0.9409          3        640: 100%|██████████| 140/140 [00:51<00:00,  2.72it/s]\n",
            "                 Class     Images  Instances      Box(P          R      mAP50  mAP50-95): 100%|██████████| 16/16 [00:05<00:00,  3.02it/s]"
          ]
        },
        {
          "output_type": "stream",
          "name": "stdout",
          "text": [
            "                   all        499        293      0.472      0.898      0.518      0.479\n"
          ]
        },
        {
          "output_type": "stream",
          "name": "stderr",
          "text": [
            "\n"
          ]
        },
        {
          "output_type": "stream",
          "name": "stdout",
          "text": [
            "\n",
            "      Epoch    GPU_mem   box_loss   cls_loss   dfl_loss  Instances       Size\n"
          ]
        },
        {
          "output_type": "stream",
          "name": "stderr",
          "text": [
            "      28/50      3.93G     0.6031      1.675     0.9282          1        640: 100%|██████████| 140/140 [00:51<00:00,  2.73it/s]\n",
            "                 Class     Images  Instances      Box(P          R      mAP50  mAP50-95): 100%|██████████| 16/16 [00:05<00:00,  2.72it/s]"
          ]
        },
        {
          "output_type": "stream",
          "name": "stdout",
          "text": [
            "                   all        499        293      0.593      0.915      0.666        0.6\n"
          ]
        },
        {
          "output_type": "stream",
          "name": "stderr",
          "text": [
            "\n"
          ]
        },
        {
          "output_type": "stream",
          "name": "stdout",
          "text": [
            "\n",
            "      Epoch    GPU_mem   box_loss   cls_loss   dfl_loss  Instances       Size\n"
          ]
        },
        {
          "output_type": "stream",
          "name": "stderr",
          "text": [
            "      29/50      3.94G     0.5898      1.766     0.9284          2        640: 100%|██████████| 140/140 [00:51<00:00,  2.72it/s]\n",
            "                 Class     Images  Instances      Box(P          R      mAP50  mAP50-95): 100%|██████████| 16/16 [00:06<00:00,  2.45it/s]"
          ]
        },
        {
          "output_type": "stream",
          "name": "stdout",
          "text": [
            "                   all        499        293      0.643      0.945      0.782      0.754\n"
          ]
        },
        {
          "output_type": "stream",
          "name": "stderr",
          "text": [
            "\n"
          ]
        },
        {
          "output_type": "stream",
          "name": "stdout",
          "text": [
            "\n",
            "      Epoch    GPU_mem   box_loss   cls_loss   dfl_loss  Instances       Size\n"
          ]
        },
        {
          "output_type": "stream",
          "name": "stderr",
          "text": [
            "      30/50      4.08G     0.5762      1.616      0.925          2        640: 100%|██████████| 140/140 [00:49<00:00,  2.81it/s]\n",
            "                 Class     Images  Instances      Box(P          R      mAP50  mAP50-95): 100%|██████████| 16/16 [00:06<00:00,  2.51it/s]"
          ]
        },
        {
          "output_type": "stream",
          "name": "stdout",
          "text": [
            "                   all        499        293       0.59      0.937      0.647      0.546\n"
          ]
        },
        {
          "output_type": "stream",
          "name": "stderr",
          "text": [
            "\n"
          ]
        },
        {
          "output_type": "stream",
          "name": "stdout",
          "text": [
            "\n",
            "      Epoch    GPU_mem   box_loss   cls_loss   dfl_loss  Instances       Size\n"
          ]
        },
        {
          "output_type": "stream",
          "name": "stderr",
          "text": [
            "      31/50      4.08G     0.5831      1.694     0.9262          1        640: 100%|██████████| 140/140 [00:50<00:00,  2.76it/s]\n",
            "                 Class     Images  Instances      Box(P          R      mAP50  mAP50-95): 100%|██████████| 16/16 [00:05<00:00,  2.91it/s]"
          ]
        },
        {
          "output_type": "stream",
          "name": "stdout",
          "text": [
            "                   all        499        293      0.594      0.898      0.652      0.576\n"
          ]
        },
        {
          "output_type": "stream",
          "name": "stderr",
          "text": [
            "\n"
          ]
        },
        {
          "output_type": "stream",
          "name": "stdout",
          "text": [
            "\n",
            "      Epoch    GPU_mem   box_loss   cls_loss   dfl_loss  Instances       Size\n"
          ]
        },
        {
          "output_type": "stream",
          "name": "stderr",
          "text": [
            "      32/50      4.08G     0.5339       1.51     0.9057          2        640: 100%|██████████| 140/140 [00:50<00:00,  2.79it/s]\n",
            "                 Class     Images  Instances      Box(P          R      mAP50  mAP50-95): 100%|██████████| 16/16 [00:05<00:00,  3.01it/s]"
          ]
        },
        {
          "output_type": "stream",
          "name": "stdout",
          "text": [
            "                   all        499        293      0.597      0.949       0.68      0.645\n"
          ]
        },
        {
          "output_type": "stream",
          "name": "stderr",
          "text": [
            "\n"
          ]
        },
        {
          "output_type": "stream",
          "name": "stdout",
          "text": [
            "\n",
            "      Epoch    GPU_mem   box_loss   cls_loss   dfl_loss  Instances       Size\n"
          ]
        },
        {
          "output_type": "stream",
          "name": "stderr",
          "text": [
            "      33/50      3.94G     0.5584      1.576     0.9113          3        640: 100%|██████████| 140/140 [00:52<00:00,  2.65it/s]\n",
            "                 Class     Images  Instances      Box(P          R      mAP50  mAP50-95): 100%|██████████| 16/16 [00:06<00:00,  2.47it/s]"
          ]
        },
        {
          "output_type": "stream",
          "name": "stdout",
          "text": [
            "                   all        499        293      0.587      0.974      0.672      0.573\n"
          ]
        },
        {
          "output_type": "stream",
          "name": "stderr",
          "text": [
            "\n"
          ]
        },
        {
          "output_type": "stream",
          "name": "stdout",
          "text": [
            "\n",
            "      Epoch    GPU_mem   box_loss   cls_loss   dfl_loss  Instances       Size\n"
          ]
        },
        {
          "output_type": "stream",
          "name": "stderr",
          "text": [
            "      34/50      4.08G     0.5271      1.464     0.8966          5        640: 100%|██████████| 140/140 [00:50<00:00,  2.78it/s]\n",
            "                 Class     Images  Instances      Box(P          R      mAP50  mAP50-95): 100%|██████████| 16/16 [00:06<00:00,  2.38it/s]"
          ]
        },
        {
          "output_type": "stream",
          "name": "stdout",
          "text": [
            "                   all        499        293      0.602      0.932      0.699      0.649\n"
          ]
        },
        {
          "output_type": "stream",
          "name": "stderr",
          "text": [
            "\n"
          ]
        },
        {
          "output_type": "stream",
          "name": "stdout",
          "text": [
            "\n",
            "      Epoch    GPU_mem   box_loss   cls_loss   dfl_loss  Instances       Size\n"
          ]
        },
        {
          "output_type": "stream",
          "name": "stderr",
          "text": [
            "      35/50      3.94G     0.5134      1.485     0.9052          2        640: 100%|██████████| 140/140 [00:52<00:00,  2.68it/s]\n",
            "                 Class     Images  Instances      Box(P          R      mAP50  mAP50-95): 100%|██████████| 16/16 [00:05<00:00,  3.12it/s]"
          ]
        },
        {
          "output_type": "stream",
          "name": "stdout",
          "text": [
            "                   all        499        293      0.588       0.98      0.669      0.636\n"
          ]
        },
        {
          "output_type": "stream",
          "name": "stderr",
          "text": [
            "\n"
          ]
        },
        {
          "output_type": "stream",
          "name": "stdout",
          "text": [
            "\n",
            "      Epoch    GPU_mem   box_loss   cls_loss   dfl_loss  Instances       Size\n"
          ]
        },
        {
          "output_type": "stream",
          "name": "stderr",
          "text": [
            "      36/50      4.08G     0.5214      1.367     0.8973          4        640: 100%|██████████| 140/140 [00:50<00:00,  2.75it/s]\n",
            "                 Class     Images  Instances      Box(P          R      mAP50  mAP50-95): 100%|██████████| 16/16 [00:05<00:00,  3.01it/s]"
          ]
        },
        {
          "output_type": "stream",
          "name": "stdout",
          "text": [
            "                   all        499        293      0.587      0.997      0.713      0.614\n"
          ]
        },
        {
          "output_type": "stream",
          "name": "stderr",
          "text": [
            "\n"
          ]
        },
        {
          "output_type": "stream",
          "name": "stdout",
          "text": [
            "\n",
            "      Epoch    GPU_mem   box_loss   cls_loss   dfl_loss  Instances       Size\n"
          ]
        },
        {
          "output_type": "stream",
          "name": "stderr",
          "text": [
            "      37/50      3.94G     0.4859      1.405     0.8915          1        640: 100%|██████████| 140/140 [02:00<00:00,  1.16it/s]\n",
            "                 Class     Images  Instances      Box(P          R      mAP50  mAP50-95): 100%|██████████| 16/16 [00:06<00:00,  2.58it/s]"
          ]
        },
        {
          "output_type": "stream",
          "name": "stdout",
          "text": [
            "                   all        499        293      0.595      0.971      0.681      0.631\n"
          ]
        },
        {
          "output_type": "stream",
          "name": "stderr",
          "text": [
            "\n"
          ]
        },
        {
          "output_type": "stream",
          "name": "stdout",
          "text": [
            "\n",
            "      Epoch    GPU_mem   box_loss   cls_loss   dfl_loss  Instances       Size\n"
          ]
        },
        {
          "output_type": "stream",
          "name": "stderr",
          "text": [
            "      38/50      4.08G     0.4879       1.33     0.8901          2        640: 100%|██████████| 140/140 [00:50<00:00,  2.78it/s]\n",
            "                 Class     Images  Instances      Box(P          R      mAP50  mAP50-95): 100%|██████████| 16/16 [00:06<00:00,  2.41it/s]"
          ]
        },
        {
          "output_type": "stream",
          "name": "stdout",
          "text": [
            "                   all        499        293      0.597      0.983      0.631      0.566\n"
          ]
        },
        {
          "output_type": "stream",
          "name": "stderr",
          "text": [
            "\n"
          ]
        },
        {
          "output_type": "stream",
          "name": "stdout",
          "text": [
            "\n",
            "      Epoch    GPU_mem   box_loss   cls_loss   dfl_loss  Instances       Size\n"
          ]
        },
        {
          "output_type": "stream",
          "name": "stderr",
          "text": [
            "      39/50      3.94G     0.4798      1.365     0.8843          3        640: 100%|██████████| 140/140 [00:53<00:00,  2.64it/s]\n",
            "                 Class     Images  Instances      Box(P          R      mAP50  mAP50-95): 100%|██████████| 16/16 [00:05<00:00,  2.98it/s]"
          ]
        },
        {
          "output_type": "stream",
          "name": "stdout",
          "text": [
            "                   all        499        293      0.597      0.993      0.679       0.61\n"
          ]
        },
        {
          "output_type": "stream",
          "name": "stderr",
          "text": [
            "\n"
          ]
        },
        {
          "output_type": "stream",
          "name": "stdout",
          "text": [
            "\n",
            "      Epoch    GPU_mem   box_loss   cls_loss   dfl_loss  Instances       Size\n"
          ]
        },
        {
          "output_type": "stream",
          "name": "stderr",
          "text": [
            "      40/50      4.08G     0.4684       1.31     0.8803          4        640: 100%|██████████| 140/140 [00:51<00:00,  2.73it/s]\n",
            "                 Class     Images  Instances      Box(P          R      mAP50  mAP50-95): 100%|██████████| 16/16 [00:05<00:00,  3.04it/s]"
          ]
        },
        {
          "output_type": "stream",
          "name": "stdout",
          "text": [
            "                   all        499        293      0.608      0.915      0.739      0.706\n"
          ]
        },
        {
          "output_type": "stream",
          "name": "stderr",
          "text": [
            "\n"
          ]
        },
        {
          "output_type": "stream",
          "name": "stdout",
          "text": [
            "Closing dataloader mosaic\n",
            "\u001b[34m\u001b[1malbumentations: \u001b[0mBlur(p=0.01, blur_limit=(3, 7)), MedianBlur(p=0.01, blur_limit=(3, 7)), ToGray(p=0.01, num_output_channels=3, method='weighted_average'), CLAHE(p=0.01, clip_limit=(1.0, 4.0), tile_grid_size=(8, 8))\n",
            "\n",
            "      Epoch    GPU_mem   box_loss   cls_loss   dfl_loss  Instances       Size\n"
          ]
        },
        {
          "output_type": "stream",
          "name": "stderr",
          "text": [
            "      41/50      3.94G     0.4454      1.548     0.9033          2        640: 100%|██████████| 140/140 [00:51<00:00,  2.71it/s]\n",
            "                 Class     Images  Instances      Box(P          R      mAP50  mAP50-95): 100%|██████████| 16/16 [00:06<00:00,  2.45it/s]"
          ]
        },
        {
          "output_type": "stream",
          "name": "stdout",
          "text": [
            "                   all        499        293      0.611       0.99      0.743      0.705\n"
          ]
        },
        {
          "output_type": "stream",
          "name": "stderr",
          "text": [
            "\n"
          ]
        },
        {
          "output_type": "stream",
          "name": "stdout",
          "text": [
            "\n",
            "      Epoch    GPU_mem   box_loss   cls_loss   dfl_loss  Instances       Size\n"
          ]
        },
        {
          "output_type": "stream",
          "name": "stderr",
          "text": [
            "      42/50      3.94G     0.4038      1.486     0.8808          2        640: 100%|██████████| 140/140 [00:48<00:00,  2.89it/s]\n",
            "                 Class     Images  Instances      Box(P          R      mAP50  mAP50-95): 100%|██████████| 16/16 [00:06<00:00,  2.52it/s]"
          ]
        },
        {
          "output_type": "stream",
          "name": "stdout",
          "text": [
            "                   all        499        293      0.619      0.993      0.726      0.704\n"
          ]
        },
        {
          "output_type": "stream",
          "name": "stderr",
          "text": [
            "\n"
          ]
        },
        {
          "output_type": "stream",
          "name": "stdout",
          "text": [
            "\n",
            "      Epoch    GPU_mem   box_loss   cls_loss   dfl_loss  Instances       Size\n"
          ]
        },
        {
          "output_type": "stream",
          "name": "stderr",
          "text": [
            "      43/50      4.08G     0.3942        1.4      0.875          3        640: 100%|██████████| 140/140 [00:50<00:00,  2.79it/s]\n",
            "                 Class     Images  Instances      Box(P          R      mAP50  mAP50-95): 100%|██████████| 16/16 [00:06<00:00,  2.41it/s]"
          ]
        },
        {
          "output_type": "stream",
          "name": "stdout",
          "text": [
            "                   all        499        293      0.661      0.957       0.76      0.725\n"
          ]
        },
        {
          "output_type": "stream",
          "name": "stderr",
          "text": [
            "\n"
          ]
        },
        {
          "output_type": "stream",
          "name": "stdout",
          "text": [
            "\n",
            "      Epoch    GPU_mem   box_loss   cls_loss   dfl_loss  Instances       Size\n"
          ]
        },
        {
          "output_type": "stream",
          "name": "stderr",
          "text": [
            "      44/50      4.08G     0.3621       1.32     0.8531          1        640: 100%|██████████| 140/140 [00:48<00:00,  2.88it/s]\n",
            "                 Class     Images  Instances      Box(P          R      mAP50  mAP50-95): 100%|██████████| 16/16 [00:05<00:00,  2.84it/s]"
          ]
        },
        {
          "output_type": "stream",
          "name": "stdout",
          "text": [
            "                   all        499        293      0.627      0.983      0.749      0.733\n"
          ]
        },
        {
          "output_type": "stream",
          "name": "stderr",
          "text": [
            "\n"
          ]
        },
        {
          "output_type": "stream",
          "name": "stdout",
          "text": [
            "\n",
            "      Epoch    GPU_mem   box_loss   cls_loss   dfl_loss  Instances       Size\n"
          ]
        },
        {
          "output_type": "stream",
          "name": "stderr",
          "text": [
            "      45/50      4.08G     0.3709      1.345     0.8572          2        640: 100%|██████████| 140/140 [00:49<00:00,  2.80it/s]\n",
            "                 Class     Images  Instances      Box(P          R      mAP50  mAP50-95): 100%|██████████| 16/16 [00:05<00:00,  2.88it/s]"
          ]
        },
        {
          "output_type": "stream",
          "name": "stdout",
          "text": [
            "                   all        499        293      0.646      0.983      0.773      0.703\n"
          ]
        },
        {
          "output_type": "stream",
          "name": "stderr",
          "text": [
            "\n"
          ]
        },
        {
          "output_type": "stream",
          "name": "stdout",
          "text": [
            "\n",
            "      Epoch    GPU_mem   box_loss   cls_loss   dfl_loss  Instances       Size\n"
          ]
        },
        {
          "output_type": "stream",
          "name": "stderr",
          "text": [
            "      46/50      3.94G     0.3462      1.287      0.857          3        640: 100%|██████████| 140/140 [00:49<00:00,  2.84it/s]\n",
            "                 Class     Images  Instances      Box(P          R      mAP50  mAP50-95): 100%|██████████| 16/16 [00:05<00:00,  2.91it/s]"
          ]
        },
        {
          "output_type": "stream",
          "name": "stdout",
          "text": [
            "                   all        499        293      0.635      0.962       0.79      0.762\n"
          ]
        },
        {
          "output_type": "stream",
          "name": "stderr",
          "text": [
            "\n"
          ]
        },
        {
          "output_type": "stream",
          "name": "stdout",
          "text": [
            "\n",
            "      Epoch    GPU_mem   box_loss   cls_loss   dfl_loss  Instances       Size\n"
          ]
        },
        {
          "output_type": "stream",
          "name": "stderr",
          "text": [
            "      47/50      3.94G     0.3522      1.337     0.8541          1        640: 100%|██████████| 140/140 [00:49<00:00,  2.84it/s]\n",
            "                 Class     Images  Instances      Box(P          R      mAP50  mAP50-95): 100%|██████████| 16/16 [00:06<00:00,  2.51it/s]"
          ]
        },
        {
          "output_type": "stream",
          "name": "stdout",
          "text": [
            "                   all        499        293      0.637      0.969      0.764      0.751\n"
          ]
        },
        {
          "output_type": "stream",
          "name": "stderr",
          "text": [
            "\n"
          ]
        },
        {
          "output_type": "stream",
          "name": "stdout",
          "text": [
            "\n",
            "      Epoch    GPU_mem   box_loss   cls_loss   dfl_loss  Instances       Size\n"
          ]
        },
        {
          "output_type": "stream",
          "name": "stderr",
          "text": [
            "      48/50      3.94G       0.33      1.248     0.8415          2        640: 100%|██████████| 140/140 [00:48<00:00,  2.87it/s]\n",
            "                 Class     Images  Instances      Box(P          R      mAP50  mAP50-95): 100%|██████████| 16/16 [00:05<00:00,  2.83it/s]"
          ]
        },
        {
          "output_type": "stream",
          "name": "stdout",
          "text": [
            "                   all        499        293      0.663      0.949      0.783      0.759\n"
          ]
        },
        {
          "output_type": "stream",
          "name": "stderr",
          "text": [
            "\n"
          ]
        },
        {
          "output_type": "stream",
          "name": "stdout",
          "text": [
            "\n",
            "      Epoch    GPU_mem   box_loss   cls_loss   dfl_loss  Instances       Size\n"
          ]
        },
        {
          "output_type": "stream",
          "name": "stderr",
          "text": [
            "      49/50      3.93G     0.3276      1.249     0.8387          0        640: 100%|██████████| 140/140 [00:48<00:00,  2.91it/s]\n",
            "                 Class     Images  Instances      Box(P          R      mAP50  mAP50-95): 100%|██████████| 16/16 [00:05<00:00,  2.73it/s]"
          ]
        },
        {
          "output_type": "stream",
          "name": "stdout",
          "text": [
            "                   all        499        293      0.651      0.959      0.778      0.756\n"
          ]
        },
        {
          "output_type": "stream",
          "name": "stderr",
          "text": [
            "\n"
          ]
        },
        {
          "output_type": "stream",
          "name": "stdout",
          "text": [
            "\n",
            "      Epoch    GPU_mem   box_loss   cls_loss   dfl_loss  Instances       Size\n"
          ]
        },
        {
          "output_type": "stream",
          "name": "stderr",
          "text": [
            "      50/50      3.94G     0.3283      1.226     0.8422          2        640: 100%|██████████| 140/140 [00:48<00:00,  2.90it/s]\n",
            "                 Class     Images  Instances      Box(P          R      mAP50  mAP50-95): 100%|██████████| 16/16 [00:06<00:00,  2.52it/s]"
          ]
        },
        {
          "output_type": "stream",
          "name": "stdout",
          "text": [
            "                   all        499        293      0.639      0.959      0.786      0.767\n"
          ]
        },
        {
          "output_type": "stream",
          "name": "stderr",
          "text": [
            "\n"
          ]
        },
        {
          "output_type": "stream",
          "name": "stdout",
          "text": [
            "\n",
            "50 epochs completed in 0.825 hours.\n",
            "Optimizer stripped from runs/detect/train2/weights/last.pt, 18.5MB\n",
            "Optimizer stripped from runs/detect/train2/weights/best.pt, 18.5MB\n",
            "\n",
            "Validating runs/detect/train2/weights/best.pt...\n",
            "Ultralytics 8.3.85 🚀 Python-3.11.11 torch-2.6.0+cu124 CUDA:0 (Tesla T4, 15095MiB)\n",
            "YOLOv5s summary (fused): 84 layers, 9,112,310 parameters, 0 gradients, 23.8 GFLOPs\n"
          ]
        },
        {
          "output_type": "stream",
          "name": "stderr",
          "text": [
            "                 Class     Images  Instances      Box(P          R      mAP50  mAP50-95): 100%|██████████| 16/16 [00:08<00:00,  1.95it/s]\n"
          ]
        },
        {
          "output_type": "stream",
          "name": "stdout",
          "text": [
            "                   all        499        293       0.64      0.962      0.786      0.767\n",
            "                Cancer        293        293       0.64      0.962      0.786      0.767\n",
            "Speed: 0.2ms preprocess, 4.2ms inference, 0.0ms loss, 3.7ms postprocess per image\n",
            "Results saved to \u001b[1mruns/detect/train2\u001b[0m\n"
          ]
        }
      ]
    },
    {
      "cell_type": "code",
      "source": [],
      "metadata": {
        "id": "vtoDrnZKI19t"
      },
      "execution_count": null,
      "outputs": []
    },
    {
      "cell_type": "code",
      "source": [
        "from ultralytics import YOLO\n",
        "import cv2\n",
        "from PIL import Image\n",
        "\n",
        "# Load the trained model\n",
        "model_path = \"runs/detect/train2/weights/best.pt\"  # Adjust if necessary\n",
        "model = YOLO(model_path)\n",
        "\n",
        "# Input image path\n",
        "image_path = \"/content/drive/MyDrive/oralcancerdatasets/CANCER/003.jpeg\"  # Change to your test image\n",
        "\n",
        "# Run inference\n",
        "results = model(image_path)\n",
        "\n",
        "# Show the output\n",
        "for result in results:\n",
        "    result.show()  # Display the image with detections\n",
        "    result.save(filename=\"output.jpg\")  # Save the output image\n"
      ],
      "metadata": {
        "colab": {
          "base_uri": "https://localhost:8080/",
          "height": 293
        },
        "id": "UZloVcyKfcMv",
        "outputId": "6c5d2344-a761-41da-c83b-659211b73d24"
      },
      "execution_count": null,
      "outputs": [
        {
          "output_type": "stream",
          "name": "stdout",
          "text": [
            "\n",
            "image 1/1 /content/drive/MyDrive/oralcancerdatasets/CANCER/003.jpeg: 640x640 (no detections), 14.9ms\n",
            "Speed: 2.4ms preprocess, 14.9ms inference, 0.8ms postprocess per image at shape (1, 3, 640, 640)\n"
          ]
        },
        {
          "output_type": "display_data",
          "data": {
            "text/plain": [
              "<PIL.Image.Image image mode=RGB size=224x224>"
            ],
            "image/png": "[encoded data removed]",
            "image/jpeg": "[encoded data removed]"
          },
          "metadata": {}
        }
      ]
    },
    {
      "cell_type": "code",
      "source": [
        "import torch\n",
        "from ultralytics import YOLO\n",
        "from PIL import Image\n",
        "\n",
        "# Load the trained model\n",
        "model_path = \"runs/detect/train2/weights/best.pt\"  # Ensure this is the correct path\n",
        "model = YOLO(model_path)\n",
        "\n",
        "# Function to run inference\n",
        "def detect_cancer(image_path):\n",
        "    results = model(image_path, conf=0.01)  # Lower confidence threshold\n",
        "\n",
        "    # Display detections\n",
        "    for result in results:\n",
        "        result.show()  # Display the annotated image\n",
        "\n",
        "    # Check if any detections were found\n",
        "    if not results or result.boxes is None or len(result.boxes.xyxy) == 0:\n",
        "        print(\"⚠️ No detections found. Try training longer or checking dataset labels.\")\n",
        "        return\n",
        "\n",
        "    # Print detection details: boxes, confidence, and class labels\n",
        "    boxes = result.boxes.xyxy  # Bounding box coordinates\n",
        "    confidences = result.boxes.conf  # Confidence scores\n",
        "    labels = result.names  # Class labels (e.g., 'Cancer', 'Non-Cancer')\n",
        "\n",
        "    for i, box in enumerate(boxes):\n",
        "        print(f\"Detection {i+1}:\")\n",
        "        print(f\"Box: {box}\")  # Coordinates: [xmin, ymin, xmax, ymax]\n",
        "        print(f\"Confidence: {confidences[i]:.4f}\")\n",
        "        print(f\"Label: {labels[int(result.boxes.cls[i])]}\")  # Class name\n",
        "\n",
        "# Test on a new image\n",
        "test_image = \"/content/drive/MyDrive/oralcancerdatasets/CANCER/003.jpeg\"\n",
        "detect_cancer(test_image)\n"
      ],
      "metadata": {
        "colab": {
          "base_uri": "https://localhost:8080/",
          "height": 310
        },
        "id": "S9bM5x5zgcO3",
        "outputId": "6b32470b-e929-413d-dabd-d59c8074b5b1"
      },
      "execution_count": null,
      "outputs": [
        {
          "output_type": "stream",
          "name": "stdout",
          "text": [
            "\n",
            "image 1/1 /content/drive/MyDrive/oralcancerdatasets/CANCER/003.jpeg: 640x640 (no detections), 14.8ms\n",
            "Speed: 2.9ms preprocess, 14.8ms inference, 0.6ms postprocess per image at shape (1, 3, 640, 640)\n"
          ]
        },
        {
          "output_type": "display_data",
          "data": {
            "text/plain": [
              "<PIL.Image.Image image mode=RGB size=224x224>"
            ],
            "image/png": "[encoded data removed]",
            "image/jpeg": "[encoded data removed]"
          },
          "metadata": {}
        },
        {
          "output_type": "stream",
          "name": "stdout",
          "text": [
            "⚠️ No detections found. Try training longer or checking dataset labels.\n"
          ]
        }
      ]
    },
    {
      "cell_type": "code",
      "source": [
        "results = model(\"/content/drive/MyDrive/oralcancerdatasets/CANCER/003.jpeg\", conf=0.5)  # Lower confidence threshold\n",
        "\n",
        "# Check if results contain detections\n",
        "if results[0].boxes:\n",
        "    for i, box in enumerate(results[0].boxes):\n",
        "        print(f\"Detection {i+1}:\")\n",
        "        print(f\"Box: {box.xywh}\")  # Box coordinates\n",
        "        print(f\"Confidence: {box.confidence}\")  # Confidence score\n",
        "        print(f\"Label: {results[0].names[int(box.cls)]}\")  # Label\n",
        "else:\n",
        "    print(\"No detections found.\")\n",
        "\n"
      ],
      "metadata": {
        "colab": {
          "base_uri": "https://localhost:8080/"
        },
        "id": "wpaAES5JWMwQ",
        "outputId": "8f0ad82c-b700-449a-cb50-957aa519f44e"
      },
      "execution_count": null,
      "outputs": [
        {
          "output_type": "stream",
          "name": "stdout",
          "text": [
            "\n",
            "image 1/1 /content/drive/MyDrive/oralcancerdatasets/CANCER/003.jpeg: 640x640 (no detections), 14.9ms\n",
            "Speed: 2.8ms preprocess, 14.9ms inference, 0.7ms postprocess per image at shape (1, 3, 640, 640)\n",
            "No detections found.\n"
          ]
        }
      ]
    },
    {
      "cell_type": "code",
      "source": [
        "import torch\n",
        "from torchvision import datasets, models, transforms\n",
        "from torch import nn, optim\n",
        "\n",
        "# Define transforms\n",
        "transform = transforms.Compose([\n",
        "    transforms.Resize(224),\n",
        "    transforms.ToTensor(),\n",
        "    transforms.Normalize(mean=[0.485, 0.456, 0.406], std=[0.229, 0.224, 0.225])\n",
        "])\n",
        "\n",
        "# Load dataset\n",
        "train_data = datasets.ImageFolder(\"/content/drive/MyDrive/oralcancerdatasets/train\", transform=transform)\n",
        "train_loader = torch.utils.data.DataLoader(train_data, batch_size=32, shuffle=True)\n",
        "\n",
        "# Load pre-trained ResNet model\n",
        "model = models.resnet18(pretrained=True)\n",
        "model.fc = nn.Linear(model.fc.in_features, 2)  # 2 classes: Cancer vs Non-Cancer\n",
        "\n",
        "# Define loss and optimizer\n",
        "criterion = nn.CrossEntropyLoss()\n",
        "optimizer = optim.Adam(model.parameters(), lr=0.001)\n",
        "\n",
        "# Train the model\n",
        "for epoch in range(10):  # Number of epochs\n",
        "    model.train()\n",
        "    running_loss = 0.0\n",
        "    for inputs, labels in train_loader:\n",
        "        optimizer.zero_grad()\n",
        "        outputs = model(inputs)\n",
        "        loss = criterion(outputs, labels)\n",
        "        loss.backward()\n",
        "        optimizer.step()\n",
        "        running_loss += loss.item()\n",
        "    print(f\"Epoch {epoch+1}, Loss: {running_loss/len(train_loader)}\")\n",
        "\n",
        "# Save the trained model\n",
        "torch.save(model.state_dict(), 'binary_classifier.pth')\n"
      ],
      "metadata": {
        "id": "WSAQSywvYAht",
        "colab": {
          "base_uri": "https://localhost:8080/"
        },
        "outputId": "4fc9236a-9013-4f6d-d9ad-22c6880b0a04"
      },
      "execution_count": 1,
      "outputs": [
        {
          "output_type": "stream",
          "name": "stderr",
          "text": [
            "/usr/local/lib/python3.11/dist-packages/torchvision/models/_utils.py:208: UserWarning: The parameter 'pretrained' is deprecated since 0.13 and may be removed in the future, please use 'weights' instead.\n",
            "  warnings.warn(\n",
            "/usr/local/lib/python3.11/dist-packages/torchvision/models/_utils.py:223: UserWarning: Arguments other than a weight enum or `None` for 'weights' are deprecated since 0.13 and may be removed in the future. The current behavior is equivalent to passing `weights=ResNet18_Weights.IMAGENET1K_V1`. You can also use `weights=ResNet18_Weights.DEFAULT` to get the most up-to-date weights.\n",
            "  warnings.warn(msg)\n",
            "Downloading: \"https://download.pytorch.org/models/resnet18-f37072fd.pth\" to /root/.cache/torch/hub/checkpoints/resnet18-f37072fd.pth\n",
            "100%|██████████| 44.7M/44.7M [00:00<00:00, 76.3MB/s]\n"
          ]
        },
        {
          "output_type": "stream",
          "name": "stdout",
          "text": [
            "Epoch 1, Loss: 0.47656719852238894\n",
            "Epoch 2, Loss: 0.03911927156150341\n",
            "Epoch 3, Loss: 0.006181632335938048\n",
            "Epoch 4, Loss: 0.190326776355505\n",
            "Epoch 5, Loss: 0.1338763148523867\n",
            "Epoch 6, Loss: 0.0878478866070509\n",
            "Epoch 7, Loss: 0.061423072140314616\n",
            "Epoch 8, Loss: 0.12534054985735565\n",
            "Epoch 9, Loss: 0.03860362456180155\n",
            "Epoch 10, Loss: 0.014417482438148\n"
          ]
        }
      ]
    },
    {
      "cell_type": "code",
      "source": [
        "import torch\n",
        "import torch.nn as nn\n",
        "import torchvision.models as models\n",
        "\n",
        "# Define the model (must match training architecture)\n",
        "class BinaryClassifier(nn.Module):\n",
        "    def __init__(self):\n",
        "        super(BinaryClassifier, self).__init__()\n",
        "        self.model = models.resnet18(pretrained=False)  # Use the same architecture\n",
        "        self.model.fc = nn.Linear(512, 2)  # Adjust output layer for binary classification\n",
        "\n",
        "    def forward(self, x):\n",
        "        return self.model(x)\n",
        "\n",
        "# Instantiate the model\n",
        "model = BinaryClassifier()\n",
        "\n"
      ],
      "metadata": {
        "colab": {
          "base_uri": "https://localhost:8080/"
        },
        "id": "xmAFF-lw5J-b",
        "outputId": "289d706e-f29c-40fd-a399-a3cc0793c2ba"
      },
      "execution_count": 3,
      "outputs": [
        {
          "output_type": "stream",
          "name": "stderr",
          "text": [
            "/usr/local/lib/python3.11/dist-packages/torchvision/models/_utils.py:223: UserWarning: Arguments other than a weight enum or `None` for 'weights' are deprecated since 0.13 and may be removed in the future. The current behavior is equivalent to passing `weights=None`.\n",
            "  warnings.warn(msg)\n"
          ]
        }
      ]
    },
    {
      "source": [
        "# Load the state dictionary with key remapping\n",
        "state_dict = torch.load(\"/content/binary_classifier.pth\", map_location=torch.device('cpu'))\n",
        "\n",
        "# Create a new state dictionary with the correct keys\n",
        "new_state_dict = {}\n",
        "for k, v in state_dict.items():\n",
        "    new_state_dict['model.' + k] = v  # Add 'model.' prefix to keys\n",
        "\n",
        "# Load the remapped state dictionary into the model\n",
        "model.load_state_dict(new_state_dict, strict=False)\n",
        "# strict=False to ignore missing keys (e.g., num_batches_tracked)\n",
        "\n",
        "model.eval()  # Set to evaluation mode"
      ],
      "cell_type": "code",
      "metadata": {
        "colab": {
          "base_uri": "https://localhost:8080/"
        },
        "id": "1oZ2dyUb5hVs",
        "outputId": "751abbd2-1fb4-4b0a-db8c-df8fe3e522f2"
      },
      "execution_count": 5,
      "outputs": [
        {
          "output_type": "stream",
          "name": "stderr",
          "text": [
            "<ipython-input-5-ee168ac476fb>:2: FutureWarning: You are using `torch.load` with `weights_only=False` (the current default value), which uses the default pickle module implicitly. It is possible to construct malicious pickle data which will execute arbitrary code during unpickling (See https://github.com/pytorch/pytorch/blob/main/SECURITY.md#untrusted-models for more details). In a future release, the default value for `weights_only` will be flipped to `True`. This limits the functions that could be executed during unpickling. Arbitrary objects will no longer be allowed to be loaded via this mode unless they are explicitly allowlisted by the user via `torch.serialization.add_safe_globals`. We recommend you start setting `weights_only=True` for any use case where you don't have full control of the loaded file. Please open an issue on GitHub for any issues related to this experimental feature.\n",
            "  state_dict = torch.load(\"/content/binary_classifier.pth\", map_location=torch.device('cpu'))\n"
          ]
        },
        {
          "output_type": "execute_result",
          "data": {
            "text/plain": [
              "BinaryClassifier(\n",
              "  (model): ResNet(\n",
              "    (conv1): Conv2d(3, 64, kernel_size=(7, 7), stride=(2, 2), padding=(3, 3), bias=False)\n",
              "    (bn1): BatchNorm2d(64, eps=1e-05, momentum=0.1, affine=True, track_running_stats=True)\n",
              "    (relu): ReLU(inplace=True)\n",
              "    (maxpool): MaxPool2d(kernel_size=3, stride=2, padding=1, dilation=1, ceil_mode=False)\n",
              "    (layer1): Sequential(\n",
              "      (0): BasicBlock(\n",
              "        (conv1): Conv2d(64, 64, kernel_size=(3, 3), stride=(1, 1), padding=(1, 1), bias=False)\n",
              "        (bn1): BatchNorm2d(64, eps=1e-05, momentum=0.1, affine=True, track_running_stats=True)\n",
              "        (relu): ReLU(inplace=True)\n",
              "        (conv2): Conv2d(64, 64, kernel_size=(3, 3), stride=(1, 1), padding=(1, 1), bias=False)\n",
              "        (bn2): BatchNorm2d(64, eps=1e-05, momentum=0.1, affine=True, track_running_stats=True)\n",
              "      )\n",
              "      (1): BasicBlock(\n",
              "        (conv1): Conv2d(64, 64, kernel_size=(3, 3), stride=(1, 1), padding=(1, 1), bias=False)\n",
              "        (bn1): BatchNorm2d(64, eps=1e-05, momentum=0.1, affine=True, track_running_stats=True)\n",
              "        (relu): ReLU(inplace=True)\n",
              "        (conv2): Conv2d(64, 64, kernel_size=(3, 3), stride=(1, 1), padding=(1, 1), bias=False)\n",
              "        (bn2): BatchNorm2d(64, eps=1e-05, momentum=0.1, affine=True, track_running_stats=True)\n",
              "      )\n",
              "    )\n",
              "    (layer2): Sequential(\n",
              "      (0): BasicBlock(\n",
              "        (conv1): Conv2d(64, 128, kernel_size=(3, 3), stride=(2, 2), padding=(1, 1), bias=False)\n",
              "        (bn1): BatchNorm2d(128, eps=1e-05, momentum=0.1, affine=True, track_running_stats=True)\n",
              "        (relu): ReLU(inplace=True)\n",
              "        (conv2): Conv2d(128, 128, kernel_size=(3, 3), stride=(1, 1), padding=(1, 1), bias=False)\n",
              "        (bn2): BatchNorm2d(128, eps=1e-05, momentum=0.1, affine=True, track_running_stats=True)\n",
              "        (downsample): Sequential(\n",
              "          (0): Conv2d(64, 128, kernel_size=(1, 1), stride=(2, 2), bias=False)\n",
              "          (1): BatchNorm2d(128, eps=1e-05, momentum=0.1, affine=True, track_running_stats=True)\n",
              "        )\n",
              "      )\n",
              "      (1): BasicBlock(\n",
              "        (conv1): Conv2d(128, 128, kernel_size=(3, 3), stride=(1, 1), padding=(1, 1), bias=False)\n",
              "        (bn1): BatchNorm2d(128, eps=1e-05, momentum=0.1, affine=True, track_running_stats=True)\n",
              "        (relu): ReLU(inplace=True)\n",
              "        (conv2): Conv2d(128, 128, kernel_size=(3, 3), stride=(1, 1), padding=(1, 1), bias=False)\n",
              "        (bn2): BatchNorm2d(128, eps=1e-05, momentum=0.1, affine=True, track_running_stats=True)\n",
              "      )\n",
              "    )\n",
              "    (layer3): Sequential(\n",
              "      (0): BasicBlock(\n",
              "        (conv1): Conv2d(128, 256, kernel_size=(3, 3), stride=(2, 2), padding=(1, 1), bias=False)\n",
              "        (bn1): BatchNorm2d(256, eps=1e-05, momentum=0.1, affine=True, track_running_stats=True)\n",
              "        (relu): ReLU(inplace=True)\n",
              "        (conv2): Conv2d(256, 256, kernel_size=(3, 3), stride=(1, 1), padding=(1, 1), bias=False)\n",
              "        (bn2): BatchNorm2d(256, eps=1e-05, momentum=0.1, affine=True, track_running_stats=True)\n",
              "        (downsample): Sequential(\n",
              "          (0): Conv2d(128, 256, kernel_size=(1, 1), stride=(2, 2), bias=False)\n",
              "          (1): BatchNorm2d(256, eps=1e-05, momentum=0.1, affine=True, track_running_stats=True)\n",
              "        )\n",
              "      )\n",
              "      (1): BasicBlock(\n",
              "        (conv1): Conv2d(256, 256, kernel_size=(3, 3), stride=(1, 1), padding=(1, 1), bias=False)\n",
              "        (bn1): BatchNorm2d(256, eps=1e-05, momentum=0.1, affine=True, track_running_stats=True)\n",
              "        (relu): ReLU(inplace=True)\n",
              "        (conv2): Conv2d(256, 256, kernel_size=(3, 3), stride=(1, 1), padding=(1, 1), bias=False)\n",
              "        (bn2): BatchNorm2d(256, eps=1e-05, momentum=0.1, affine=True, track_running_stats=True)\n",
              "      )\n",
              "    )\n",
              "    (layer4): Sequential(\n",
              "      (0): BasicBlock(\n",
              "        (conv1): Conv2d(256, 512, kernel_size=(3, 3), stride=(2, 2), padding=(1, 1), bias=False)\n",
              "        (bn1): BatchNorm2d(512, eps=1e-05, momentum=0.1, affine=True, track_running_stats=True)\n",
              "        (relu): ReLU(inplace=True)\n",
              "        (conv2): Conv2d(512, 512, kernel_size=(3, 3), stride=(1, 1), padding=(1, 1), bias=False)\n",
              "        (bn2): BatchNorm2d(512, eps=1e-05, momentum=0.1, affine=True, track_running_stats=True)\n",
              "        (downsample): Sequential(\n",
              "          (0): Conv2d(256, 512, kernel_size=(1, 1), stride=(2, 2), bias=False)\n",
              "          (1): BatchNorm2d(512, eps=1e-05, momentum=0.1, affine=True, track_running_stats=True)\n",
              "        )\n",
              "      )\n",
              "      (1): BasicBlock(\n",
              "        (conv1): Conv2d(512, 512, kernel_size=(3, 3), stride=(1, 1), padding=(1, 1), bias=False)\n",
              "        (bn1): BatchNorm2d(512, eps=1e-05, momentum=0.1, affine=True, track_running_stats=True)\n",
              "        (relu): ReLU(inplace=True)\n",
              "        (conv2): Conv2d(512, 512, kernel_size=(3, 3), stride=(1, 1), padding=(1, 1), bias=False)\n",
              "        (bn2): BatchNorm2d(512, eps=1e-05, momentum=0.1, affine=True, track_running_stats=True)\n",
              "      )\n",
              "    )\n",
              "    (avgpool): AdaptiveAvgPool2d(output_size=(1, 1))\n",
              "    (fc): Linear(in_features=512, out_features=2, bias=True)\n",
              "  )\n",
              ")"
            ]
          },
          "metadata": {},
          "execution_count": 5
        }
      ]
    },
    {
      "cell_type": "markdown",
      "source": [
        "The image is resized to match the input size of the model.\n",
        "It is normalized using ImageNet mean and std (modify if trained differently).\n",
        "The model predicts a class (0 = Non-Cancer, 1 = Cancer).\n",
        "Ensure the class labels match your dataset."
      ],
      "metadata": {
        "id": "wl_vjk7h6Y3m"
      }
    },
    {
      "cell_type": "code",
      "source": [
        "import torch\n",
        "import torchvision.transforms as transforms\n",
        "from PIL import Image\n",
        "\n",
        "# Define preprocessing for the input image\n",
        "transform = transforms.Compose([\n",
        "    transforms.Resize((224, 224)),  # Resize to match model input\n",
        "    transforms.ToTensor(),\n",
        "    transforms.Normalize(mean=[0.485, 0.456, 0.406], std=[0.229, 0.224, 0.225])\n",
        "])\n",
        "\n",
        "# Load the test image\n",
        "image_path = \"/content/drive/MyDrive/oralcancerdatasets/valid/Noncancer/197.jpeg\"  # Replace with actual test image path\n",
        "image = Image.open(image_path).convert('RGB')\n",
        "input_tensor = transform(image).unsqueeze(0)  # Add batch dimension\n",
        "\n",
        "# Make prediction\n",
        "with torch.no_grad():\n",
        "    output = model(input_tensor)\n",
        "    prediction = torch.argmax(output, dim=1).item()  # Get predicted class\n",
        "\n",
        "# Interpret the result\n",
        "if prediction == 1:  # Assuming class 1 is \"Cancer\"\n",
        "    print(\"The image is predicted as: Non-Cancer\")\n",
        "else:\n",
        "    print(\"The image is predicted as: Cancer\")\n"
      ],
      "metadata": {
        "colab": {
          "base_uri": "https://localhost:8080/"
        },
        "id": "6G6niPc_50Rt",
        "outputId": "a2cdf76e-1480-4c20-d734-d038cf45f901"
      },
      "execution_count": 11,
      "outputs": [
        {
          "output_type": "stream",
          "name": "stdout",
          "text": [
            "The image is predicted as: Non-Cancer\n"
          ]
        }
      ]
    },
    {
      "cell_type": "code",
      "source": [
        "import torch\n",
        "\n",
        "# Load the state dictionary\n",
        "state_dict = torch.load(\"/content/binary_classifier.pth\", map_location=torch.device('cpu'))\n",
        "\n",
        "# Check if it's a full model or just weights\n",
        "if isinstance(state_dict, dict) and 'model' in state_dict:\n",
        "    model = state_dict['model']  # Extract model if stored as a dictionary\n",
        "else:\n",
        "    model = torch.nn.Sequential()  # Default empty model to hold the state\n",
        "\n",
        "try:\n",
        "    model.load_state_dict(state_dict, strict=False)  # Load weights\n",
        "    print(model)  # Print architecture\n",
        "except Exception as e:\n",
        "    print(\"Error loading model:\", e)\n"
      ],
      "metadata": {
        "colab": {
          "base_uri": "https://localhost:8080/"
        },
        "id": "7bN2V9xX6a0m",
        "outputId": "e5b4c423-879e-42cb-954a-8da3136cf8c0"
      },
      "execution_count": 12,
      "outputs": [
        {
          "output_type": "stream",
          "name": "stdout",
          "text": [
            "Sequential()\n"
          ]
        },
        {
          "output_type": "stream",
          "name": "stderr",
          "text": [
            "<ipython-input-12-761d86b894ed>:4: FutureWarning: You are using `torch.load` with `weights_only=False` (the current default value), which uses the default pickle module implicitly. It is possible to construct malicious pickle data which will execute arbitrary code during unpickling (See https://github.com/pytorch/pytorch/blob/main/SECURITY.md#untrusted-models for more details). In a future release, the default value for `weights_only` will be flipped to `True`. This limits the functions that could be executed during unpickling. Arbitrary objects will no longer be allowed to be loaded via this mode unless they are explicitly allowlisted by the user via `torch.serialization.add_safe_globals`. We recommend you start setting `weights_only=True` for any use case where you don't have full control of the loaded file. Please open an issue on GitHub for any issues related to this experimental feature.\n",
            "  state_dict = torch.load(\"/content/binary_classifier.pth\", map_location=torch.device('cpu'))\n"
          ]
        }
      ]
    },
    {
      "cell_type": "code",
      "source": [
        "import torchvision.models as models\n",
        "\n",
        "model = models.resnet18(pretrained=False)  # Replace resnet18 with the actual model you used\n",
        "model.fc = nn.Linear(model.fc.in_features, 2)  # Modify the last layer for binary classification\n",
        "\n",
        "# Load Weights\n",
        "state_dict = torch.load(\"/content/binary_classifier.pth\", map_location=torch.device('cpu'))\n",
        "model.load_state_dict(state_dict)\n",
        "model.eval()\n",
        "\n",
        "print(model)  # Check the model structure\n"
      ],
      "metadata": {
        "colab": {
          "base_uri": "https://localhost:8080/"
        },
        "id": "bb6SBdri63Ty",
        "outputId": "e1be95c1-6cf6-4d41-96b1-b58bd9ef4032"
      },
      "execution_count": 13,
      "outputs": [
        {
          "output_type": "stream",
          "name": "stderr",
          "text": [
            "/usr/local/lib/python3.11/dist-packages/torchvision/models/_utils.py:208: UserWarning: The parameter 'pretrained' is deprecated since 0.13 and may be removed in the future, please use 'weights' instead.\n",
            "  warnings.warn(\n",
            "/usr/local/lib/python3.11/dist-packages/torchvision/models/_utils.py:223: UserWarning: Arguments other than a weight enum or `None` for 'weights' are deprecated since 0.13 and may be removed in the future. The current behavior is equivalent to passing `weights=None`.\n",
            "  warnings.warn(msg)\n",
            "<ipython-input-13-f6eb06f77612>:7: FutureWarning: You are using `torch.load` with `weights_only=False` (the current default value), which uses the default pickle module implicitly. It is possible to construct malicious pickle data which will execute arbitrary code during unpickling (See https://github.com/pytorch/pytorch/blob/main/SECURITY.md#untrusted-models for more details). In a future release, the default value for `weights_only` will be flipped to `True`. This limits the functions that could be executed during unpickling. Arbitrary objects will no longer be allowed to be loaded via this mode unless they are explicitly allowlisted by the user via `torch.serialization.add_safe_globals`. We recommend you start setting `weights_only=True` for any use case where you don't have full control of the loaded file. Please open an issue on GitHub for any issues related to this experimental feature.\n",
            "  state_dict = torch.load(\"/content/binary_classifier.pth\", map_location=torch.device('cpu'))\n"
          ]
        },
        {
          "output_type": "stream",
          "name": "stdout",
          "text": [
            "ResNet(\n",
            "  (conv1): Conv2d(3, 64, kernel_size=(7, 7), stride=(2, 2), padding=(3, 3), bias=False)\n",
            "  (bn1): BatchNorm2d(64, eps=1e-05, momentum=0.1, affine=True, track_running_stats=True)\n",
            "  (relu): ReLU(inplace=True)\n",
            "  (maxpool): MaxPool2d(kernel_size=3, stride=2, padding=1, dilation=1, ceil_mode=False)\n",
            "  (layer1): Sequential(\n",
            "    (0): BasicBlock(\n",
            "      (conv1): Conv2d(64, 64, kernel_size=(3, 3), stride=(1, 1), padding=(1, 1), bias=False)\n",
            "      (bn1): BatchNorm2d(64, eps=1e-05, momentum=0.1, affine=True, track_running_stats=True)\n",
            "      (relu): ReLU(inplace=True)\n",
            "      (conv2): Conv2d(64, 64, kernel_size=(3, 3), stride=(1, 1), padding=(1, 1), bias=False)\n",
            "      (bn2): BatchNorm2d(64, eps=1e-05, momentum=0.1, affine=True, track_running_stats=True)\n",
            "    )\n",
            "    (1): BasicBlock(\n",
            "      (conv1): Conv2d(64, 64, kernel_size=(3, 3), stride=(1, 1), padding=(1, 1), bias=False)\n",
            "      (bn1): BatchNorm2d(64, eps=1e-05, momentum=0.1, affine=True, track_running_stats=True)\n",
            "      (relu): ReLU(inplace=True)\n",
            "      (conv2): Conv2d(64, 64, kernel_size=(3, 3), stride=(1, 1), padding=(1, 1), bias=False)\n",
            "      (bn2): BatchNorm2d(64, eps=1e-05, momentum=0.1, affine=True, track_running_stats=True)\n",
            "    )\n",
            "  )\n",
            "  (layer2): Sequential(\n",
            "    (0): BasicBlock(\n",
            "      (conv1): Conv2d(64, 128, kernel_size=(3, 3), stride=(2, 2), padding=(1, 1), bias=False)\n",
            "      (bn1): BatchNorm2d(128, eps=1e-05, momentum=0.1, affine=True, track_running_stats=True)\n",
            "      (relu): ReLU(inplace=True)\n",
            "      (conv2): Conv2d(128, 128, kernel_size=(3, 3), stride=(1, 1), padding=(1, 1), bias=False)\n",
            "      (bn2): BatchNorm2d(128, eps=1e-05, momentum=0.1, affine=True, track_running_stats=True)\n",
            "      (downsample): Sequential(\n",
            "        (0): Conv2d(64, 128, kernel_size=(1, 1), stride=(2, 2), bias=False)\n",
            "        (1): BatchNorm2d(128, eps=1e-05, momentum=0.1, affine=True, track_running_stats=True)\n",
            "      )\n",
            "    )\n",
            "    (1): BasicBlock(\n",
            "      (conv1): Conv2d(128, 128, kernel_size=(3, 3), stride=(1, 1), padding=(1, 1), bias=False)\n",
            "      (bn1): BatchNorm2d(128, eps=1e-05, momentum=0.1, affine=True, track_running_stats=True)\n",
            "      (relu): ReLU(inplace=True)\n",
            "      (conv2): Conv2d(128, 128, kernel_size=(3, 3), stride=(1, 1), padding=(1, 1), bias=False)\n",
            "      (bn2): BatchNorm2d(128, eps=1e-05, momentum=0.1, affine=True, track_running_stats=True)\n",
            "    )\n",
            "  )\n",
            "  (layer3): Sequential(\n",
            "    (0): BasicBlock(\n",
            "      (conv1): Conv2d(128, 256, kernel_size=(3, 3), stride=(2, 2), padding=(1, 1), bias=False)\n",
            "      (bn1): BatchNorm2d(256, eps=1e-05, momentum=0.1, affine=True, track_running_stats=True)\n",
            "      (relu): ReLU(inplace=True)\n",
            "      (conv2): Conv2d(256, 256, kernel_size=(3, 3), stride=(1, 1), padding=(1, 1), bias=False)\n",
            "      (bn2): BatchNorm2d(256, eps=1e-05, momentum=0.1, affine=True, track_running_stats=True)\n",
            "      (downsample): Sequential(\n",
            "        (0): Conv2d(128, 256, kernel_size=(1, 1), stride=(2, 2), bias=False)\n",
            "        (1): BatchNorm2d(256, eps=1e-05, momentum=0.1, affine=True, track_running_stats=True)\n",
            "      )\n",
            "    )\n",
            "    (1): BasicBlock(\n",
            "      (conv1): Conv2d(256, 256, kernel_size=(3, 3), stride=(1, 1), padding=(1, 1), bias=False)\n",
            "      (bn1): BatchNorm2d(256, eps=1e-05, momentum=0.1, affine=True, track_running_stats=True)\n",
            "      (relu): ReLU(inplace=True)\n",
            "      (conv2): Conv2d(256, 256, kernel_size=(3, 3), stride=(1, 1), padding=(1, 1), bias=False)\n",
            "      (bn2): BatchNorm2d(256, eps=1e-05, momentum=0.1, affine=True, track_running_stats=True)\n",
            "    )\n",
            "  )\n",
            "  (layer4): Sequential(\n",
            "    (0): BasicBlock(\n",
            "      (conv1): Conv2d(256, 512, kernel_size=(3, 3), stride=(2, 2), padding=(1, 1), bias=False)\n",
            "      (bn1): BatchNorm2d(512, eps=1e-05, momentum=0.1, affine=True, track_running_stats=True)\n",
            "      (relu): ReLU(inplace=True)\n",
            "      (conv2): Conv2d(512, 512, kernel_size=(3, 3), stride=(1, 1), padding=(1, 1), bias=False)\n",
            "      (bn2): BatchNorm2d(512, eps=1e-05, momentum=0.1, affine=True, track_running_stats=True)\n",
            "      (downsample): Sequential(\n",
            "        (0): Conv2d(256, 512, kernel_size=(1, 1), stride=(2, 2), bias=False)\n",
            "        (1): BatchNorm2d(512, eps=1e-05, momentum=0.1, affine=True, track_running_stats=True)\n",
            "      )\n",
            "    )\n",
            "    (1): BasicBlock(\n",
            "      (conv1): Conv2d(512, 512, kernel_size=(3, 3), stride=(1, 1), padding=(1, 1), bias=False)\n",
            "      (bn1): BatchNorm2d(512, eps=1e-05, momentum=0.1, affine=True, track_running_stats=True)\n",
            "      (relu): ReLU(inplace=True)\n",
            "      (conv2): Conv2d(512, 512, kernel_size=(3, 3), stride=(1, 1), padding=(1, 1), bias=False)\n",
            "      (bn2): BatchNorm2d(512, eps=1e-05, momentum=0.1, affine=True, track_running_stats=True)\n",
            "    )\n",
            "  )\n",
            "  (avgpool): AdaptiveAvgPool2d(output_size=(1, 1))\n",
            "  (fc): Linear(in_features=512, out_features=2, bias=True)\n",
            ")\n"
          ]
        }
      ]
    }
  ]
}